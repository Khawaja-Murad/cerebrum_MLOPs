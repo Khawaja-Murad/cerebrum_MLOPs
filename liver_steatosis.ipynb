{
  "nbformat": 4,
  "nbformat_minor": 0,
  "metadata": {
    "colab": {
      "provenance": [],
      "gpuType": "T4",
      "authorship_tag": "ABX9TyOzAndiOBgDe8hBkv99sHfF",
      "include_colab_link": true
    },
    "kernelspec": {
      "name": "python3",
      "display_name": "Python 3"
    },
    "language_info": {
      "name": "python"
    },
    "accelerator": "GPU"
  },
  "cells": [
    {
      "cell_type": "markdown",
      "metadata": {
        "id": "view-in-github",
        "colab_type": "text"
      },
      "source": [
        "<a href=\"https://colab.research.google.com/github/Khawaja-Murad/cerebrum_MLOPs/blob/main/liver_steatosis.ipynb\" target=\"_parent\"><img src=\"https://colab.research.google.com/assets/colab-badge.svg\" alt=\"Open In Colab\"/></a>"
      ]
    },
    {
      "cell_type": "code",
      "source": [
        "!pip install -q focal-loss torchmetrics"
      ],
      "metadata": {
        "colab": {
          "base_uri": "https://localhost:8080/"
        },
        "id": "q5_Tl_56HGO-",
        "outputId": "7bfa94f2-0770-4c71-aeeb-12b258e1b8f2"
      },
      "execution_count": 1,
      "outputs": [
        {
          "output_type": "stream",
          "name": "stdout",
          "text": [
            "\u001b[2K   \u001b[90m━━━━━━━━━━━━━━━━━━━━━━━━━━━━━━━━━━━━━━━━\u001b[0m \u001b[32m962.6/962.6 kB\u001b[0m \u001b[31m18.5 MB/s\u001b[0m eta \u001b[36m0:00:00\u001b[0m\n",
            "\u001b[2K   \u001b[90m━━━━━━━━━━━━━━━━━━━━━━━━━━━━━━━━━━━━━━━━\u001b[0m \u001b[32m363.4/363.4 MB\u001b[0m \u001b[31m3.2 MB/s\u001b[0m eta \u001b[36m0:00:00\u001b[0m\n",
            "\u001b[2K   \u001b[90m━━━━━━━━━━━━━━━━━━━━━━━━━━━━━━━━━━━━━━━━\u001b[0m \u001b[32m13.8/13.8 MB\u001b[0m \u001b[31m26.1 MB/s\u001b[0m eta \u001b[36m0:00:00\u001b[0m\n",
            "\u001b[2K   \u001b[90m━━━━━━━━━━━━━━━━━━━━━━━━━━━━━━━━━━━━━━━━\u001b[0m \u001b[32m24.6/24.6 MB\u001b[0m \u001b[31m21.8 MB/s\u001b[0m eta \u001b[36m0:00:00\u001b[0m\n",
            "\u001b[2K   \u001b[90m━━━━━━━━━━━━━━━━━━━━━━━━━━━━━━━━━━━━━━━━\u001b[0m \u001b[32m883.7/883.7 kB\u001b[0m \u001b[31m20.7 MB/s\u001b[0m eta \u001b[36m0:00:00\u001b[0m\n",
            "\u001b[2K   \u001b[90m━━━━━━━━━━━━━━━━━━━━━━━━━━━━━━━━━━━━━━━━\u001b[0m \u001b[32m664.8/664.8 MB\u001b[0m \u001b[31m2.0 MB/s\u001b[0m eta \u001b[36m0:00:00\u001b[0m\n",
            "\u001b[2K   \u001b[90m━━━━━━━━━━━━━━━━━━━━━━━━━━━━━━━━━━━━━━━━\u001b[0m \u001b[32m211.5/211.5 MB\u001b[0m \u001b[31m5.2 MB/s\u001b[0m eta \u001b[36m0:00:00\u001b[0m\n",
            "\u001b[2K   \u001b[90m━━━━━━━━━━━━━━━━━━━━━━━━━━━━━━━━━━━━━━━━\u001b[0m \u001b[32m56.3/56.3 MB\u001b[0m \u001b[31m18.0 MB/s\u001b[0m eta \u001b[36m0:00:00\u001b[0m\n",
            "\u001b[2K   \u001b[90m━━━━━━━━━━━━━━━━━━━━━━━━━━━━━━━━━━━━━━━━\u001b[0m \u001b[32m127.9/127.9 MB\u001b[0m \u001b[31m9.4 MB/s\u001b[0m eta \u001b[36m0:00:00\u001b[0m\n",
            "\u001b[2K   \u001b[90m━━━━━━━━━━━━━━━━━━━━━━━━━━━━━━━━━━━━━━━━\u001b[0m \u001b[32m207.5/207.5 MB\u001b[0m \u001b[31m3.8 MB/s\u001b[0m eta \u001b[36m0:00:00\u001b[0m\n",
            "\u001b[2K   \u001b[90m━━━━━━━━━━━━━━━━━━━━━━━━━━━━━━━━━━━━━━━━\u001b[0m \u001b[32m21.1/21.1 MB\u001b[0m \u001b[31m37.1 MB/s\u001b[0m eta \u001b[36m0:00:00\u001b[0m\n",
            "\u001b[?25h"
          ]
        }
      ]
    },
    {
      "cell_type": "code",
      "source": [
        "import scipy.io as sio\n",
        "import numpy as np\n",
        "from PIL import Image\n",
        "import torch\n",
        "import torch.nn as nn\n",
        "import torch.optim as optim\n",
        "from torch.optim.lr_scheduler import CosineAnnealingLR, ReduceLROnPlateau, LambdaLR\n",
        "from torch.utils.data import Dataset, DataLoader, random_split, Subset, WeightedRandomSampler\n",
        "from torchvision import transforms\n",
        "import timm\n",
        "import albumentations as A\n",
        "from albumentations.pytorch import ToTensorV2\n",
        "from sklearn.metrics import accuracy_score, f1_score, mean_absolute_error, r2_score, confusion_matrix, precision_score, recall_score, roc_curve\n",
        "from sklearn.model_selection import StratifiedKFold, train_test_split\n",
        "import pandas as pd\n",
        "import matplotlib.pyplot as plt\n",
        "import seaborn as sns\n",
        "import random\n",
        "import cv2\n",
        "import os\n",
        "import time\n",
        "import math\n",
        "from torch.cuda.amp import GradScaler, autocast\n",
        "from torch.nn.modules.loss import _Loss\n",
        "import torch.nn.functional as F\n",
        "from timm.layers import DropPath\n",
        "\n",
        "# Create directory for saving results\n",
        "timestamp = time.strftime(\"%Y%m%d_%H%M%S\")\n",
        "results_dir = f'results_{timestamp}'\n",
        "os.makedirs(results_dir, exist_ok=True)\n",
        "\n",
        "# 1. Enhanced Data Loading with Stratified Splitting\n",
        "MAT_PATH = '/content/dataset_liver_bmodes_steatosis_assessment_IJCARS.mat'\n",
        "mat = sio.loadmat(MAT_PATH)\n",
        "data_all = mat['data']\n",
        "\n",
        "all_vols, all_classes, all_fats = [], [], []\n",
        "for j in range(data_all.shape[1]):\n",
        "    ds = data_all[0, j]\n",
        "    all_vols.append(ds['images'])\n",
        "    all_classes.append(int(ds['class'].squeeze()))\n",
        "    all_fats.append(float(ds['fat'].squeeze()))\n",
        "\n",
        "all_vols = np.stack(all_vols, axis=0)\n",
        "all_classes = np.array(all_classes)\n",
        "all_fats = np.array(all_fats, dtype=np.float32)\n",
        "\n",
        "# ========================================================================\n",
        "# Data Analysis Section\n",
        "# ========================================================================\n",
        "\n",
        "def analyze_class_distribution(classes):\n",
        "    class_counts = np.bincount(classes)\n",
        "    total = len(classes)\n",
        "    print(\"\\n\" + \"=\"*50)\n",
        "    print(\"Class Distribution Analysis\")\n",
        "    print(\"=\"*50)\n",
        "    print(f\"Class 0 (Healthy): {class_counts[0]} samples ({class_counts[0]/total*100:.2f}%)\")\n",
        "    print(f\"Class 1 (Diseased): {class_counts[1]} samples ({class_counts[1]/total*100:.2f}%)\")\n",
        "    print(f\"Imbalance Ratio: {class_counts[1]/class_counts[0]:.2f}:1\")\n",
        "\n",
        "    # Visualize distribution\n",
        "    plt.figure(figsize=(8, 6))\n",
        "    sns.countplot(x=classes)\n",
        "    plt.title(\"Class Distribution\")\n",
        "    plt.xlabel(\"Class\")\n",
        "    plt.ylabel(\"Count\")\n",
        "    plt.savefig(os.path.join(results_dir, 'class_distribution.png'))\n",
        "    plt.show()\n",
        "    return class_counts\n",
        "\n",
        "def analyze_fat_distribution(fats, classes):\n",
        "    print(\"\\n\" + \"=\"*50)\n",
        "    print(\"Fat Percentage Distribution Analysis\")\n",
        "    print(\"=\"*50)\n",
        "\n",
        "    # Basic statistics\n",
        "    print(f\"Min Fat: {fats.min():.2f}%\")\n",
        "    print(f\"Max Fat: {fats.max():.2f}%\")\n",
        "    print(f\"Mean Fat: {fats.mean():.2f}%\")\n",
        "    print(f\"Median Fat: {np.median(fats):.2f}%\")\n",
        "\n",
        "    # Distribution by class\n",
        "    class_0_fats = fats[classes == 0]\n",
        "    class_1_fats = fats[classes == 1]\n",
        "\n",
        "    print(\"\\nFat Distribution by Class:\")\n",
        "    print(f\"Class 0 (Healthy): Min={class_0_fats.min():.2f}%, Max={class_0_fats.max():.2f}%, \"\n",
        "          f\"Mean={class_0_fats.mean():.2f}%\")\n",
        "    print(f\"Class 1 (Diseased): Min={class_1_fats.min():.2f}%, Max={class_1_fats.max():.2f}%, \"\n",
        "          f\"Mean={class_1_fats.mean():.2f}%\")\n",
        "\n",
        "    # Visualize distribution\n",
        "    plt.figure(figsize=(12, 6))\n",
        "\n",
        "    plt.subplot(1, 2, 1)\n",
        "    sns.histplot(fats, kde=True)\n",
        "    plt.title(\"Overall Fat Percentage Distribution\")\n",
        "    plt.xlabel(\"Fat Percentage\")\n",
        "\n",
        "    plt.subplot(1, 2, 2)\n",
        "    sns.histplot(class_0_fats, color='blue', label='Class 0', kde=True, alpha=0.5)\n",
        "    sns.histplot(class_1_fats, color='red', label='Class 1', kde=True, alpha=0.5)\n",
        "    plt.title(\"Fat Distribution by Class\")\n",
        "    plt.xlabel(\"Fat Percentage\")\n",
        "    plt.legend()\n",
        "\n",
        "    plt.tight_layout()\n",
        "    plt.savefig(os.path.join(results_dir, 'fat_distribution.png'))\n",
        "    plt.show()\n",
        "\n",
        "    # Check for values near 100%\n",
        "    near_100 = fats[fats > 90]\n",
        "    print(f\"\\nSamples with fat > 90%: {len(near_100)} ({len(near_100)/len(fats)*100:.2f}%)\")\n",
        "\n",
        "    return fats.min(), fats.max()\n",
        "\n",
        "# Run analysis\n",
        "class_counts = analyze_class_distribution(all_classes)\n",
        "fat_min, fat_max = analyze_fat_distribution(all_fats, all_classes)\n"
      ],
      "metadata": {
        "colab": {
          "base_uri": "https://localhost:8080/",
          "height": 1000
        },
        "id": "RINw0aS1Z2OU",
        "outputId": "ccabe74b-1bc3-4680-e400-a76733ea1254"
      },
      "execution_count": 2,
      "outputs": [
        {
          "output_type": "stream",
          "name": "stdout",
          "text": [
            "\n",
            "==================================================\n",
            "Class Distribution Analysis\n",
            "==================================================\n",
            "Class 0 (Healthy): 17 samples (30.91%)\n",
            "Class 1 (Diseased): 38 samples (69.09%)\n",
            "Imbalance Ratio: 2.24:1\n"
          ]
        },
        {
          "output_type": "display_data",
          "data": {
            "text/plain": [
              "<Figure size 800x600 with 1 Axes>"
            ],
            "image/png": "[encoded data removed]"
          },
          "metadata": {}
        },
        {
          "output_type": "stream",
          "name": "stdout",
          "text": [
            "\n",
            "==================================================\n",
            "Fat Percentage Distribution Analysis\n",
            "==================================================\n",
            "Min Fat: 0.00%\n",
            "Max Fat: 85.00%\n",
            "Mean Fat: 27.25%\n",
            "Median Fat: 20.00%\n",
            "\n",
            "Fat Distribution by Class:\n",
            "Class 0 (Healthy): Min=0.00%, Max=4.00%, Mean=1.88%\n",
            "Class 1 (Diseased): Min=5.00%, Max=85.00%, Mean=38.61%\n"
          ]
        },
        {
          "output_type": "display_data",
          "data": {
            "text/plain": [
              "<Figure size 1200x600 with 2 Axes>"
            ],
            "image/png": "[encoded data removed]"
          },
          "metadata": {}
        },
        {
          "output_type": "stream",
          "name": "stdout",
          "text": [
            "\n",
            "Samples with fat > 90%: 0 (0.00%)\n"
          ]
        }
      ]
    },
    {
      "cell_type": "code",
      "source": [
        "\n",
        "# ========================================================================\n",
        "# Data Scaling and Splitting\n",
        "# ========================================================================\n",
        "\n",
        "class FatScaler:\n",
        "    def __init__(self, min_val, max_val):\n",
        "        self.min = min_val\n",
        "        self.range = max_val - min_val\n",
        "\n",
        "    def scale(self, fat):\n",
        "        return (fat - self.min) / self.range\n",
        "\n",
        "    def descale(self, scaled):\n",
        "        return scaled * self.range + self.min\n",
        "\n",
        "# Create scaler based on full dataset\n",
        "fat_scaler = FatScaler(fat_min, fat_max)\n",
        "scaled_fats = fat_scaler.scale(all_fats)\n",
        "\n",
        "# Split data into train+val (80%) and test (20%)\n",
        "train_val_idx, test_idx = train_test_split(\n",
        "    np.arange(len(all_classes)),\n",
        "    test_size=0.2,\n",
        "    stratify=all_classes,\n",
        "    random_state=42\n",
        ")\n",
        "\n",
        "train_val_vols = all_vols[train_val_idx]\n",
        "train_val_classes = all_classes[train_val_idx]\n",
        "train_val_fats = scaled_fats[train_val_idx]  # Use scaled fats\n",
        "\n",
        "test_vols = all_vols[test_idx]\n",
        "test_classes = all_classes[test_idx]\n",
        "test_fats = scaled_fats[test_idx]  # Use scaled fats\n",
        "\n",
        "# ========================================================================\n",
        "# Dataset and Transformation\n",
        "# ========================================================================\n",
        "\n",
        "def create_transforms(img_size=224):\n",
        "    train_transform = A.Compose([\n",
        "        A.Resize(img_size, img_size),\n",
        "        A.OneOf([\n",
        "            A.HorizontalFlip(p=0.7),\n",
        "            A.VerticalFlip(p=0.3),\n",
        "            A.Rotate(limit=25, p=0.5),\n",
        "        ], p=0.8),\n",
        "        A.OneOf([\n",
        "            A.RandomBrightnessContrast(brightness_limit=0.3, contrast_limit=0.3, p=0.5),\n",
        "            A.CLAHE(clip_limit=4.0, tile_grid_size=(8, 8), p=0.3),\n",
        "            A.RandomGamma(gamma_limit=(80, 120), p=0.2),\n",
        "        ], p=0.5),\n",
        "        A.OneOf([\n",
        "            A.GaussNoise(var_limit=(10.0, 50.0)),\n",
        "            A.GaussianBlur(blur_limit=(3, 7)),\n",
        "            A.MedianBlur(blur_limit=3),\n",
        "            A.MotionBlur(blur_limit=7),\n",
        "        ], p=0.4),\n",
        "        A.GridDistortion(num_steps=5, distort_limit=0.3, p=0.3),\n",
        "        A.CoarseDropout(max_holes=8, max_height=32, max_width=32, min_holes=2, p=0.4),\n",
        "        A.RandomGridShuffle(grid=(3, 3), p=0.3),\n",
        "        A.Normalize(mean=[0.485, 0.456, 0.406], std=[0.229, 0.224, 0.225]),\n",
        "        ToTensorV2()\n",
        "    ])\n",
        "\n",
        "    eval_transform = A.Compose([\n",
        "        A.Resize(img_size, img_size),\n",
        "        A.Normalize(mean=[0.485, 0.456, 0.406], std=[0.229, 0.224, 0.225]),\n",
        "        ToTensorV2()\n",
        "    ])\n",
        "\n",
        "    tta_transform = A.Compose([\n",
        "        A.Resize(img_size, img_size),\n",
        "        A.HorizontalFlip(p=0.5),\n",
        "        A.Normalize(mean=[0.485, 0.456, 0.406], std=[0.229, 0.224, 0.225]),\n",
        "        ToTensorV2()\n",
        "    ])\n",
        "\n",
        "    return train_transform, eval_transform, tta_transform\n",
        "\n",
        "class AdvancedLiverDataset(Dataset):\n",
        "    def __init__(self, volumes, classes, fats, transform=None, is_train=False):\n",
        "        self.vols = volumes\n",
        "        self.classes = classes\n",
        "        self.fats = fats\n",
        "        self.transform = transform\n",
        "        self.is_train = is_train\n",
        "        self.class_weights = self._calculate_class_weights()\n",
        "        self.sample_weights = self._calculate_sample_weights()\n",
        "\n",
        "    def _calculate_class_weights(self):\n",
        "        class_counts = np.bincount(self.classes)\n",
        "        beta = 0.999999  # More aggressive for severe imbalance\n",
        "        effective_num = 1.0 - np.power(beta, class_counts)\n",
        "        weights = (1.0 - beta) / np.maximum(effective_num, 1e-4)\n",
        "\n",
        "        # Apply sqrt smoothing\n",
        "        weights = np.sqrt(weights)\n",
        "\n",
        "        # Normalize weights\n",
        "        return weights / weights.sum() * len(weights)\n",
        "\n",
        "    def _calculate_sample_weights(self):\n",
        "        sample_weights = [self.class_weights[cls] for cls in self.classes]\n",
        "        return sample_weights\n",
        "\n",
        "    def __len__(self):\n",
        "        return len(self.classes)\n",
        "\n",
        "    def __getitem__(self, idx):\n",
        "        vol = self.vols[idx]\n",
        "\n",
        "        # For training, randomly select a slice; for eval, use middle slice\n",
        "        if self.is_train and vol.ndim == 3:\n",
        "            slice_idx = np.random.randint(0, vol.shape[0])\n",
        "            img2d = vol[slice_idx]\n",
        "        else:\n",
        "            mid = vol.shape[0] // 2\n",
        "            img2d = vol[mid] if vol.ndim == 3 else vol\n",
        "\n",
        "        img2d_3channel = np.stack([img2d] * 3, axis=-1)\n",
        "        if img2d_3channel.dtype != np.uint8:\n",
        "            if img2d_3channel.dtype == np.uint16:\n",
        "                img2d_3channel = (img2d_3channel / np.max(img2d_3channel) * 255).astype(np.uint8)\n",
        "            else:\n",
        "                img2d_3channel = (img2d_3channel - np.min(img2d_3channel)) / (np.max(img2d_3channel) - np.min(img2d_3channel)) * 255\n",
        "                img2d_3channel = img2d_3channel.astype(np.uint8)\n",
        "\n",
        "        if self.transform:\n",
        "            augmented = self.transform(image=img2d_3channel)\n",
        "            img = augmented['image']\n",
        "        else:\n",
        "            img = transforms.ToTensor()(img2d_3channel)\n",
        "\n",
        "        return img, self.classes[idx], self.fats[idx]\n",
        "\n",
        "# ========================================================================\n",
        "# Model Definition\n",
        "# ========================================================================\n",
        "\n",
        "class HybridSteatosisModel(nn.Module):\n",
        "    def __init__(self, num_classes=2, pretrained=True,\n",
        "                 cls_head_path=None, reg_head_path=None,\n",
        "                 drop_rate=0.2, drop_path_rate=0.1,\n",
        "                 class_counts=None):\n",
        "        super().__init__()\n",
        "\n",
        "        # Use Vision Transformer as backbone\n",
        "        self.backbone = timm.create_model(\n",
        "            'vit_small_patch16_224',\n",
        "            pretrained=pretrained,\n",
        "            num_classes=0,  # Return all tokens\n",
        "            global_pool=''  # Disable global pooling\n",
        "        )\n",
        "        in_features = self.backbone.embed_dim  # Embedding dimension (384)\n",
        "\n",
        "        # Store class counts for bias initialization\n",
        "        self.class_counts = class_counts\n",
        "\n",
        "        # Add attention pooling\n",
        "        self.attention_pool = nn.Sequential(\n",
        "            nn.Linear(in_features, 512),\n",
        "            nn.Tanh(),\n",
        "            nn.Linear(512, 1),\n",
        "            nn.Softmax(dim=1)\n",
        "        )\n",
        "\n",
        "        # Classification Head with balanced initialization\n",
        "        self.cls_head = nn.Sequential(\n",
        "            nn.LayerNorm(in_features),\n",
        "            nn.Dropout(drop_rate),\n",
        "            nn.Linear(in_features, 512),\n",
        "            nn.GELU(),\n",
        "            nn.Dropout(drop_rate),\n",
        "            nn.Linear(512, num_classes, bias=False)  # No bias in last layer\n",
        "        )\n",
        "\n",
        "        # Regression Head with improved initialization\n",
        "        self.reg_head = nn.Sequential(\n",
        "            nn.LayerNorm(in_features),\n",
        "            nn.Dropout(drop_rate),\n",
        "            nn.Linear(in_features, 512),\n",
        "            nn.SiLU(),  # Swish activation\n",
        "            nn.Dropout(drop_rate),\n",
        "            nn.Linear(512, 512),\n",
        "            nn.SiLU(),\n",
        "            nn.Dropout(drop_rate),\n",
        "            nn.Linear(512, 1)\n",
        "        )\n",
        "\n",
        "        # Stochastic depth\n",
        "        self.drop_path = DropPath(drop_path_rate) if drop_path_rate > 0 else nn.Identity()\n",
        "\n",
        "        # Initialize model with class-balanced settings\n",
        "        self._init_weights()\n",
        "\n",
        "        # Load heads if paths are provided\n",
        "        if cls_head_path:\n",
        "            self._load_head(cls_head_path, 'cls')\n",
        "        if reg_head_path:\n",
        "            self._load_head(reg_head_path, 'reg')\n",
        "\n",
        "    def _init_weights(self):\n",
        "        # Initialize attention pooling\n",
        "        for layer in self.attention_pool:\n",
        "            if isinstance(layer, nn.Linear):\n",
        "                nn.init.xavier_uniform_(layer.weight)\n",
        "                nn.init.zeros_(layer.bias)\n",
        "\n",
        "        # Initialize classification head with balanced initialization\n",
        "        for i, layer in enumerate(self.cls_head):\n",
        "            if isinstance(layer, nn.Linear):\n",
        "                # Kaiming initialization with ReLU nonlinearity\n",
        "                nn.init.kaiming_normal_(layer.weight, mode='fan_out', nonlinearity='relu')\n",
        "\n",
        "                # Initialize last layer with small values\n",
        "                if i == len(self.cls_head) - 1:\n",
        "                    stdv = 1. / math.sqrt(layer.weight.size(1))\n",
        "                    nn.init.uniform_(layer.weight, -stdv, stdv)\n",
        "\n",
        "        # Initialize regression head with small values\n",
        "        for layer in self.reg_head:\n",
        "            if isinstance(layer, nn.Linear):\n",
        "                nn.init.kaiming_uniform_(layer.weight, mode='fan_in', nonlinearity='linear')\n",
        "                if layer.bias is not None:\n",
        "                    nn.init.constant_(layer.bias, 0)\n",
        "\n",
        "        # Initialize final classification bias based on class imbalance\n",
        "        if self.class_counts is not None:\n",
        "            total = sum(self.class_counts)\n",
        "            class_ratios = [count / total for count in self.class_counts]\n",
        "            bias_init = torch.log(torch.tensor([class_ratios[1] / class_ratios[0]]))\n",
        "            # Manually add bias to the last layer\n",
        "            self.cls_head[-1].bias = nn.Parameter(bias_init)\n",
        "            self.cls_head[-1].bias.requires_grad = True\n",
        "\n",
        "    def _load_head(self, path, head_type):\n",
        "        \"\"\"Load specific head weights from a saved model\"\"\"\n",
        "        if not os.path.exists(path):\n",
        "            raise FileNotFoundError(f\"Head weights not found at {path}\")\n",
        "\n",
        "        state_dict = torch.load(path, map_location='cpu')\n",
        "        head_keys = [k for k in state_dict.keys() if k.startswith(f'{head_type}_head')]\n",
        "\n",
        "        if not head_keys:\n",
        "            raise ValueError(f\"No {head_type} head weights found in {path}\")\n",
        "\n",
        "        head_state_dict = {k.replace(f'{head_type}_head.', ''): state_dict[k] for k in head_keys}\n",
        "\n",
        "        if head_type == 'cls':\n",
        "            self.cls_head.load_state_dict(head_state_dict)\n",
        "            print(f\"Loaded classification head from {path}\")\n",
        "        else:\n",
        "            self.reg_head.load_state_dict(head_state_dict)\n",
        "            print(f\"Loaded regression head from {path}\")\n",
        "\n",
        "    def forward(self, x):\n",
        "        # Get all tokens from backbone [batch_size, num_tokens, embed_dim]\n",
        "        tokens = self.backbone(x)  # Shape: [B, 197, 384]\n",
        "\n",
        "        # Attention pooling - apply attention to each token\n",
        "        attn_weights = self.attention_pool(tokens)  # Shape: [B, 197, 1]\n",
        "\n",
        "        # Weighted sum of tokens\n",
        "        features = torch.sum(tokens * attn_weights, dim=1)  # Shape: [B, 384]\n",
        "\n",
        "        # Apply stochastic depth\n",
        "        features = self.drop_path(features)\n",
        "\n",
        "        # Pass features to heads\n",
        "        cls_output = self.cls_head(features)\n",
        "        reg_output = self.reg_head(features).squeeze()\n",
        "\n",
        "        return cls_output, reg_output\n",
        "\n",
        "# ========================================================================\n",
        "# Loss Functions\n",
        "# ========================================================================\n",
        "\n",
        "class BalancedFocalLoss(_Loss):\n",
        "    def __init__(self, alpha=0.8, gamma=2.0, reduction='mean'):\n",
        "        super().__init__()\n",
        "        self.alpha = alpha\n",
        "        self.gamma = gamma\n",
        "        self.reduction = reduction\n",
        "\n",
        "    def forward(self, inputs, targets, class_weights=None):\n",
        "        # Convert class weights to tensor if provided\n",
        "        if class_weights is not None:\n",
        "            class_weights = class_weights.to(inputs.device)\n",
        "\n",
        "        # Calculate focal loss\n",
        "        ce_loss = F.cross_entropy(inputs, targets, reduction='none')\n",
        "        pt = torch.exp(-ce_loss)\n",
        "        focal_loss = self.alpha * (1-pt)**self.gamma * ce_loss\n",
        "\n",
        "        # Apply class weights if provided\n",
        "        if class_weights is not None:\n",
        "            weights = class_weights[targets]\n",
        "            focal_loss = focal_loss * weights\n",
        "\n",
        "        if self.reduction == 'mean':\n",
        "            return focal_loss.mean()\n",
        "        elif self.reduction == 'sum':\n",
        "            return focal_loss.sum()\n",
        "        return focal_loss\n",
        "\n",
        "class LogCoshLoss(_Loss):\n",
        "    \"\"\"Log-Cosh loss that is smoother than Huber and L2\"\"\"\n",
        "    def __init__(self, reduction='mean'):\n",
        "        super().__init__()\n",
        "        self.reduction = reduction\n",
        "\n",
        "    def forward(self, inputs, targets):\n",
        "        error = inputs - targets\n",
        "        loss = torch.log(torch.cosh(error + 1e-12))\n",
        "\n",
        "        if self.reduction == 'mean':\n",
        "            return loss.mean()\n",
        "        elif self.reduction == 'sum':\n",
        "            return loss.sum()\n",
        "        return loss\n",
        "\n",
        "# ========================================================================\n",
        "# Training Utilities\n",
        "# ========================================================================\n",
        "\n",
        "class EarlyStopping:\n",
        "    def __init__(self, patience=10, mode='min', min_delta=0, verbose=True):\n",
        "        self.patience = patience\n",
        "        self.mode = mode\n",
        "        self.min_delta = min_delta\n",
        "        self.verbose = verbose\n",
        "        self.counter = 0\n",
        "        self.best_metric = None\n",
        "        self.early_stop = False\n",
        "\n",
        "    def __call__(self, current_metric):\n",
        "        if self.best_metric is None:\n",
        "            self.best_metric = current_metric\n",
        "        elif self.mode == 'min':\n",
        "            if current_metric < self.best_metric - self.min_delta:\n",
        "                self.best_metric = current_metric\n",
        "                self.counter = 0\n",
        "            else:\n",
        "                self.counter += 1\n",
        "        elif self.mode == 'max':\n",
        "            if current_metric > self.best_metric + self.min_delta:\n",
        "                self.best_metric = current_metric\n",
        "                self.counter = 0\n",
        "            else:\n",
        "                self.counter += 1\n",
        "\n",
        "        if self.verbose:\n",
        "            print(f'EarlyStopping counter: {self.counter}/{self.patience}, best {self.mode}: {self.best_metric:.4f}')\n",
        "\n",
        "        if self.counter >= self.patience:\n",
        "            self.early_stop = True\n",
        "\n",
        "def save_confusion_matrix(cm, classes, fold, results_dir, display=True):\n",
        "    plt.figure(figsize=(8, 6))\n",
        "    sns.heatmap(cm, annot=True, fmt='d', cmap='Blues', cbar=False,\n",
        "                xticklabels=classes, yticklabels=classes)\n",
        "    plt.xlabel('Predicted')\n",
        "    plt.ylabel('True')\n",
        "    plt.title(f'Confusion Matrix - Fold {fold}')\n",
        "    plt.savefig(os.path.join(results_dir, f'fold_{fold}_confusion_matrix.png'))\n",
        "\n",
        "    if display:\n",
        "        plt.show()\n",
        "    else:\n",
        "        plt.close()\n",
        "\n",
        "    # Save as CSV\n",
        "    cm_df = pd.DataFrame(cm, index=classes, columns=classes)\n",
        "    cm_df.to_csv(os.path.join(results_dir, f'fold_{fold}_confusion_matrix.csv'), index=True)\n",
        "\n",
        "# ========================================================================\n",
        "# Evaluation Functions\n",
        "# ========================================================================\n",
        "\n",
        "def evaluate(model, loader, device, fat_scaler, tta_transforms=None, num_tta=5):\n",
        "    model.eval()\n",
        "    cls_preds = []\n",
        "    cls_true = []\n",
        "    reg_preds = []\n",
        "    reg_true = []\n",
        "\n",
        "    with torch.no_grad():\n",
        "        for images, cls_labels, reg_labels in loader:\n",
        "            images = images.to(device)\n",
        "            cls_labels = cls_labels.cpu().numpy()\n",
        "            reg_labels = reg_labels.cpu().numpy()\n",
        "\n",
        "            # Standard evaluation\n",
        "            cls_out, reg_out = model(images)\n",
        "\n",
        "            # Test-time augmentation\n",
        "            if tta_transforms and num_tta > 0:\n",
        "                tta_cls_preds = []\n",
        "                tta_reg_preds = []\n",
        "\n",
        "                for _ in range(num_tta):\n",
        "                    # Apply TTA transformations\n",
        "                    augmented_images = []\n",
        "                    for img in images.cpu().numpy():\n",
        "                        # Convert tensor to numpy image (H, W, C)\n",
        "                        img_np = img.transpose(1, 2, 0)\n",
        "                        augmented = tta_transforms(image=img_np)['image']\n",
        "                        augmented_images.append(augmented)\n",
        "\n",
        "                    augmented_images = torch.stack(augmented_images).to(device)\n",
        "\n",
        "                    # Forward pass with augmented images\n",
        "                    cls_out_tta, reg_out_tta = model(augmented_images)\n",
        "                    tta_cls_preds.append(torch.softmax(cls_out_tta, dim=1).cpu().numpy())\n",
        "                    tta_reg_preds.append(reg_out_tta.cpu().numpy())\n",
        "\n",
        "                # Average TTA predictions\n",
        "                cls_out = torch.tensor(np.mean(tta_cls_preds, axis=0)).to(device)\n",
        "                reg_out = torch.tensor(np.mean(tta_reg_preds, axis=0)).to(device)\n",
        "\n",
        "            # Handle classification predictions\n",
        "            cls_pred = torch.argmax(cls_out, dim=1)\n",
        "            cls_preds.extend(cls_pred.cpu().numpy())\n",
        "            cls_true.extend(cls_labels)\n",
        "\n",
        "            # Handle regression predictions\n",
        "            reg_out = reg_out.cpu().numpy()\n",
        "            if reg_out.ndim == 0:  # Handle scalar output\n",
        "                reg_out = np.array([reg_out])\n",
        "            reg_preds.extend(reg_out)\n",
        "            reg_true.extend(reg_labels)\n",
        "\n",
        "    # Classification metrics\n",
        "    acc = accuracy_score(cls_true, cls_preds)\n",
        "    f1_weighted = f1_score(cls_true, cls_preds, average='weighted', zero_division=0)\n",
        "    f1_binary = f1_score(cls_true, cls_preds, average='binary', zero_division=0)\n",
        "    precision = precision_score(cls_true, cls_preds, zero_division=0)\n",
        "    recall = recall_score(cls_true, cls_preds, zero_division=0)\n",
        "\n",
        "    # Confusion matrix\n",
        "    cm = confusion_matrix(cls_true, cls_preds)\n",
        "\n",
        "\n",
        "    # Descale regression predictions\n",
        "    reg_true_descaled = fat_scaler.descale(np.array(reg_true))\n",
        "    reg_preds_descaled = fat_scaler.descale(np.array(reg_preds))\n",
        "\n",
        "    # Regression metrics\n",
        "    mae = mean_absolute_error(reg_true_descaled, reg_preds_descaled)\n",
        "    r2 = r2_score(reg_true_descaled, reg_preds_descaled)\n",
        "\n",
        "    metrics = {\n",
        "        'acc': acc,\n",
        "        'f1_weighted': f1_weighted,\n",
        "        'f1_binary': f1_binary,\n",
        "        'precision': precision,\n",
        "        'recall': recall,\n",
        "        'mae': mae,\n",
        "        'r2': r2\n",
        "    }\n",
        "\n",
        "    return metrics, cm, cls_preds, reg_preds_descaled\n",
        "\n",
        "def find_optimal_threshold(model, val_loader, device):\n",
        "    model.eval()\n",
        "    probs = []\n",
        "    labels = []\n",
        "\n",
        "    with torch.no_grad():\n",
        "        for images, cls_labels, _ in val_loader:\n",
        "            images = images.to(device)\n",
        "            cls_out, _ = model(images)\n",
        "            probs.append(torch.softmax(cls_out, dim=1)[:, 1].cpu().numpy())\n",
        "            labels.append(cls_labels.numpy())\n",
        "\n",
        "    probs = np.concatenate(probs)\n",
        "    labels = np.concatenate(labels)\n",
        "\n",
        "    fpr, tpr, thresholds = roc_curve(labels, probs)\n",
        "    # Find threshold that maximizes true positive rate - false positive rate\n",
        "    optimal_idx = np.argmax(tpr - fpr)\n",
        "    optimal_threshold = thresholds[optimal_idx]\n",
        "\n",
        "    return optimal_threshold\n",
        "\n",
        "# ========================================================================\n",
        "# Training Function\n",
        "# ========================================================================\n",
        "\n",
        "def train_model(model, train_loader, val_loader, device, fat_scaler, num_epochs=50, fold=0):\n",
        "    # Get class weights for balanced loss\n",
        "    class_weights = torch.tensor(train_loader.dataset.class_weights, dtype=torch.float).to(device)\n",
        "\n",
        "    # Get class counts for bias initialization\n",
        "    class_counts = np.bincount(train_loader.dataset.classes)\n",
        "    model.class_counts = class_counts\n",
        "\n",
        "    # Loss functions\n",
        "    cls_criterion = BalancedFocalLoss(alpha=0.8, gamma=3.0)  # Higher gamma for hard examples\n",
        "    reg_criterion = LogCoshLoss()  # Smoother than Huber\n",
        "\n",
        "    # Create parameter groups with different learning rates\n",
        "    backbone_params = []\n",
        "    head_params = []\n",
        "    for name, param in model.named_parameters():\n",
        "        if 'backbone' in name:\n",
        "            backbone_params.append(param)\n",
        "        else:\n",
        "            head_params.append(param)\n",
        "\n",
        "    optimizer = optim.AdamW(\n",
        "        [\n",
        "            {'params': backbone_params, 'lr': 1e-5},\n",
        "            {'params': head_params, 'lr': 3e-4}\n",
        "        ],\n",
        "        weight_decay=1e-4\n",
        "    )\n",
        "\n",
        "    # Schedulers\n",
        "    scheduler_cosine = CosineAnnealingLR(optimizer, T_max=num_epochs)\n",
        "    scheduler_plateau = ReduceLROnPlateau(optimizer, mode='min', factor=0.5, patience=5, verbose=True)\n",
        "\n",
        "    # Early stopping\n",
        "    early_stopping = EarlyStopping(patience=10, mode='min', verbose=True)\n",
        "\n",
        "    # Warmup scheduler\n",
        "    warmup_epochs = 5\n",
        "    warmup_scheduler = LambdaLR(\n",
        "        optimizer,\n",
        "        lr_lambda=lambda epoch: min(1.0, (epoch + 1) / warmup_epochs)\n",
        "    )\n",
        "\n",
        "    best_val_loss = float('inf')\n",
        "    history = []\n",
        "    best_metrics = {}\n",
        "\n",
        "    # Mixed precision training\n",
        "    scaler = GradScaler()\n",
        "\n",
        "    for epoch in range(num_epochs):\n",
        "        # Warmup phase\n",
        "        if epoch < warmup_epochs:\n",
        "            warmup_scheduler.step()\n",
        "\n",
        "        model.train()\n",
        "        running_loss = 0.0\n",
        "        cls_running_loss = 0.0\n",
        "        reg_running_loss = 0.0\n",
        "\n",
        "        for images, cls_labels, reg_labels in train_loader:\n",
        "            images = images.to(device)\n",
        "            cls_labels = cls_labels.to(device)\n",
        "            reg_labels = reg_labels.to(device).float()\n",
        "\n",
        "            optimizer.zero_grad()\n",
        "\n",
        "            # Mixed precision context\n",
        "            with autocast():\n",
        "                cls_out, reg_out = model(images)\n",
        "                cls_loss = cls_criterion(cls_out, cls_labels, class_weights)\n",
        "                reg_loss = reg_criterion(reg_out, reg_labels)\n",
        "                total_loss = cls_loss + 0.7 * reg_loss  # Weighted sum\n",
        "\n",
        "            # Backward pass with scaling\n",
        "            scaler.scale(total_loss).backward()\n",
        "\n",
        "            # Gradient clipping\n",
        "            scaler.unscale_(optimizer)\n",
        "            torch.nn.utils.clip_grad_norm_(model.parameters(), max_norm=1.0)\n",
        "\n",
        "            # Update weights\n",
        "            scaler.step(optimizer)\n",
        "            scaler.update()\n",
        "\n",
        "            running_loss += total_loss.item()\n",
        "            cls_running_loss += cls_loss.item()\n",
        "            reg_running_loss += reg_loss.item()\n",
        "\n",
        "        # Calculate validation loss\n",
        "        model.eval()\n",
        "        val_running_loss = 0.0\n",
        "        val_cls_running_loss = 0.0\n",
        "        val_reg_running_loss = 0.0\n",
        "\n",
        "        with torch.no_grad(), autocast():\n",
        "            for images, cls_labels, reg_labels in val_loader:\n",
        "                images = images.to(device)\n",
        "                cls_labels = cls_labels.to(device)\n",
        "                reg_labels = reg_labels.to(device).float()\n",
        "\n",
        "                cls_out, reg_out = model(images)\n",
        "                cls_loss = cls_criterion(cls_out, cls_labels, class_weights)\n",
        "                reg_loss = reg_criterion(reg_out, reg_labels)\n",
        "                total_val_loss = cls_loss + 0.7 * reg_loss\n",
        "\n",
        "                val_running_loss += total_val_loss.item()\n",
        "                val_cls_running_loss += cls_loss.item()\n",
        "                val_reg_running_loss += reg_loss.item()\n",
        "\n",
        "        # Calculate average validation loss\n",
        "        val_loss = val_running_loss / len(val_loader)\n",
        "        val_cls_loss = val_cls_running_loss / len(val_loader)\n",
        "        val_reg_loss = val_reg_running_loss / len(val_loader)\n",
        "\n",
        "        # Get validation metrics\n",
        "        val_metrics, val_cm, _, _ = evaluate(model, val_loader, device, fat_scaler)\n",
        "        val_acc = val_metrics['acc']\n",
        "        val_f1_weighted = val_metrics['f1_weighted']\n",
        "        val_f1_binary = val_metrics['f1_binary']\n",
        "        val_precision = val_metrics['precision']\n",
        "        val_recall = val_metrics['recall']\n",
        "        val_mae = val_metrics['mae']\n",
        "        val_r2 = val_metrics['r2']\n",
        "\n",
        "        # Step schedulers\n",
        "        scheduler_cosine.step()\n",
        "        scheduler_plateau.step(val_loss)\n",
        "\n",
        "        # Check early stopping\n",
        "        early_stopping(val_loss)\n",
        "        if early_stopping.early_stop:\n",
        "            print(\"Early stopping triggered.\")\n",
        "            break\n",
        "\n",
        "        # Save best model based on validation loss\n",
        "        if val_loss < best_val_loss:\n",
        "            best_val_loss = val_loss\n",
        "            torch.save(model.state_dict(), os.path.join(results_dir, f'best_model_fold_{fold}.pth'))\n",
        "            best_metrics = {\n",
        "                'epoch': epoch+1,\n",
        "                'val_loss': val_loss,\n",
        "                'val_acc': val_acc,\n",
        "                'val_f1_weighted': val_f1_weighted,\n",
        "                'val_f1_binary': val_f1_binary,\n",
        "                'val_precision': val_precision,\n",
        "                'val_recall': val_recall,\n",
        "                'val_mae': val_mae,\n",
        "                'val_r2': val_r2\n",
        "            }\n",
        "\n",
        "        epoch_metrics = {\n",
        "            'fold': fold,\n",
        "            'epoch': epoch+1,\n",
        "            'train_loss': running_loss/len(train_loader),\n",
        "            'cls_loss': cls_running_loss/len(train_loader),\n",
        "            'reg_loss': reg_running_loss/len(train_loader),\n",
        "            'val_loss': val_loss,\n",
        "            'val_cls_loss': val_cls_loss,\n",
        "            'val_reg_loss': val_reg_loss,\n",
        "            'val_acc': val_acc,\n",
        "            'val_f1_weighted': val_f1_weighted,\n",
        "            'val_f1_binary': val_f1_binary,\n",
        "            'val_precision': val_precision,\n",
        "            'val_recall': val_recall,\n",
        "            'val_mae': val_mae,\n",
        "            'val_r2': val_r2,\n",
        "            'lr': optimizer.param_groups[0]['lr']  # Head learning rate\n",
        "        }\n",
        "        history.append(epoch_metrics)\n",
        "\n",
        "        print(f\"Epoch {epoch+1}/{num_epochs}\")\n",
        "        print(f\"Train Loss: {epoch_metrics['train_loss']:.4f} (Cls: {epoch_metrics['cls_loss']:.4f}, Reg: {epoch_metrics['reg_loss']:.4f})\")\n",
        "        print(f\"Val Loss: {val_loss:.4f} (Cls: {val_cls_loss:.4f}, Reg: {val_reg_loss:.4f})\")\n",
        "        print(f\"Val Acc: {val_acc:.4f} | Val F1: {val_f1_weighted:.4f} | Val Precision: {val_precision:.4f} | Val Recall: {val_recall:.4f}\")\n",
        "        print(f\"Val MAE: {val_mae:.4f} | Val R2: {val_r2:.4f} | LR: {epoch_metrics['lr']:.2e}\")\n",
        "\n",
        "    # Save training history for this fold\n",
        "    history_df = pd.DataFrame(history)\n",
        "    history_df.to_csv(os.path.join(results_dir, f'fold_{fold}_training_history.csv'), index=False)\n",
        "\n",
        "    # Display confusion matrix for best epoch\n",
        "    print(f\"\\nConfusion Matrix for Fold {fold}:\")\n",
        "    save_confusion_matrix(val_cm, classes=[0, 1], fold=fold, results_dir=results_dir, display=True)\n",
        "\n",
        "    return history, best_metrics\n",
        "\n",
        "# ========================================================================\n",
        "# Data Loading\n",
        "# ========================================================================\n",
        "\n",
        "def prepare_loaders(fold=0, img_size=224, batch_size=8):\n",
        "    skf = StratifiedKFold(n_splits=5, shuffle=True, random_state=42)\n",
        "    train_transform, eval_transform, tta_transform = create_transforms(img_size)\n",
        "\n",
        "    splits = list(skf.split(train_val_vols, train_val_classes))\n",
        "    if fold >= skf.n_splits:\n",
        "        raise ValueError(f\"Fold index {fold} out of bounds for {skf.n_splits} splits.\")\n",
        "\n",
        "    train_idx, val_idx = splits[fold]\n",
        "\n",
        "    train_vols = train_val_vols[train_idx]\n",
        "    train_classes = train_val_classes[train_idx]\n",
        "    train_fats = train_val_fats[train_idx]\n",
        "\n",
        "    val_vols = train_val_vols[val_idx]\n",
        "    val_classes = train_val_classes[val_idx]\n",
        "    val_fats = train_val_fats[val_idx]\n",
        "\n",
        "    train_ds = AdvancedLiverDataset(train_vols, train_classes, train_fats, train_transform, is_train=True)\n",
        "    val_ds = AdvancedLiverDataset(val_vols, val_classes, val_fats, eval_transform)\n",
        "\n",
        "    # Create balanced sampler\n",
        "    sample_weights = train_ds.sample_weights\n",
        "    sampler = WeightedRandomSampler(\n",
        "        weights=sample_weights,\n",
        "        num_samples=len(sample_weights),\n",
        "        replacement=True\n",
        "    )\n",
        "\n",
        "    train_loader = DataLoader(\n",
        "        train_ds,\n",
        "        batch_size=batch_size,\n",
        "        sampler=sampler,\n",
        "        num_workers=2,\n",
        "        pin_memory=True\n",
        "    )\n",
        "    val_loader = DataLoader(\n",
        "        val_ds,\n",
        "        batch_size=batch_size,\n",
        "        shuffle=False,\n",
        "        num_workers=2,\n",
        "        pin_memory=True\n",
        "    )\n",
        "\n",
        "    print(f\"Fold {fold}: Train samples: {len(train_ds)}, Val samples: {len(val_ds)}\")\n",
        "    print(f\"Class distribution - Train: {np.bincount(train_classes)}, Val: {np.bincount(val_classes)}\")\n",
        "\n",
        "    return train_loader, val_loader, tta_transform\n",
        "\n",
        "# ========================================================================\n",
        "# Model Selection and Inference\n",
        "# ========================================================================\n",
        "\n",
        "def select_best_models(all_folds_test_metrics):\n",
        "    # Create DataFrame from metrics\n",
        "    metrics_df = pd.DataFrame(all_folds_test_metrics)\n",
        "\n",
        "    # Find best classification model\n",
        "    metrics_df['cls_score'] = (metrics_df['test_acc'] + metrics_df['test_f1_weighted']) / 2\n",
        "    best_cls_fold = metrics_df['cls_score'].idxmax()\n",
        "    best_cls_model_path = os.path.join(results_dir, f'best_model_fold_{best_cls_fold}.pth')\n",
        "\n",
        "    # Find best regression model\n",
        "    best_reg_fold = metrics_df['test_mae'].idxmin()\n",
        "    best_reg_model_path = os.path.join(results_dir, f'best_model_fold_{best_reg_fold}.pth')\n",
        "\n",
        "    print(f\"\\nBest Classification Model: Fold {best_cls_fold}\")\n",
        "    print(f\"  Accuracy: {metrics_df.loc[best_cls_fold, 'test_acc']:.4f}\")\n",
        "    print(f\"  F1 Binary: {metrics_df.loc[best_cls_fold, 'test_f1_binary']:.4f}\")\n",
        "    print(f\"  Classification Score: {metrics_df.loc[best_cls_fold, 'cls_score']:.4f}\")\n",
        "\n",
        "    print(f\"\\nBest Regression Model: Fold {best_reg_fold}\")\n",
        "    print(f\"  MAE: {metrics_df.loc[best_reg_fold, 'test_mae']:.4f}\")\n",
        "\n",
        "    return best_cls_model_path, best_reg_model_path, best_cls_fold, best_reg_fold\n",
        "\n",
        "def inference(model, sample, device, fat_scaler, results_dir, sample_idx=0):\n",
        "    model.eval()\n",
        "    image, true_class, true_fat = sample\n",
        "\n",
        "    # Add batch dimension\n",
        "    image = image.unsqueeze(0).to(device)\n",
        "\n",
        "    with torch.no_grad():\n",
        "        cls_out, reg_out = model(image)\n",
        "        cls_probs = torch.softmax(cls_out, dim=1)\n",
        "        pred_class = torch.argmax(cls_out, dim=1).item()\n",
        "        pred_fat = reg_out.item()\n",
        "\n",
        "    # Descale fat percentages\n",
        "    true_fat_percent = fat_scaler.descale(true_fat)\n",
        "    pred_fat_percent = fat_scaler.descale(pred_fat)\n",
        "\n",
        "    # Convert to disease status\n",
        "    class_labels = {0: \"Healthy\", 1: \"Diseased\"}\n",
        "    true_class_label = class_labels.get(true_class, \"Unknown\")\n",
        "    pred_class_label = class_labels.get(pred_class, \"Unknown\")\n",
        "\n",
        "    # Create visualization\n",
        "    plt.figure(figsize=(10, 6))\n",
        "\n",
        "    # Display image\n",
        "    plt.subplot(1, 2, 1)\n",
        "    img_np = image.squeeze().cpu().numpy().transpose(1, 2, 0)\n",
        "    img_np = img_np * np.array([0.229, 0.224, 0.225]) + np.array([0.485, 0.456, 0.406])\n",
        "    img_np = np.clip(img_np, 0, 1)\n",
        "    plt.imshow(img_np)\n",
        "    plt.title(f\"Liver Ultrasound\")\n",
        "    plt.axis('off')\n",
        "\n",
        "    # Display prediction results\n",
        "    plt.subplot(1, 2, 2)\n",
        "    plt.text(0.1, 0.9, \"Prediction Results\", fontsize=14, fontweight='bold')\n",
        "    plt.text(0.1, 0.7, f\"True Class: {true_class} ({true_class_label})\")\n",
        "    plt.text(0.1, 0.6, f\"True Fat %: {true_fat_percent:.2f}%\")\n",
        "    plt.text(0.1, 0.5, f\"Predicted Class: {pred_class} ({pred_class_label})\")\n",
        "    plt.text(0.1, 0.4, f\"Predicted Fat %: {pred_fat_percent:.2f}%\")\n",
        "    plt.text(0.1, 0.3, \"Class Probabilities:\", fontweight='bold')\n",
        "    plt.text(0.1, 0.2, f\"Healthy: {cls_probs[0][0].item()*100:.2f}%\")\n",
        "    plt.text(0.1, 0.1, f\"Diseased: {cls_probs[0][1].item()*100:.2f}%\")\n",
        "\n",
        "    plt.axis('off')\n",
        "    plt.tight_layout()\n",
        "    plt.savefig(os.path.join(results_dir, f'inference_sample_{sample_idx}.png'))\n",
        "    plt.show()\n",
        "\n",
        "    print(\"\\n\" + \"=\"*50)\n",
        "    print(\"Inference Results:\")\n",
        "    print(\"=\"*50)\n",
        "    print(f\"True Class: {true_class} ({true_class_label})\")\n",
        "    print(f\"True Fat Percentage: {true_fat_percent:.2f}%\")\n",
        "    print(f\"Predicted Class: {pred_class} ({pred_class_label})\")\n",
        "    print(f\"Predicted Fat Percentage: {pred_fat_percent:.2f}%\")\n",
        "    print(f\"Class Probabilities: Healthy={cls_probs[0][0].item()*100:.2f}%, Diseased={cls_probs[0][1].item()*100:.2f}%\")\n",
        "    print(\"=\"*50)\n",
        "\n",
        "    return pred_class, pred_fat_percent\n",
        "\n",
        "# ========================================================================\n",
        "# Main Training Execution\n",
        "# ========================================================================\n",
        "\n",
        "device = torch.device('cuda' if torch.cuda.is_available() else 'cpu')\n",
        "print(f\"Using device: {device}\")\n",
        "\n",
        "# Initialize metrics collection\n",
        "all_folds_history = []\n",
        "all_folds_best_metrics = []\n",
        "all_folds_test_metrics = []\n",
        "\n",
        "# Create test dataset\n",
        "_, eval_transform, tta_transform = create_transforms()\n",
        "test_ds = AdvancedLiverDataset(test_vols, test_classes, test_fats, eval_transform)\n",
        "test_loader = DataLoader(test_ds, batch_size=1, shuffle=False)\n",
        "\n",
        "# Run K-Fold Cross-Validation on train_val set\n",
        "for fold in range(5):\n",
        "    print(f\"\\n{'='*50}\")\n",
        "    print(f\"Starting Training for Fold {fold}\")\n",
        "    print(f\"{'='*50}\")\n",
        "\n",
        "    # Create fresh model for each fold\n",
        "    model = HybridSteatosisModel().to(device)\n",
        "    train_loader, val_loader, tta_transform = prepare_loaders(fold=fold, img_size=224, batch_size=8)\n",
        "\n",
        "    # Train model and record history\n",
        "    fold_history, fold_best_metrics = train_model(\n",
        "        model,\n",
        "        train_loader,\n",
        "        val_loader,\n",
        "        device,\n",
        "        fat_scaler,\n",
        "        num_epochs=100,  # Increased epochs with early stopping\n",
        "        fold=fold\n",
        "    )\n",
        "    all_folds_history.append(fold_history)\n",
        "\n",
        "    # Evaluate best model with TTA\n",
        "    best_model = HybridSteatosisModel().to(device)\n",
        "    best_model.load_state_dict(torch.load(os.path.join(results_dir, f'best_model_fold_{fold}.pth')))\n",
        "    test_metrics, test_cm, cls_preds, reg_preds = evaluate(\n",
        "        best_model,\n",
        "        val_loader,\n",
        "        device,\n",
        "        fat_scaler,\n",
        "        tta_transforms=tta_transform,\n",
        "        num_tta=5\n",
        "    )\n",
        "\n",
        "    # Save confusion matrix\n",
        "    save_confusion_matrix(test_cm, classes=[0, 1], fold=fold, results_dir=results_dir, display=True)\n",
        "\n",
        "    fold_test_metrics = {\n",
        "        'fold': fold,\n",
        "        'test_acc': test_metrics['acc'],\n",
        "        'test_f1_weighted': test_metrics['f1_weighted'],\n",
        "        'test_f1_binary': test_metrics['f1_binary'],\n",
        "        'test_precision': test_metrics['precision'],\n",
        "        'test_recall': test_metrics['recall'],\n",
        "        'test_mae': test_metrics['mae'],\n",
        "        'test_r2': test_metrics['r2'],\n",
        "        'best_epoch': fold_best_metrics['epoch']\n",
        "    }\n",
        "    all_folds_test_metrics.append(fold_test_metrics)\n",
        "\n",
        "    print(f\"\\nFold {fold} Test Results:\")\n",
        "    print(f\"Accuracy: {test_metrics['acc']:.4f}\")\n",
        "    print(f\"F1-Score (weighted): {test_metrics['f1_weighted']:.4f}\")\n",
        "    print(f\"Precision: {test_metrics['precision']:.4f}\")\n",
        "    print(f\"Recall (Sensitivity): {test_metrics['recall']:.4f}\")\n",
        "    print(f\"MAE: {test_metrics['mae']:.4f}\")\n",
        "    print(f\"R2: {test_metrics['r2']:.4f}\")\n",
        "    print(f\"Best Epoch: {fold_best_metrics['epoch']}\")\n",
        "\n",
        "    # Save fold metrics to CSV\n",
        "    pd.DataFrame([fold_test_metrics]).to_csv(os.path.join(results_dir, f'fold_{fold}_test_metrics.csv'), index=False)\n",
        "\n",
        "# Create best overall model\n",
        "best_cls_path, best_reg_path, best_cls_fold, best_reg_fold = select_best_models(all_folds_test_metrics)\n",
        "best_overall_model = HybridSteatosisModel(\n",
        "    cls_head_path=best_cls_path,\n",
        "    reg_head_path=best_reg_path\n",
        ").to(device)\n",
        "\n",
        "# Save best overall model\n",
        "torch.save(best_overall_model.state_dict(), os.path.join(results_dir, 'best_overall_model.pth'))\n",
        "print(f\"\\nSaved best overall model with classification head from fold {best_cls_fold} and regression head from fold {best_reg_fold}\")\n",
        "\n",
        "# Evaluate best overall model on test set with TTA\n",
        "test_metrics, test_cm, _, _ = evaluate(\n",
        "    best_overall_model,\n",
        "    test_loader,\n",
        "    device,\n",
        "    fat_scaler,\n",
        "    tta_transforms=tta_transform,\n",
        "    num_tta=5\n",
        ")\n",
        "\n",
        "print(\"\\n\" + \"=\"*50)\n",
        "print(\"Final Test Results on Held-Out Test Set:\")\n",
        "print(\"=\"*50)\n",
        "print(f\"Accuracy: {test_metrics['acc']:.4f}\")\n",
        "print(f\"F1-Score (weighted): {test_metrics['f1_weighted']:.4f}\")\n",
        "print(f\"Precision: {test_metrics['precision']:.4f}\")\n",
        "print(f\"Recall (Sensitivity): {test_metrics['recall']:.4f}\")\n",
        "print(f\"MAE: {test_metrics['mae']:.4f}\")\n",
        "print(f\"R2: {test_metrics['r2']:.4f}\")\n",
        "\n",
        "# Save final test metrics\n",
        "final_metrics = {\n",
        "    'test_acc': test_metrics['acc'],\n",
        "    'test_f1_weighted': test_metrics['f1_weighted'],\n",
        "    'test_f1_binary': test_metrics['f1_binary'],\n",
        "    'test_precision': test_metrics['precision'],\n",
        "    'test_recall': test_metrics['recall'],\n",
        "    'test_mae': test_metrics['mae'],\n",
        "    'test_r2': test_metrics['r2'],\n",
        "    'cls_head_from': best_cls_fold,\n",
        "    'reg_head_from': best_reg_fold\n",
        "}\n",
        "pd.DataFrame([final_metrics]).to_csv(os.path.join(results_dir, 'final_test_metrics.csv'), index=False)\n",
        "\n",
        "# Save confusion matrix for test set\n",
        "save_confusion_matrix(test_cm, classes=[0, 1], fold='final', results_dir=results_dir, display=True)\n",
        "\n",
        "# Find optimal threshold for classification\n",
        "optimal_threshold = find_optimal_threshold(best_overall_model, test_loader, device)\n",
        "print(f\"\\nOptimal Classification Threshold: {optimal_threshold:.4f}\")\n",
        "\n",
        "# Perform inference on 3 random test samples\n",
        "for i in range(3):\n",
        "    random_idx = np.random.randint(0, len(test_ds))\n",
        "    sample = test_ds[random_idx]\n",
        "    print(f\"\\nPerforming inference on test sample {random_idx}:\")\n",
        "    pred_class, pred_fat = inference(best_overall_model, sample, device, fat_scaler, results_dir, sample_idx=i)\n",
        "\n",
        "# Calculate and save average metrics\n",
        "test_metrics_df = pd.DataFrame(all_folds_test_metrics)\n",
        "summary_metrics = {\n",
        "    'metric': ['Accuracy', 'F1-Weighted', 'F1-Binary', 'Precision', 'Recall', 'MAE', 'R2'],\n",
        "    'mean': [\n",
        "        test_metrics_df['test_acc'].mean(),\n",
        "        test_metrics_df['test_f1_weighted'].mean(),\n",
        "        test_metrics_df['test_f1_binary'].mean(),\n",
        "        test_metrics_df['test_precision'].mean(),\n",
        "        test_metrics_df['test_recall'].mean(),\n",
        "        test_metrics_df['test_mae'].mean(),\n",
        "        test_metrics_df['test_r2'].mean()\n",
        "    ],\n",
        "    'std': [\n",
        "        test_metrics_df['test_acc'].std(),\n",
        "        test_metrics_df['test_f1_weighted'].std(),\n",
        "        test_metrics_df['test_f1_binary'].std(),\n",
        "        test_metrics_df['test_precision'].std(),\n",
        "        test_metrics_df['test_recall'].std(),\n",
        "        test_metrics_df['test_mae'].std(),\n",
        "        test_metrics_df['test_r2'].std()\n",
        "    ],\n",
        "    'min': [\n",
        "        test_metrics_df['test_acc'].min(),\n",
        "        test_metrics_df['test_f1_weighted'].min(),\n",
        "        test_metrics_df['test_f1_binary'].min(),\n",
        "        test_metrics_df['test_precision'].min(),\n",
        "        test_metrics_df['test_recall'].min(),\n",
        "        test_metrics_df['test_mae'].min(),\n",
        "        test_metrics_df['test_r2'].min()\n",
        "    ],\n",
        "    'max': [\n",
        "        test_metrics_df['test_acc'].max(),\n",
        "        test_metrics_df['test_f1_weighted'].max(),\n",
        "        test_metrics_df['test_f1_binary'].max(),\n",
        "        test_metrics_df['test_precision'].max(),\n",
        "        test_metrics_df['test_recall'].max(),\n",
        "        test_metrics_df['test_mae'].max(),\n",
        "        test_metrics_df['test_r2'].max()\n",
        "    ]\n",
        "}\n",
        "\n",
        "summary_df = pd.DataFrame(summary_metrics)\n",
        "summary_df.to_csv(os.path.join(results_dir, 'cross_validation_summary.csv'), index=False)\n",
        "\n",
        "print(\"\\nCross-Validation Summary:\")\n",
        "print(summary_df)\n",
        "\n",
        "# Save all test metrics\n",
        "test_metrics_df.to_csv(os.path.join(results_dir, 'all_folds_test_metrics.csv'), index=False)\n",
        "\n",
        "print(f\"\\nAll results saved to: {results_dir}\")"
      ],
      "metadata": {
        "colab": {
          "base_uri": "https://localhost:8080/",
          "height": 1000
        },
        "id": "uFR5A16SHGZK",
        "outputId": "77e51539-4605-4c3e-fc3a-a634ffaedd56"
      },
      "execution_count": null,
      "outputs": [
        {
          "output_type": "stream",
          "name": "stdout",
          "text": [
            "Using device: cuda\n",
            "\n",
            "==================================================\n",
            "Starting Training for Fold 0\n",
            "==================================================\n"
          ]
        },
        {
          "output_type": "stream",
          "name": "stderr",
          "text": [
            "<ipython-input-8-3051131134>:54: UserWarning: Argument(s) 'var_limit' are not valid for transform GaussNoise\n",
            "  A.GaussNoise(var_limit=(10.0, 50.0)),\n",
            "<ipython-input-8-3051131134>:60: UserWarning: Argument(s) 'max_holes, max_height, max_width, min_holes' are not valid for transform CoarseDropout\n",
            "  A.CoarseDropout(max_holes=8, max_height=32, max_width=32, min_holes=2, p=0.4),\n"
          ]
        },
        {
          "output_type": "stream",
          "name": "stdout",
          "text": [
            "Fold 0: Train samples: 35, Val samples: 9\n",
            "Class distribution - Train: [11 24], Val: [3 6]\n"
          ]
        },
        {
          "output_type": "stream",
          "name": "stderr",
          "text": [
            "/usr/local/lib/python3.11/dist-packages/torch/optim/lr_scheduler.py:62: UserWarning: The verbose parameter is deprecated. Please use get_last_lr() to access the learning rate.\n",
            "  warnings.warn(\n",
            "<ipython-input-8-3051131134>:546: FutureWarning: `torch.cuda.amp.GradScaler(args...)` is deprecated. Please use `torch.amp.GradScaler('cuda', args...)` instead.\n",
            "  scaler = GradScaler()\n",
            "/usr/local/lib/python3.11/dist-packages/torch/optim/lr_scheduler.py:227: UserWarning: Detected call of `lr_scheduler.step()` before `optimizer.step()`. In PyTorch 1.1.0 and later, you should call them in the opposite order: `optimizer.step()` before `lr_scheduler.step()`.  Failure to do this will result in PyTorch skipping the first value of the learning rate schedule. See more details at https://pytorch.org/docs/stable/optim.html#how-to-adjust-learning-rate\n",
            "  warnings.warn(\n",
            "<ipython-input-8-3051131134>:566: FutureWarning: `torch.cuda.amp.autocast(args...)` is deprecated. Please use `torch.amp.autocast('cuda', args...)` instead.\n",
            "  with autocast():\n",
            "<ipython-input-8-3051131134>:593: FutureWarning: `torch.cuda.amp.autocast(args...)` is deprecated. Please use `torch.amp.autocast('cuda', args...)` instead.\n",
            "  with torch.no_grad(), autocast():\n"
          ]
        },
        {
          "output_type": "stream",
          "name": "stdout",
          "text": [
            "EarlyStopping counter: 0/10, best min: 0.3483\n",
            "Epoch 1/100\n",
            "Train Loss: 0.1792 (Cls: 0.1016, Reg: 0.1109)\n",
            "Val Loss: 0.3483 (Cls: 0.1541, Reg: 0.2774)\n",
            "Val Acc: 0.6667 | Val F1: 0.5333 | Val Precision: 0.6667 | Val Recall: 1.0000\n",
            "Val MAE: 51.7923 | Val R2: -4.2553 | LR: 4.00e-06\n"
          ]
        },
        {
          "output_type": "stream",
          "name": "stderr",
          "text": [
            "<ipython-input-8-3051131134>:566: FutureWarning: `torch.cuda.amp.autocast(args...)` is deprecated. Please use `torch.amp.autocast('cuda', args...)` instead.\n",
            "  with autocast():\n",
            "<ipython-input-8-3051131134>:593: FutureWarning: `torch.cuda.amp.autocast(args...)` is deprecated. Please use `torch.amp.autocast('cuda', args...)` instead.\n",
            "  with torch.no_grad(), autocast():\n"
          ]
        },
        {
          "output_type": "stream",
          "name": "stdout",
          "text": [
            "EarlyStopping counter: 0/10, best min: 0.1247\n",
            "Epoch 2/100\n",
            "Train Loss: 0.1557 (Cls: 0.0901, Reg: 0.0938)\n",
            "Val Loss: 0.1247 (Cls: 0.1004, Reg: 0.0347)\n",
            "Val Acc: 0.3333 | Val F1: 0.1667 | Val Precision: 0.0000 | Val Recall: 0.0000\n",
            "Val MAE: 16.2744 | Val R2: 0.3112 | LR: 6.00e-06\n"
          ]
        },
        {
          "output_type": "stream",
          "name": "stderr",
          "text": [
            "<ipython-input-8-3051131134>:566: FutureWarning: `torch.cuda.amp.autocast(args...)` is deprecated. Please use `torch.amp.autocast('cuda', args...)` instead.\n",
            "  with autocast():\n",
            "<ipython-input-8-3051131134>:593: FutureWarning: `torch.cuda.amp.autocast(args...)` is deprecated. Please use `torch.amp.autocast('cuda', args...)` instead.\n",
            "  with torch.no_grad(), autocast():\n"
          ]
        },
        {
          "output_type": "stream",
          "name": "stdout",
          "text": [
            "EarlyStopping counter: 1/10, best min: 0.1247\n",
            "Epoch 3/100\n",
            "Train Loss: 0.2693 (Cls: 0.1430, Reg: 0.1804)\n",
            "Val Loss: 0.3162 (Cls: 0.1826, Reg: 0.1908)\n",
            "Val Acc: 0.6667 | Val F1: 0.5333 | Val Precision: 0.6667 | Val Recall: 1.0000\n",
            "Val MAE: 41.6678 | Val R2: -2.4066 | LR: 7.99e-06\n"
          ]
        },
        {
          "output_type": "stream",
          "name": "stderr",
          "text": [
            "<ipython-input-8-3051131134>:566: FutureWarning: `torch.cuda.amp.autocast(args...)` is deprecated. Please use `torch.amp.autocast('cuda', args...)` instead.\n",
            "  with autocast():\n",
            "<ipython-input-8-3051131134>:593: FutureWarning: `torch.cuda.amp.autocast(args...)` is deprecated. Please use `torch.amp.autocast('cuda', args...)` instead.\n",
            "  with torch.no_grad(), autocast():\n"
          ]
        },
        {
          "output_type": "stream",
          "name": "stdout",
          "text": [
            "EarlyStopping counter: 2/10, best min: 0.1247\n",
            "Epoch 4/100\n",
            "Train Loss: 0.2433 (Cls: 0.1489, Reg: 0.1348)\n",
            "Val Loss: 0.1723 (Cls: 0.1416, Reg: 0.0438)\n",
            "Val Acc: 0.6667 | Val F1: 0.5333 | Val Precision: 0.6667 | Val Recall: 1.0000\n",
            "Val MAE: 18.0033 | Val R2: 0.2852 | LR: 9.98e-06\n"
          ]
        },
        {
          "output_type": "stream",
          "name": "stderr",
          "text": [
            "<ipython-input-8-3051131134>:566: FutureWarning: `torch.cuda.amp.autocast(args...)` is deprecated. Please use `torch.amp.autocast('cuda', args...)` instead.\n",
            "  with autocast():\n",
            "<ipython-input-8-3051131134>:593: FutureWarning: `torch.cuda.amp.autocast(args...)` is deprecated. Please use `torch.amp.autocast('cuda', args...)` instead.\n",
            "  with torch.no_grad(), autocast():\n"
          ]
        },
        {
          "output_type": "stream",
          "name": "stdout",
          "text": [
            "EarlyStopping counter: 0/10, best min: 0.0995\n",
            "Epoch 5/100\n",
            "Train Loss: 0.2310 (Cls: 0.1541, Reg: 0.1098)\n",
            "Val Loss: 0.0995 (Cls: 0.0752, Reg: 0.0347)\n",
            "Val Acc: 0.3333 | Val F1: 0.1667 | Val Precision: 0.0000 | Val Recall: 0.0000\n",
            "Val MAE: 17.4045 | Val R2: 0.3532 | LR: 9.98e-06\n"
          ]
        },
        {
          "output_type": "stream",
          "name": "stderr",
          "text": [
            "<ipython-input-8-3051131134>:566: FutureWarning: `torch.cuda.amp.autocast(args...)` is deprecated. Please use `torch.amp.autocast('cuda', args...)` instead.\n",
            "  with autocast():\n",
            "<ipython-input-8-3051131134>:593: FutureWarning: `torch.cuda.amp.autocast(args...)` is deprecated. Please use `torch.amp.autocast('cuda', args...)` instead.\n",
            "  with torch.no_grad(), autocast():\n"
          ]
        },
        {
          "output_type": "stream",
          "name": "stdout",
          "text": [
            "EarlyStopping counter: 0/10, best min: 0.0849\n",
            "Epoch 6/100\n",
            "Train Loss: 0.2119 (Cls: 0.1432, Reg: 0.0982)\n",
            "Val Loss: 0.0849 (Cls: 0.0460, Reg: 0.0555)\n",
            "Val Acc: 0.6667 | Val F1: 0.6667 | Val Precision: 1.0000 | Val Recall: 0.5000\n",
            "Val MAE: 22.0484 | Val R2: 0.0669 | LR: 9.95e-06\n"
          ]
        },
        {
          "output_type": "stream",
          "name": "stderr",
          "text": [
            "<ipython-input-8-3051131134>:566: FutureWarning: `torch.cuda.amp.autocast(args...)` is deprecated. Please use `torch.amp.autocast('cuda', args...)` instead.\n",
            "  with autocast():\n",
            "<ipython-input-8-3051131134>:593: FutureWarning: `torch.cuda.amp.autocast(args...)` is deprecated. Please use `torch.amp.autocast('cuda', args...)` instead.\n",
            "  with torch.no_grad(), autocast():\n"
          ]
        },
        {
          "output_type": "stream",
          "name": "stdout",
          "text": [
            "EarlyStopping counter: 1/10, best min: 0.0849\n",
            "Epoch 7/100\n",
            "Train Loss: 0.1634 (Cls: 0.0857, Reg: 0.1109)\n",
            "Val Loss: 0.1710 (Cls: 0.1287, Reg: 0.0605)\n",
            "Val Acc: 0.6667 | Val F1: 0.5333 | Val Precision: 0.6667 | Val Recall: 1.0000\n",
            "Val MAE: 23.0533 | Val R2: -0.0640 | LR: 9.92e-06\n"
          ]
        },
        {
          "output_type": "stream",
          "name": "stderr",
          "text": [
            "<ipython-input-8-3051131134>:566: FutureWarning: `torch.cuda.amp.autocast(args...)` is deprecated. Please use `torch.amp.autocast('cuda', args...)` instead.\n",
            "  with autocast():\n",
            "<ipython-input-8-3051131134>:593: FutureWarning: `torch.cuda.amp.autocast(args...)` is deprecated. Please use `torch.amp.autocast('cuda', args...)` instead.\n",
            "  with torch.no_grad(), autocast():\n"
          ]
        },
        {
          "output_type": "stream",
          "name": "stdout",
          "text": [
            "EarlyStopping counter: 0/10, best min: 0.0614\n",
            "Epoch 8/100\n",
            "Train Loss: 0.2216 (Cls: 0.1407, Reg: 0.1156)\n",
            "Val Loss: 0.0614 (Cls: 0.0416, Reg: 0.0283)\n",
            "Val Acc: 1.0000 | Val F1: 1.0000 | Val Precision: 1.0000 | Val Recall: 1.0000\n",
            "Val MAE: 15.7646 | Val R2: 0.5142 | LR: 9.88e-06\n"
          ]
        },
        {
          "output_type": "stream",
          "name": "stderr",
          "text": [
            "<ipython-input-8-3051131134>:566: FutureWarning: `torch.cuda.amp.autocast(args...)` is deprecated. Please use `torch.amp.autocast('cuda', args...)` instead.\n",
            "  with autocast():\n",
            "<ipython-input-8-3051131134>:593: FutureWarning: `torch.cuda.amp.autocast(args...)` is deprecated. Please use `torch.amp.autocast('cuda', args...)` instead.\n",
            "  with torch.no_grad(), autocast():\n"
          ]
        },
        {
          "output_type": "stream",
          "name": "stdout",
          "text": [
            "EarlyStopping counter: 1/10, best min: 0.0614\n",
            "Epoch 9/100\n",
            "Train Loss: 0.1674 (Cls: 0.0993, Reg: 0.0973)\n",
            "Val Loss: 0.0826 (Cls: 0.0405, Reg: 0.0601)\n",
            "Val Acc: 0.5556 | Val F1: 0.5333 | Val Precision: 1.0000 | Val Recall: 0.3333\n",
            "Val MAE: 23.0606 | Val R2: -0.0445 | LR: 9.84e-06\n"
          ]
        },
        {
          "output_type": "stream",
          "name": "stderr",
          "text": [
            "<ipython-input-8-3051131134>:566: FutureWarning: `torch.cuda.amp.autocast(args...)` is deprecated. Please use `torch.amp.autocast('cuda', args...)` instead.\n",
            "  with autocast():\n",
            "<ipython-input-8-3051131134>:593: FutureWarning: `torch.cuda.amp.autocast(args...)` is deprecated. Please use `torch.amp.autocast('cuda', args...)` instead.\n",
            "  with torch.no_grad(), autocast():\n"
          ]
        },
        {
          "output_type": "stream",
          "name": "stdout",
          "text": [
            "EarlyStopping counter: 2/10, best min: 0.0614\n",
            "Epoch 10/100\n",
            "Train Loss: 0.1366 (Cls: 0.0855, Reg: 0.0730)\n",
            "Val Loss: 0.0646 (Cls: 0.0403, Reg: 0.0348)\n",
            "Val Acc: 1.0000 | Val F1: 1.0000 | Val Precision: 1.0000 | Val Recall: 1.0000\n",
            "Val MAE: 16.6815 | Val R2: 0.4800 | LR: 9.79e-06\n"
          ]
        },
        {
          "output_type": "stream",
          "name": "stderr",
          "text": [
            "<ipython-input-8-3051131134>:566: FutureWarning: `torch.cuda.amp.autocast(args...)` is deprecated. Please use `torch.amp.autocast('cuda', args...)` instead.\n",
            "  with autocast():\n",
            "<ipython-input-8-3051131134>:593: FutureWarning: `torch.cuda.amp.autocast(args...)` is deprecated. Please use `torch.amp.autocast('cuda', args...)` instead.\n",
            "  with torch.no_grad(), autocast():\n"
          ]
        },
        {
          "output_type": "stream",
          "name": "stdout",
          "text": [
            "EarlyStopping counter: 0/10, best min: 0.0560\n",
            "Epoch 11/100\n",
            "Train Loss: 0.1480 (Cls: 0.0731, Reg: 0.1070)\n",
            "Val Loss: 0.0560 (Cls: 0.0372, Reg: 0.0268)\n",
            "Val Acc: 1.0000 | Val F1: 1.0000 | Val Precision: 1.0000 | Val Recall: 1.0000\n",
            "Val MAE: 14.5494 | Val R2: 0.5858 | LR: 9.74e-06\n"
          ]
        },
        {
          "output_type": "stream",
          "name": "stderr",
          "text": [
            "<ipython-input-8-3051131134>:566: FutureWarning: `torch.cuda.amp.autocast(args...)` is deprecated. Please use `torch.amp.autocast('cuda', args...)` instead.\n",
            "  with autocast():\n",
            "<ipython-input-8-3051131134>:593: FutureWarning: `torch.cuda.amp.autocast(args...)` is deprecated. Please use `torch.amp.autocast('cuda', args...)` instead.\n",
            "  with torch.no_grad(), autocast():\n"
          ]
        },
        {
          "output_type": "stream",
          "name": "stdout",
          "text": [
            "EarlyStopping counter: 1/10, best min: 0.0560\n",
            "Epoch 12/100\n",
            "Train Loss: 0.1040 (Cls: 0.0495, Reg: 0.0778)\n",
            "Val Loss: 0.0598 (Cls: 0.0349, Reg: 0.0356)\n",
            "Val Acc: 1.0000 | Val F1: 1.0000 | Val Precision: 1.0000 | Val Recall: 1.0000\n",
            "Val MAE: 17.2146 | Val R2: 0.4069 | LR: 9.69e-06\n"
          ]
        },
        {
          "output_type": "stream",
          "name": "stderr",
          "text": [
            "<ipython-input-8-3051131134>:566: FutureWarning: `torch.cuda.amp.autocast(args...)` is deprecated. Please use `torch.amp.autocast('cuda', args...)` instead.\n",
            "  with autocast():\n",
            "<ipython-input-8-3051131134>:593: FutureWarning: `torch.cuda.amp.autocast(args...)` is deprecated. Please use `torch.amp.autocast('cuda', args...)` instead.\n",
            "  with torch.no_grad(), autocast():\n"
          ]
        },
        {
          "output_type": "stream",
          "name": "stdout",
          "text": [
            "EarlyStopping counter: 2/10, best min: 0.0560\n",
            "Epoch 13/100\n",
            "Train Loss: 0.1602 (Cls: 0.1016, Reg: 0.0837)\n",
            "Val Loss: 0.0666 (Cls: 0.0322, Reg: 0.0492)\n",
            "Val Acc: 1.0000 | Val F1: 1.0000 | Val Precision: 1.0000 | Val Recall: 1.0000\n",
            "Val MAE: 20.7999 | Val R2: 0.1400 | LR: 9.63e-06\n"
          ]
        },
        {
          "output_type": "stream",
          "name": "stderr",
          "text": [
            "<ipython-input-8-3051131134>:566: FutureWarning: `torch.cuda.amp.autocast(args...)` is deprecated. Please use `torch.amp.autocast('cuda', args...)` instead.\n",
            "  with autocast():\n",
            "<ipython-input-8-3051131134>:593: FutureWarning: `torch.cuda.amp.autocast(args...)` is deprecated. Please use `torch.amp.autocast('cuda', args...)` instead.\n",
            "  with torch.no_grad(), autocast():\n"
          ]
        },
        {
          "output_type": "stream",
          "name": "stdout",
          "text": [
            "EarlyStopping counter: 0/10, best min: 0.0434\n",
            "Epoch 14/100\n",
            "Train Loss: 0.1272 (Cls: 0.0551, Reg: 0.1029)\n",
            "Val Loss: 0.0434 (Cls: 0.0334, Reg: 0.0143)\n",
            "Val Acc: 0.6667 | Val F1: 0.6667 | Val Precision: 1.0000 | Val Recall: 0.5000\n",
            "Val MAE: 12.5853 | Val R2: 0.6050 | LR: 9.56e-06\n"
          ]
        },
        {
          "output_type": "stream",
          "name": "stderr",
          "text": [
            "<ipython-input-8-3051131134>:566: FutureWarning: `torch.cuda.amp.autocast(args...)` is deprecated. Please use `torch.amp.autocast('cuda', args...)` instead.\n",
            "  with autocast():\n",
            "<ipython-input-8-3051131134>:593: FutureWarning: `torch.cuda.amp.autocast(args...)` is deprecated. Please use `torch.amp.autocast('cuda', args...)` instead.\n",
            "  with torch.no_grad(), autocast():\n"
          ]
        },
        {
          "output_type": "stream",
          "name": "stdout",
          "text": [
            "EarlyStopping counter: 1/10, best min: 0.0434\n",
            "Epoch 15/100\n",
            "Train Loss: 0.1334 (Cls: 0.0851, Reg: 0.0689)\n",
            "Val Loss: 0.1491 (Cls: 0.0348, Reg: 0.1633)\n",
            "Val Acc: 0.8889 | Val F1: 0.8821 | Val Precision: 0.8571 | Val Recall: 1.0000\n",
            "Val MAE: 41.1799 | Val R2: -2.1679 | LR: 9.49e-06\n"
          ]
        },
        {
          "output_type": "stream",
          "name": "stderr",
          "text": [
            "<ipython-input-8-3051131134>:566: FutureWarning: `torch.cuda.amp.autocast(args...)` is deprecated. Please use `torch.amp.autocast('cuda', args...)` instead.\n",
            "  with autocast():\n",
            "<ipython-input-8-3051131134>:593: FutureWarning: `torch.cuda.amp.autocast(args...)` is deprecated. Please use `torch.amp.autocast('cuda', args...)` instead.\n",
            "  with torch.no_grad(), autocast():\n"
          ]
        },
        {
          "output_type": "stream",
          "name": "stdout",
          "text": [
            "EarlyStopping counter: 2/10, best min: 0.0434\n",
            "Epoch 16/100\n",
            "Train Loss: 0.1224 (Cls: 0.0541, Reg: 0.0977)\n",
            "Val Loss: 0.0694 (Cls: 0.0591, Reg: 0.0146)\n",
            "Val Acc: 0.6667 | Val F1: 0.5333 | Val Precision: 0.6667 | Val Recall: 1.0000\n",
            "Val MAE: 11.3621 | Val R2: 0.5748 | LR: 9.42e-06\n"
          ]
        },
        {
          "output_type": "stream",
          "name": "stderr",
          "text": [
            "<ipython-input-8-3051131134>:566: FutureWarning: `torch.cuda.amp.autocast(args...)` is deprecated. Please use `torch.amp.autocast('cuda', args...)` instead.\n",
            "  with autocast():\n",
            "<ipython-input-8-3051131134>:593: FutureWarning: `torch.cuda.amp.autocast(args...)` is deprecated. Please use `torch.amp.autocast('cuda', args...)` instead.\n",
            "  with torch.no_grad(), autocast():\n"
          ]
        },
        {
          "output_type": "stream",
          "name": "stdout",
          "text": [
            "EarlyStopping counter: 3/10, best min: 0.0434\n",
            "Epoch 17/100\n",
            "Train Loss: 0.1440 (Cls: 0.0800, Reg: 0.0915)\n",
            "Val Loss: 0.0669 (Cls: 0.0529, Reg: 0.0200)\n",
            "Val Acc: 0.6667 | Val F1: 0.5333 | Val Precision: 0.6667 | Val Recall: 1.0000\n",
            "Val MAE: 13.0510 | Val R2: 0.6201 | LR: 9.34e-06\n"
          ]
        },
        {
          "output_type": "stream",
          "name": "stderr",
          "text": [
            "<ipython-input-8-3051131134>:566: FutureWarning: `torch.cuda.amp.autocast(args...)` is deprecated. Please use `torch.amp.autocast('cuda', args...)` instead.\n",
            "  with autocast():\n",
            "<ipython-input-8-3051131134>:593: FutureWarning: `torch.cuda.amp.autocast(args...)` is deprecated. Please use `torch.amp.autocast('cuda', args...)` instead.\n",
            "  with torch.no_grad(), autocast():\n"
          ]
        },
        {
          "output_type": "stream",
          "name": "stdout",
          "text": [
            "EarlyStopping counter: 4/10, best min: 0.0434\n",
            "Epoch 18/100\n",
            "Train Loss: 0.0937 (Cls: 0.0452, Reg: 0.0694)\n",
            "Val Loss: 0.0617 (Cls: 0.0274, Reg: 0.0490)\n",
            "Val Acc: 1.0000 | Val F1: 1.0000 | Val Precision: 1.0000 | Val Recall: 1.0000\n",
            "Val MAE: 20.2775 | Val R2: 0.1961 | LR: 9.26e-06\n"
          ]
        },
        {
          "output_type": "stream",
          "name": "stderr",
          "text": [
            "<ipython-input-8-3051131134>:566: FutureWarning: `torch.cuda.amp.autocast(args...)` is deprecated. Please use `torch.amp.autocast('cuda', args...)` instead.\n",
            "  with autocast():\n",
            "<ipython-input-8-3051131134>:593: FutureWarning: `torch.cuda.amp.autocast(args...)` is deprecated. Please use `torch.amp.autocast('cuda', args...)` instead.\n",
            "  with torch.no_grad(), autocast():\n"
          ]
        },
        {
          "output_type": "stream",
          "name": "stdout",
          "text": [
            "EarlyStopping counter: 5/10, best min: 0.0434\n",
            "Epoch 19/100\n",
            "Train Loss: 0.0929 (Cls: 0.0477, Reg: 0.0645)\n",
            "Val Loss: 0.0683 (Cls: 0.0566, Reg: 0.0168)\n",
            "Val Acc: 0.6667 | Val F1: 0.5333 | Val Precision: 0.6667 | Val Recall: 1.0000\n",
            "Val MAE: 15.9681 | Val R2: 0.2832 | LR: 9.17e-06\n"
          ]
        },
        {
          "output_type": "stream",
          "name": "stderr",
          "text": [
            "<ipython-input-8-3051131134>:566: FutureWarning: `torch.cuda.amp.autocast(args...)` is deprecated. Please use `torch.amp.autocast('cuda', args...)` instead.\n",
            "  with autocast():\n",
            "<ipython-input-8-3051131134>:593: FutureWarning: `torch.cuda.amp.autocast(args...)` is deprecated. Please use `torch.amp.autocast('cuda', args...)` instead.\n",
            "  with torch.no_grad(), autocast():\n"
          ]
        },
        {
          "output_type": "stream",
          "name": "stdout",
          "text": [
            "EarlyStopping counter: 6/10, best min: 0.0434\n",
            "Epoch 20/100\n",
            "Train Loss: 0.1170 (Cls: 0.0667, Reg: 0.0720)\n",
            "Val Loss: 0.0617 (Cls: 0.0500, Reg: 0.0167)\n",
            "Val Acc: 0.7778 | Val F1: 0.7381 | Val Precision: 0.7500 | Val Recall: 1.0000\n",
            "Val MAE: 16.2267 | Val R2: 0.2833 | LR: 4.54e-06\n"
          ]
        },
        {
          "output_type": "stream",
          "name": "stderr",
          "text": [
            "<ipython-input-8-3051131134>:566: FutureWarning: `torch.cuda.amp.autocast(args...)` is deprecated. Please use `torch.amp.autocast('cuda', args...)` instead.\n",
            "  with autocast():\n",
            "<ipython-input-8-3051131134>:593: FutureWarning: `torch.cuda.amp.autocast(args...)` is deprecated. Please use `torch.amp.autocast('cuda', args...)` instead.\n",
            "  with torch.no_grad(), autocast():\n"
          ]
        },
        {
          "output_type": "stream",
          "name": "stdout",
          "text": [
            "EarlyStopping counter: 0/10, best min: 0.0360\n",
            "Epoch 21/100\n",
            "Train Loss: 0.1345 (Cls: 0.0874, Reg: 0.0674)\n",
            "Val Loss: 0.0360 (Cls: 0.0287, Reg: 0.0104)\n",
            "Val Acc: 0.8889 | Val F1: 0.8821 | Val Precision: 0.8571 | Val Recall: 1.0000\n",
            "Val MAE: 12.1683 | Val R2: 0.6743 | LR: 4.49e-06\n"
          ]
        },
        {
          "output_type": "stream",
          "name": "stderr",
          "text": [
            "<ipython-input-8-3051131134>:566: FutureWarning: `torch.cuda.amp.autocast(args...)` is deprecated. Please use `torch.amp.autocast('cuda', args...)` instead.\n",
            "  with autocast():\n",
            "<ipython-input-8-3051131134>:593: FutureWarning: `torch.cuda.amp.autocast(args...)` is deprecated. Please use `torch.amp.autocast('cuda', args...)` instead.\n",
            "  with torch.no_grad(), autocast():\n"
          ]
        },
        {
          "output_type": "stream",
          "name": "stdout",
          "text": [
            "EarlyStopping counter: 0/10, best min: 0.0247\n",
            "Epoch 22/100\n",
            "Train Loss: 0.0849 (Cls: 0.0574, Reg: 0.0393)\n",
            "Val Loss: 0.0247 (Cls: 0.0208, Reg: 0.0056)\n",
            "Val Acc: 1.0000 | Val F1: 1.0000 | Val Precision: 1.0000 | Val Recall: 1.0000\n",
            "Val MAE: 10.1149 | Val R2: 0.7660 | LR: 4.44e-06\n"
          ]
        },
        {
          "output_type": "stream",
          "name": "stderr",
          "text": [
            "<ipython-input-8-3051131134>:566: FutureWarning: `torch.cuda.amp.autocast(args...)` is deprecated. Please use `torch.amp.autocast('cuda', args...)` instead.\n",
            "  with autocast():\n",
            "<ipython-input-8-3051131134>:593: FutureWarning: `torch.cuda.amp.autocast(args...)` is deprecated. Please use `torch.amp.autocast('cuda', args...)` instead.\n",
            "  with torch.no_grad(), autocast():\n"
          ]
        },
        {
          "output_type": "stream",
          "name": "stdout",
          "text": [
            "EarlyStopping counter: 1/10, best min: 0.0247\n",
            "Epoch 23/100\n",
            "Train Loss: 0.0959 (Cls: 0.0564, Reg: 0.0564)\n",
            "Val Loss: 0.0431 (Cls: 0.0391, Reg: 0.0057)\n",
            "Val Acc: 0.4444 | Val F1: 0.3723 | Val Precision: 1.0000 | Val Recall: 0.1667\n",
            "Val MAE: 9.9072 | Val R2: 0.7744 | LR: 4.39e-06\n"
          ]
        },
        {
          "output_type": "stream",
          "name": "stderr",
          "text": [
            "<ipython-input-8-3051131134>:566: FutureWarning: `torch.cuda.amp.autocast(args...)` is deprecated. Please use `torch.amp.autocast('cuda', args...)` instead.\n",
            "  with autocast():\n",
            "<ipython-input-8-3051131134>:593: FutureWarning: `torch.cuda.amp.autocast(args...)` is deprecated. Please use `torch.amp.autocast('cuda', args...)` instead.\n",
            "  with torch.no_grad(), autocast():\n"
          ]
        },
        {
          "output_type": "stream",
          "name": "stdout",
          "text": [
            "EarlyStopping counter: 2/10, best min: 0.0247\n",
            "Epoch 24/100\n",
            "Train Loss: 0.1177 (Cls: 0.0733, Reg: 0.0635)\n",
            "Val Loss: 0.0290 (Cls: 0.0252, Reg: 0.0055)\n",
            "Val Acc: 0.8889 | Val F1: 0.8918 | Val Precision: 1.0000 | Val Recall: 0.8333\n",
            "Val MAE: 10.1896 | Val R2: 0.7755 | LR: 4.34e-06\n"
          ]
        },
        {
          "output_type": "stream",
          "name": "stderr",
          "text": [
            "<ipython-input-8-3051131134>:566: FutureWarning: `torch.cuda.amp.autocast(args...)` is deprecated. Please use `torch.amp.autocast('cuda', args...)` instead.\n",
            "  with autocast():\n",
            "<ipython-input-8-3051131134>:593: FutureWarning: `torch.cuda.amp.autocast(args...)` is deprecated. Please use `torch.amp.autocast('cuda', args...)` instead.\n",
            "  with torch.no_grad(), autocast():\n"
          ]
        },
        {
          "output_type": "stream",
          "name": "stdout",
          "text": [
            "EarlyStopping counter: 0/10, best min: 0.0208\n",
            "Epoch 25/100\n",
            "Train Loss: 0.0762 (Cls: 0.0359, Reg: 0.0576)\n",
            "Val Loss: 0.0208 (Cls: 0.0167, Reg: 0.0059)\n",
            "Val Acc: 0.8889 | Val F1: 0.8918 | Val Precision: 1.0000 | Val Recall: 0.8333\n",
            "Val MAE: 10.5717 | Val R2: 0.7729 | LR: 4.28e-06\n"
          ]
        },
        {
          "output_type": "stream",
          "name": "stderr",
          "text": [
            "<ipython-input-8-3051131134>:566: FutureWarning: `torch.cuda.amp.autocast(args...)` is deprecated. Please use `torch.amp.autocast('cuda', args...)` instead.\n",
            "  with autocast():\n",
            "<ipython-input-8-3051131134>:593: FutureWarning: `torch.cuda.amp.autocast(args...)` is deprecated. Please use `torch.amp.autocast('cuda', args...)` instead.\n",
            "  with torch.no_grad(), autocast():\n"
          ]
        },
        {
          "output_type": "stream",
          "name": "stdout",
          "text": [
            "EarlyStopping counter: 0/10, best min: 0.0203\n",
            "Epoch 26/100\n",
            "Train Loss: 0.1183 (Cls: 0.0708, Reg: 0.0678)\n",
            "Val Loss: 0.0203 (Cls: 0.0160, Reg: 0.0061)\n",
            "Val Acc: 0.8889 | Val F1: 0.8918 | Val Precision: 1.0000 | Val Recall: 0.8333\n",
            "Val MAE: 10.4294 | Val R2: 0.7801 | LR: 4.23e-06\n"
          ]
        },
        {
          "output_type": "stream",
          "name": "stderr",
          "text": [
            "<ipython-input-8-3051131134>:566: FutureWarning: `torch.cuda.amp.autocast(args...)` is deprecated. Please use `torch.amp.autocast('cuda', args...)` instead.\n",
            "  with autocast():\n",
            "<ipython-input-8-3051131134>:593: FutureWarning: `torch.cuda.amp.autocast(args...)` is deprecated. Please use `torch.amp.autocast('cuda', args...)` instead.\n",
            "  with torch.no_grad(), autocast():\n"
          ]
        },
        {
          "output_type": "stream",
          "name": "stdout",
          "text": [
            "EarlyStopping counter: 1/10, best min: 0.0203\n",
            "Epoch 27/100\n",
            "Train Loss: 0.0711 (Cls: 0.0303, Reg: 0.0583)\n",
            "Val Loss: 0.0211 (Cls: 0.0170, Reg: 0.0059)\n",
            "Val Acc: 0.8889 | Val F1: 0.8918 | Val Precision: 1.0000 | Val Recall: 0.8333\n",
            "Val MAE: 10.6976 | Val R2: 0.7650 | LR: 4.17e-06\n"
          ]
        },
        {
          "output_type": "stream",
          "name": "stderr",
          "text": [
            "<ipython-input-8-3051131134>:566: FutureWarning: `torch.cuda.amp.autocast(args...)` is deprecated. Please use `torch.amp.autocast('cuda', args...)` instead.\n",
            "  with autocast():\n",
            "<ipython-input-8-3051131134>:593: FutureWarning: `torch.cuda.amp.autocast(args...)` is deprecated. Please use `torch.amp.autocast('cuda', args...)` instead.\n",
            "  with torch.no_grad(), autocast():\n"
          ]
        },
        {
          "output_type": "stream",
          "name": "stdout",
          "text": [
            "EarlyStopping counter: 2/10, best min: 0.0203\n",
            "Epoch 28/100\n",
            "Train Loss: 0.0623 (Cls: 0.0358, Reg: 0.0378)\n",
            "Val Loss: 0.0226 (Cls: 0.0182, Reg: 0.0063)\n",
            "Val Acc: 0.8889 | Val F1: 0.8918 | Val Precision: 1.0000 | Val Recall: 0.8333\n",
            "Val MAE: 11.0767 | Val R2: 0.7664 | LR: 4.11e-06\n"
          ]
        },
        {
          "output_type": "stream",
          "name": "stderr",
          "text": [
            "<ipython-input-8-3051131134>:566: FutureWarning: `torch.cuda.amp.autocast(args...)` is deprecated. Please use `torch.amp.autocast('cuda', args...)` instead.\n",
            "  with autocast():\n",
            "<ipython-input-8-3051131134>:593: FutureWarning: `torch.cuda.amp.autocast(args...)` is deprecated. Please use `torch.amp.autocast('cuda', args...)` instead.\n",
            "  with torch.no_grad(), autocast():\n"
          ]
        },
        {
          "output_type": "stream",
          "name": "stdout",
          "text": [
            "EarlyStopping counter: 3/10, best min: 0.0203\n",
            "Epoch 29/100\n",
            "Train Loss: 0.0937 (Cls: 0.0466, Reg: 0.0673)\n",
            "Val Loss: 0.0289 (Cls: 0.0210, Reg: 0.0113)\n",
            "Val Acc: 0.8889 | Val F1: 0.8918 | Val Precision: 1.0000 | Val Recall: 0.8333\n",
            "Val MAE: 13.4792 | Val R2: 0.5594 | LR: 4.05e-06\n"
          ]
        },
        {
          "output_type": "stream",
          "name": "stderr",
          "text": [
            "<ipython-input-8-3051131134>:566: FutureWarning: `torch.cuda.amp.autocast(args...)` is deprecated. Please use `torch.amp.autocast('cuda', args...)` instead.\n",
            "  with autocast():\n",
            "<ipython-input-8-3051131134>:593: FutureWarning: `torch.cuda.amp.autocast(args...)` is deprecated. Please use `torch.amp.autocast('cuda', args...)` instead.\n",
            "  with torch.no_grad(), autocast():\n"
          ]
        },
        {
          "output_type": "stream",
          "name": "stdout",
          "text": [
            "EarlyStopping counter: 4/10, best min: 0.0203\n",
            "Epoch 30/100\n",
            "Train Loss: 0.0606 (Cls: 0.0250, Reg: 0.0508)\n",
            "Val Loss: 0.0253 (Cls: 0.0216, Reg: 0.0054)\n",
            "Val Acc: 0.8889 | Val F1: 0.8918 | Val Precision: 1.0000 | Val Recall: 0.8333\n",
            "Val MAE: 10.1576 | Val R2: 0.7724 | LR: 3.99e-06\n"
          ]
        },
        {
          "output_type": "stream",
          "name": "stderr",
          "text": [
            "<ipython-input-8-3051131134>:566: FutureWarning: `torch.cuda.amp.autocast(args...)` is deprecated. Please use `torch.amp.autocast('cuda', args...)` instead.\n",
            "  with autocast():\n",
            "<ipython-input-8-3051131134>:593: FutureWarning: `torch.cuda.amp.autocast(args...)` is deprecated. Please use `torch.amp.autocast('cuda', args...)` instead.\n",
            "  with torch.no_grad(), autocast():\n"
          ]
        },
        {
          "output_type": "stream",
          "name": "stdout",
          "text": [
            "EarlyStopping counter: 5/10, best min: 0.0203\n",
            "Epoch 31/100\n",
            "Train Loss: 0.0853 (Cls: 0.0470, Reg: 0.0547)\n",
            "Val Loss: 0.0221 (Cls: 0.0169, Reg: 0.0073)\n",
            "Val Acc: 0.8889 | Val F1: 0.8918 | Val Precision: 1.0000 | Val Recall: 0.8333\n",
            "Val MAE: 10.0856 | Val R2: 0.7628 | LR: 3.92e-06\n"
          ]
        },
        {
          "output_type": "stream",
          "name": "stderr",
          "text": [
            "<ipython-input-8-3051131134>:566: FutureWarning: `torch.cuda.amp.autocast(args...)` is deprecated. Please use `torch.amp.autocast('cuda', args...)` instead.\n",
            "  with autocast():\n",
            "<ipython-input-8-3051131134>:593: FutureWarning: `torch.cuda.amp.autocast(args...)` is deprecated. Please use `torch.amp.autocast('cuda', args...)` instead.\n",
            "  with torch.no_grad(), autocast():\n"
          ]
        },
        {
          "output_type": "stream",
          "name": "stdout",
          "text": [
            "EarlyStopping counter: 6/10, best min: 0.0203\n",
            "Epoch 32/100\n",
            "Train Loss: 0.0642 (Cls: 0.0353, Reg: 0.0412)\n",
            "Val Loss: 0.0206 (Cls: 0.0167, Reg: 0.0055)\n",
            "Val Acc: 0.8889 | Val F1: 0.8918 | Val Precision: 1.0000 | Val Recall: 0.8333\n",
            "Val MAE: 9.7993 | Val R2: 0.7791 | LR: 1.93e-06\n"
          ]
        },
        {
          "output_type": "stream",
          "name": "stderr",
          "text": [
            "<ipython-input-8-3051131134>:566: FutureWarning: `torch.cuda.amp.autocast(args...)` is deprecated. Please use `torch.amp.autocast('cuda', args...)` instead.\n",
            "  with autocast():\n",
            "<ipython-input-8-3051131134>:593: FutureWarning: `torch.cuda.amp.autocast(args...)` is deprecated. Please use `torch.amp.autocast('cuda', args...)` instead.\n",
            "  with torch.no_grad(), autocast():\n"
          ]
        },
        {
          "output_type": "stream",
          "name": "stdout",
          "text": [
            "EarlyStopping counter: 7/10, best min: 0.0203\n",
            "Epoch 33/100\n",
            "Train Loss: 0.0898 (Cls: 0.0411, Reg: 0.0697)\n",
            "Val Loss: 0.0244 (Cls: 0.0181, Reg: 0.0090)\n",
            "Val Acc: 0.8889 | Val F1: 0.8918 | Val Precision: 1.0000 | Val Recall: 0.8333\n",
            "Val MAE: 12.4698 | Val R2: 0.6615 | LR: 1.89e-06\n"
          ]
        },
        {
          "output_type": "stream",
          "name": "stderr",
          "text": [
            "<ipython-input-8-3051131134>:566: FutureWarning: `torch.cuda.amp.autocast(args...)` is deprecated. Please use `torch.amp.autocast('cuda', args...)` instead.\n",
            "  with autocast():\n",
            "<ipython-input-8-3051131134>:593: FutureWarning: `torch.cuda.amp.autocast(args...)` is deprecated. Please use `torch.amp.autocast('cuda', args...)` instead.\n",
            "  with torch.no_grad(), autocast():\n"
          ]
        },
        {
          "output_type": "stream",
          "name": "stdout",
          "text": [
            "EarlyStopping counter: 8/10, best min: 0.0203\n",
            "Epoch 34/100\n",
            "Train Loss: 0.0907 (Cls: 0.0589, Reg: 0.0454)\n",
            "Val Loss: 0.0246 (Cls: 0.0164, Reg: 0.0118)\n",
            "Val Acc: 0.8889 | Val F1: 0.8918 | Val Precision: 1.0000 | Val Recall: 0.8333\n",
            "Val MAE: 13.6576 | Val R2: 0.5922 | LR: 1.86e-06\n"
          ]
        },
        {
          "output_type": "stream",
          "name": "stderr",
          "text": [
            "<ipython-input-8-3051131134>:566: FutureWarning: `torch.cuda.amp.autocast(args...)` is deprecated. Please use `torch.amp.autocast('cuda', args...)` instead.\n",
            "  with autocast():\n",
            "<ipython-input-8-3051131134>:593: FutureWarning: `torch.cuda.amp.autocast(args...)` is deprecated. Please use `torch.amp.autocast('cuda', args...)` instead.\n",
            "  with torch.no_grad(), autocast():\n"
          ]
        },
        {
          "output_type": "stream",
          "name": "stdout",
          "text": [
            "EarlyStopping counter: 9/10, best min: 0.0203\n",
            "Epoch 35/100\n",
            "Train Loss: 0.0615 (Cls: 0.0415, Reg: 0.0286)\n",
            "Val Loss: 0.0218 (Cls: 0.0136, Reg: 0.0117)\n",
            "Val Acc: 0.8889 | Val F1: 0.8918 | Val Precision: 1.0000 | Val Recall: 0.8333\n",
            "Val MAE: 13.6766 | Val R2: 0.5831 | LR: 1.82e-06\n"
          ]
        },
        {
          "output_type": "stream",
          "name": "stderr",
          "text": [
            "<ipython-input-8-3051131134>:566: FutureWarning: `torch.cuda.amp.autocast(args...)` is deprecated. Please use `torch.amp.autocast('cuda', args...)` instead.\n",
            "  with autocast():\n",
            "<ipython-input-8-3051131134>:593: FutureWarning: `torch.cuda.amp.autocast(args...)` is deprecated. Please use `torch.amp.autocast('cuda', args...)` instead.\n",
            "  with torch.no_grad(), autocast():\n"
          ]
        },
        {
          "output_type": "stream",
          "name": "stdout",
          "text": [
            "EarlyStopping counter: 0/10, best min: 0.0191\n",
            "Epoch 36/100\n",
            "Train Loss: 0.0766 (Cls: 0.0348, Reg: 0.0597)\n",
            "Val Loss: 0.0191 (Cls: 0.0153, Reg: 0.0054)\n",
            "Val Acc: 0.8889 | Val F1: 0.8918 | Val Precision: 1.0000 | Val Recall: 0.8333\n",
            "Val MAE: 9.7319 | Val R2: 0.7713 | LR: 1.79e-06\n"
          ]
        },
        {
          "output_type": "stream",
          "name": "stderr",
          "text": [
            "<ipython-input-8-3051131134>:566: FutureWarning: `torch.cuda.amp.autocast(args...)` is deprecated. Please use `torch.amp.autocast('cuda', args...)` instead.\n",
            "  with autocast():\n",
            "<ipython-input-8-3051131134>:593: FutureWarning: `torch.cuda.amp.autocast(args...)` is deprecated. Please use `torch.amp.autocast('cuda', args...)` instead.\n",
            "  with torch.no_grad(), autocast():\n"
          ]
        },
        {
          "output_type": "stream",
          "name": "stdout",
          "text": [
            "EarlyStopping counter: 1/10, best min: 0.0191\n",
            "Epoch 37/100\n",
            "Train Loss: 0.0707 (Cls: 0.0468, Reg: 0.0341)\n",
            "Val Loss: 0.0252 (Cls: 0.0198, Reg: 0.0078)\n",
            "Val Acc: 0.8889 | Val F1: 0.8918 | Val Precision: 1.0000 | Val Recall: 0.8333\n",
            "Val MAE: 9.7193 | Val R2: 0.7577 | LR: 1.75e-06\n"
          ]
        },
        {
          "output_type": "stream",
          "name": "stderr",
          "text": [
            "<ipython-input-8-3051131134>:566: FutureWarning: `torch.cuda.amp.autocast(args...)` is deprecated. Please use `torch.amp.autocast('cuda', args...)` instead.\n",
            "  with autocast():\n",
            "<ipython-input-8-3051131134>:593: FutureWarning: `torch.cuda.amp.autocast(args...)` is deprecated. Please use `torch.amp.autocast('cuda', args...)` instead.\n",
            "  with torch.no_grad(), autocast():\n"
          ]
        },
        {
          "output_type": "stream",
          "name": "stdout",
          "text": [
            "EarlyStopping counter: 2/10, best min: 0.0191\n",
            "Epoch 38/100\n",
            "Train Loss: 0.0721 (Cls: 0.0372, Reg: 0.0498)\n",
            "Val Loss: 0.0259 (Cls: 0.0206, Reg: 0.0076)\n",
            "Val Acc: 0.8889 | Val F1: 0.8918 | Val Precision: 1.0000 | Val Recall: 0.8333\n",
            "Val MAE: 9.5367 | Val R2: 0.7637 | LR: 1.72e-06\n"
          ]
        },
        {
          "output_type": "stream",
          "name": "stderr",
          "text": [
            "<ipython-input-8-3051131134>:566: FutureWarning: `torch.cuda.amp.autocast(args...)` is deprecated. Please use `torch.amp.autocast('cuda', args...)` instead.\n",
            "  with autocast():\n",
            "<ipython-input-8-3051131134>:593: FutureWarning: `torch.cuda.amp.autocast(args...)` is deprecated. Please use `torch.amp.autocast('cuda', args...)` instead.\n",
            "  with torch.no_grad(), autocast():\n"
          ]
        },
        {
          "output_type": "stream",
          "name": "stdout",
          "text": [
            "EarlyStopping counter: 3/10, best min: 0.0191\n",
            "Epoch 39/100\n",
            "Train Loss: 0.0795 (Cls: 0.0405, Reg: 0.0558)\n",
            "Val Loss: 0.0212 (Cls: 0.0169, Reg: 0.0061)\n",
            "Val Acc: 0.8889 | Val F1: 0.8918 | Val Precision: 1.0000 | Val Recall: 0.8333\n",
            "Val MAE: 9.6935 | Val R2: 0.7836 | LR: 1.68e-06\n"
          ]
        },
        {
          "output_type": "stream",
          "name": "stderr",
          "text": [
            "<ipython-input-8-3051131134>:566: FutureWarning: `torch.cuda.amp.autocast(args...)` is deprecated. Please use `torch.amp.autocast('cuda', args...)` instead.\n",
            "  with autocast():\n",
            "<ipython-input-8-3051131134>:593: FutureWarning: `torch.cuda.amp.autocast(args...)` is deprecated. Please use `torch.amp.autocast('cuda', args...)` instead.\n",
            "  with torch.no_grad(), autocast():\n"
          ]
        },
        {
          "output_type": "stream",
          "name": "stdout",
          "text": [
            "EarlyStopping counter: 0/10, best min: 0.0161\n",
            "Epoch 40/100\n",
            "Train Loss: 0.0607 (Cls: 0.0283, Reg: 0.0463)\n",
            "Val Loss: 0.0161 (Cls: 0.0116, Reg: 0.0064)\n",
            "Val Acc: 0.8889 | Val F1: 0.8918 | Val Precision: 1.0000 | Val Recall: 0.8333\n",
            "Val MAE: 11.2486 | Val R2: 0.7315 | LR: 1.64e-06\n"
          ]
        },
        {
          "output_type": "stream",
          "name": "stderr",
          "text": [
            "<ipython-input-8-3051131134>:566: FutureWarning: `torch.cuda.amp.autocast(args...)` is deprecated. Please use `torch.amp.autocast('cuda', args...)` instead.\n",
            "  with autocast():\n",
            "<ipython-input-8-3051131134>:593: FutureWarning: `torch.cuda.amp.autocast(args...)` is deprecated. Please use `torch.amp.autocast('cuda', args...)` instead.\n",
            "  with torch.no_grad(), autocast():\n"
          ]
        },
        {
          "output_type": "stream",
          "name": "stdout",
          "text": [
            "EarlyStopping counter: 0/10, best min: 0.0156\n",
            "Epoch 41/100\n",
            "Train Loss: 0.0710 (Cls: 0.0354, Reg: 0.0508)\n",
            "Val Loss: 0.0156 (Cls: 0.0110, Reg: 0.0065)\n",
            "Val Acc: 1.0000 | Val F1: 1.0000 | Val Precision: 1.0000 | Val Recall: 1.0000\n",
            "Val MAE: 11.3322 | Val R2: 0.7271 | LR: 1.61e-06\n"
          ]
        },
        {
          "output_type": "stream",
          "name": "stderr",
          "text": [
            "<ipython-input-8-3051131134>:566: FutureWarning: `torch.cuda.amp.autocast(args...)` is deprecated. Please use `torch.amp.autocast('cuda', args...)` instead.\n",
            "  with autocast():\n",
            "<ipython-input-8-3051131134>:593: FutureWarning: `torch.cuda.amp.autocast(args...)` is deprecated. Please use `torch.amp.autocast('cuda', args...)` instead.\n",
            "  with torch.no_grad(), autocast():\n"
          ]
        },
        {
          "output_type": "stream",
          "name": "stdout",
          "text": [
            "EarlyStopping counter: 0/10, best min: 0.0142\n",
            "Epoch 42/100\n",
            "Train Loss: 0.0612 (Cls: 0.0428, Reg: 0.0262)\n",
            "Val Loss: 0.0142 (Cls: 0.0101, Reg: 0.0059)\n",
            "Val Acc: 1.0000 | Val F1: 1.0000 | Val Precision: 1.0000 | Val Recall: 1.0000\n",
            "Val MAE: 10.6002 | Val R2: 0.7606 | LR: 1.57e-06\n"
          ]
        },
        {
          "output_type": "stream",
          "name": "stderr",
          "text": [
            "<ipython-input-8-3051131134>:566: FutureWarning: `torch.cuda.amp.autocast(args...)` is deprecated. Please use `torch.amp.autocast('cuda', args...)` instead.\n",
            "  with autocast():\n",
            "<ipython-input-8-3051131134>:593: FutureWarning: `torch.cuda.amp.autocast(args...)` is deprecated. Please use `torch.amp.autocast('cuda', args...)` instead.\n",
            "  with torch.no_grad(), autocast():\n"
          ]
        },
        {
          "output_type": "stream",
          "name": "stdout",
          "text": [
            "EarlyStopping counter: 0/10, best min: 0.0135\n",
            "Epoch 43/100\n",
            "Train Loss: 0.0545 (Cls: 0.0297, Reg: 0.0355)\n",
            "Val Loss: 0.0135 (Cls: 0.0097, Reg: 0.0055)\n",
            "Val Acc: 1.0000 | Val F1: 1.0000 | Val Precision: 1.0000 | Val Recall: 1.0000\n",
            "Val MAE: 9.6595 | Val R2: 0.7922 | LR: 1.53e-06\n"
          ]
        },
        {
          "output_type": "stream",
          "name": "stderr",
          "text": [
            "<ipython-input-8-3051131134>:566: FutureWarning: `torch.cuda.amp.autocast(args...)` is deprecated. Please use `torch.amp.autocast('cuda', args...)` instead.\n",
            "  with autocast():\n",
            "<ipython-input-8-3051131134>:593: FutureWarning: `torch.cuda.amp.autocast(args...)` is deprecated. Please use `torch.amp.autocast('cuda', args...)` instead.\n",
            "  with torch.no_grad(), autocast():\n"
          ]
        },
        {
          "output_type": "stream",
          "name": "stdout",
          "text": [
            "EarlyStopping counter: 1/10, best min: 0.0135\n",
            "Epoch 44/100\n",
            "Train Loss: 0.0418 (Cls: 0.0228, Reg: 0.0272)\n",
            "Val Loss: 0.0141 (Cls: 0.0102, Reg: 0.0055)\n",
            "Val Acc: 1.0000 | Val F1: 1.0000 | Val Precision: 1.0000 | Val Recall: 1.0000\n",
            "Val MAE: 9.0799 | Val R2: 0.8129 | LR: 1.49e-06\n"
          ]
        },
        {
          "output_type": "stream",
          "name": "stderr",
          "text": [
            "<ipython-input-8-3051131134>:566: FutureWarning: `torch.cuda.amp.autocast(args...)` is deprecated. Please use `torch.amp.autocast('cuda', args...)` instead.\n",
            "  with autocast():\n",
            "<ipython-input-8-3051131134>:593: FutureWarning: `torch.cuda.amp.autocast(args...)` is deprecated. Please use `torch.amp.autocast('cuda', args...)` instead.\n",
            "  with torch.no_grad(), autocast():\n"
          ]
        },
        {
          "output_type": "stream",
          "name": "stdout",
          "text": [
            "EarlyStopping counter: 2/10, best min: 0.0135\n",
            "Epoch 45/100\n",
            "Train Loss: 0.0505 (Cls: 0.0334, Reg: 0.0245)\n",
            "Val Loss: 0.0140 (Cls: 0.0105, Reg: 0.0050)\n",
            "Val Acc: 0.8889 | Val F1: 0.8918 | Val Precision: 1.0000 | Val Recall: 0.8333\n",
            "Val MAE: 8.8436 | Val R2: 0.8246 | LR: 1.45e-06\n"
          ]
        },
        {
          "output_type": "stream",
          "name": "stderr",
          "text": [
            "<ipython-input-8-3051131134>:566: FutureWarning: `torch.cuda.amp.autocast(args...)` is deprecated. Please use `torch.amp.autocast('cuda', args...)` instead.\n",
            "  with autocast():\n",
            "<ipython-input-8-3051131134>:593: FutureWarning: `torch.cuda.amp.autocast(args...)` is deprecated. Please use `torch.amp.autocast('cuda', args...)` instead.\n",
            "  with torch.no_grad(), autocast():\n"
          ]
        },
        {
          "output_type": "stream",
          "name": "stdout",
          "text": [
            "EarlyStopping counter: 3/10, best min: 0.0135\n",
            "Epoch 46/100\n",
            "Train Loss: 0.0514 (Cls: 0.0210, Reg: 0.0433)\n",
            "Val Loss: 0.0136 (Cls: 0.0105, Reg: 0.0044)\n",
            "Val Acc: 0.8889 | Val F1: 0.8918 | Val Precision: 1.0000 | Val Recall: 0.8333\n",
            "Val MAE: 8.8413 | Val R2: 0.8179 | LR: 1.41e-06\n"
          ]
        },
        {
          "output_type": "stream",
          "name": "stderr",
          "text": [
            "<ipython-input-8-3051131134>:566: FutureWarning: `torch.cuda.amp.autocast(args...)` is deprecated. Please use `torch.amp.autocast('cuda', args...)` instead.\n",
            "  with autocast():\n",
            "<ipython-input-8-3051131134>:593: FutureWarning: `torch.cuda.amp.autocast(args...)` is deprecated. Please use `torch.amp.autocast('cuda', args...)` instead.\n",
            "  with torch.no_grad(), autocast():\n"
          ]
        },
        {
          "output_type": "stream",
          "name": "stdout",
          "text": [
            "EarlyStopping counter: 0/10, best min: 0.0120\n",
            "Epoch 47/100\n",
            "Train Loss: 0.0780 (Cls: 0.0630, Reg: 0.0215)\n",
            "Val Loss: 0.0120 (Cls: 0.0090, Reg: 0.0044)\n",
            "Val Acc: 1.0000 | Val F1: 1.0000 | Val Precision: 1.0000 | Val Recall: 1.0000\n",
            "Val MAE: 8.7028 | Val R2: 0.8316 | LR: 1.37e-06\n"
          ]
        },
        {
          "output_type": "stream",
          "name": "stderr",
          "text": [
            "<ipython-input-8-3051131134>:566: FutureWarning: `torch.cuda.amp.autocast(args...)` is deprecated. Please use `torch.amp.autocast('cuda', args...)` instead.\n",
            "  with autocast():\n",
            "<ipython-input-8-3051131134>:593: FutureWarning: `torch.cuda.amp.autocast(args...)` is deprecated. Please use `torch.amp.autocast('cuda', args...)` instead.\n",
            "  with torch.no_grad(), autocast():\n"
          ]
        },
        {
          "output_type": "stream",
          "name": "stdout",
          "text": [
            "EarlyStopping counter: 0/10, best min: 0.0116\n",
            "Epoch 48/100\n",
            "Train Loss: 0.0554 (Cls: 0.0369, Reg: 0.0263)\n",
            "Val Loss: 0.0116 (Cls: 0.0081, Reg: 0.0051)\n",
            "Val Acc: 1.0000 | Val F1: 1.0000 | Val Precision: 1.0000 | Val Recall: 1.0000\n",
            "Val MAE: 9.0879 | Val R2: 0.8236 | LR: 1.33e-06\n"
          ]
        },
        {
          "output_type": "stream",
          "name": "stderr",
          "text": [
            "<ipython-input-8-3051131134>:566: FutureWarning: `torch.cuda.amp.autocast(args...)` is deprecated. Please use `torch.amp.autocast('cuda', args...)` instead.\n",
            "  with autocast():\n",
            "<ipython-input-8-3051131134>:593: FutureWarning: `torch.cuda.amp.autocast(args...)` is deprecated. Please use `torch.amp.autocast('cuda', args...)` instead.\n",
            "  with torch.no_grad(), autocast():\n"
          ]
        },
        {
          "output_type": "stream",
          "name": "stdout",
          "text": [
            "EarlyStopping counter: 0/10, best min: 0.0116\n",
            "Epoch 49/100\n",
            "Train Loss: 0.0493 (Cls: 0.0229, Reg: 0.0377)\n",
            "Val Loss: 0.0116 (Cls: 0.0078, Reg: 0.0054)\n",
            "Val Acc: 1.0000 | Val F1: 1.0000 | Val Precision: 1.0000 | Val Recall: 1.0000\n",
            "Val MAE: 9.2018 | Val R2: 0.8221 | LR: 1.29e-06\n"
          ]
        },
        {
          "output_type": "stream",
          "name": "stderr",
          "text": [
            "<ipython-input-8-3051131134>:566: FutureWarning: `torch.cuda.amp.autocast(args...)` is deprecated. Please use `torch.amp.autocast('cuda', args...)` instead.\n",
            "  with autocast():\n",
            "<ipython-input-8-3051131134>:593: FutureWarning: `torch.cuda.amp.autocast(args...)` is deprecated. Please use `torch.amp.autocast('cuda', args...)` instead.\n",
            "  with torch.no_grad(), autocast():\n"
          ]
        },
        {
          "output_type": "stream",
          "name": "stdout",
          "text": [
            "EarlyStopping counter: 0/10, best min: 0.0110\n",
            "Epoch 50/100\n",
            "Train Loss: 0.0687 (Cls: 0.0368, Reg: 0.0455)\n",
            "Val Loss: 0.0110 (Cls: 0.0076, Reg: 0.0048)\n",
            "Val Acc: 1.0000 | Val F1: 1.0000 | Val Precision: 1.0000 | Val Recall: 1.0000\n",
            "Val MAE: 9.0390 | Val R2: 0.8262 | LR: 1.25e-06\n"
          ]
        },
        {
          "output_type": "stream",
          "name": "stderr",
          "text": [
            "<ipython-input-8-3051131134>:566: FutureWarning: `torch.cuda.amp.autocast(args...)` is deprecated. Please use `torch.amp.autocast('cuda', args...)` instead.\n",
            "  with autocast():\n",
            "<ipython-input-8-3051131134>:593: FutureWarning: `torch.cuda.amp.autocast(args...)` is deprecated. Please use `torch.amp.autocast('cuda', args...)` instead.\n",
            "  with torch.no_grad(), autocast():\n"
          ]
        },
        {
          "output_type": "stream",
          "name": "stdout",
          "text": [
            "EarlyStopping counter: 1/10, best min: 0.0110\n",
            "Epoch 51/100\n",
            "Train Loss: 0.0383 (Cls: 0.0206, Reg: 0.0253)\n",
            "Val Loss: 0.0133 (Cls: 0.0096, Reg: 0.0054)\n",
            "Val Acc: 0.8889 | Val F1: 0.8821 | Val Precision: 0.8571 | Val Recall: 1.0000\n",
            "Val MAE: 9.4334 | Val R2: 0.7793 | LR: 1.22e-06\n"
          ]
        },
        {
          "output_type": "stream",
          "name": "stderr",
          "text": [
            "<ipython-input-8-3051131134>:566: FutureWarning: `torch.cuda.amp.autocast(args...)` is deprecated. Please use `torch.amp.autocast('cuda', args...)` instead.\n",
            "  with autocast():\n",
            "<ipython-input-8-3051131134>:593: FutureWarning: `torch.cuda.amp.autocast(args...)` is deprecated. Please use `torch.amp.autocast('cuda', args...)` instead.\n",
            "  with torch.no_grad(), autocast():\n"
          ]
        },
        {
          "output_type": "stream",
          "name": "stdout",
          "text": [
            "EarlyStopping counter: 2/10, best min: 0.0110\n",
            "Epoch 52/100\n",
            "Train Loss: 0.0575 (Cls: 0.0224, Reg: 0.0501)\n",
            "Val Loss: 0.0144 (Cls: 0.0103, Reg: 0.0059)\n",
            "Val Acc: 0.8889 | Val F1: 0.8821 | Val Precision: 0.8571 | Val Recall: 1.0000\n",
            "Val MAE: 9.7318 | Val R2: 0.7519 | LR: 1.18e-06\n"
          ]
        },
        {
          "output_type": "stream",
          "name": "stderr",
          "text": [
            "<ipython-input-8-3051131134>:566: FutureWarning: `torch.cuda.amp.autocast(args...)` is deprecated. Please use `torch.amp.autocast('cuda', args...)` instead.\n",
            "  with autocast():\n",
            "<ipython-input-8-3051131134>:593: FutureWarning: `torch.cuda.amp.autocast(args...)` is deprecated. Please use `torch.amp.autocast('cuda', args...)` instead.\n",
            "  with torch.no_grad(), autocast():\n"
          ]
        },
        {
          "output_type": "stream",
          "name": "stdout",
          "text": [
            "EarlyStopping counter: 3/10, best min: 0.0110\n",
            "Epoch 53/100\n",
            "Train Loss: 0.0494 (Cls: 0.0244, Reg: 0.0357)\n",
            "Val Loss: 0.0138 (Cls: 0.0102, Reg: 0.0051)\n",
            "Val Acc: 0.8889 | Val F1: 0.8821 | Val Precision: 0.8571 | Val Recall: 1.0000\n",
            "Val MAE: 9.1436 | Val R2: 0.7893 | LR: 1.14e-06\n"
          ]
        },
        {
          "output_type": "stream",
          "name": "stderr",
          "text": [
            "<ipython-input-8-3051131134>:566: FutureWarning: `torch.cuda.amp.autocast(args...)` is deprecated. Please use `torch.amp.autocast('cuda', args...)` instead.\n",
            "  with autocast():\n",
            "<ipython-input-8-3051131134>:593: FutureWarning: `torch.cuda.amp.autocast(args...)` is deprecated. Please use `torch.amp.autocast('cuda', args...)` instead.\n",
            "  with torch.no_grad(), autocast():\n"
          ]
        },
        {
          "output_type": "stream",
          "name": "stdout",
          "text": [
            "EarlyStopping counter: 4/10, best min: 0.0110\n",
            "Epoch 54/100\n",
            "Train Loss: 0.1088 (Cls: 0.0781, Reg: 0.0439)\n",
            "Val Loss: 0.0116 (Cls: 0.0086, Reg: 0.0043)\n",
            "Val Acc: 1.0000 | Val F1: 1.0000 | Val Precision: 1.0000 | Val Recall: 1.0000\n",
            "Val MAE: 8.5841 | Val R2: 0.8353 | LR: 1.10e-06\n"
          ]
        },
        {
          "output_type": "stream",
          "name": "stderr",
          "text": [
            "<ipython-input-8-3051131134>:566: FutureWarning: `torch.cuda.amp.autocast(args...)` is deprecated. Please use `torch.amp.autocast('cuda', args...)` instead.\n",
            "  with autocast():\n",
            "<ipython-input-8-3051131134>:593: FutureWarning: `torch.cuda.amp.autocast(args...)` is deprecated. Please use `torch.amp.autocast('cuda', args...)` instead.\n",
            "  with torch.no_grad(), autocast():\n"
          ]
        },
        {
          "output_type": "stream",
          "name": "stdout",
          "text": [
            "EarlyStopping counter: 5/10, best min: 0.0110\n",
            "Epoch 55/100\n",
            "Train Loss: 0.0567 (Cls: 0.0389, Reg: 0.0255)\n",
            "Val Loss: 0.0112 (Cls: 0.0079, Reg: 0.0047)\n",
            "Val Acc: 1.0000 | Val F1: 1.0000 | Val Precision: 1.0000 | Val Recall: 1.0000\n",
            "Val MAE: 8.1995 | Val R2: 0.8450 | LR: 1.06e-06\n"
          ]
        },
        {
          "output_type": "stream",
          "name": "stderr",
          "text": [
            "<ipython-input-8-3051131134>:566: FutureWarning: `torch.cuda.amp.autocast(args...)` is deprecated. Please use `torch.amp.autocast('cuda', args...)` instead.\n",
            "  with autocast():\n",
            "<ipython-input-8-3051131134>:593: FutureWarning: `torch.cuda.amp.autocast(args...)` is deprecated. Please use `torch.amp.autocast('cuda', args...)` instead.\n",
            "  with torch.no_grad(), autocast():\n"
          ]
        },
        {
          "output_type": "stream",
          "name": "stdout",
          "text": [
            "EarlyStopping counter: 0/10, best min: 0.0109\n",
            "Epoch 56/100\n",
            "Train Loss: 0.0908 (Cls: 0.0547, Reg: 0.0516)\n",
            "Val Loss: 0.0109 (Cls: 0.0082, Reg: 0.0040)\n",
            "Val Acc: 1.0000 | Val F1: 1.0000 | Val Precision: 1.0000 | Val Recall: 1.0000\n",
            "Val MAE: 8.2106 | Val R2: 0.8512 | LR: 1.02e-06\n"
          ]
        },
        {
          "output_type": "stream",
          "name": "stderr",
          "text": [
            "<ipython-input-8-3051131134>:566: FutureWarning: `torch.cuda.amp.autocast(args...)` is deprecated. Please use `torch.amp.autocast('cuda', args...)` instead.\n",
            "  with autocast():\n",
            "<ipython-input-8-3051131134>:593: FutureWarning: `torch.cuda.amp.autocast(args...)` is deprecated. Please use `torch.amp.autocast('cuda', args...)` instead.\n",
            "  with torch.no_grad(), autocast():\n"
          ]
        },
        {
          "output_type": "stream",
          "name": "stdout",
          "text": [
            "EarlyStopping counter: 0/10, best min: 0.0107\n",
            "Epoch 57/100\n",
            "Train Loss: 0.0661 (Cls: 0.0318, Reg: 0.0491)\n",
            "Val Loss: 0.0107 (Cls: 0.0078, Reg: 0.0041)\n",
            "Val Acc: 1.0000 | Val F1: 1.0000 | Val Precision: 1.0000 | Val Recall: 1.0000\n",
            "Val MAE: 8.6202 | Val R2: 0.8291 | LR: 9.81e-07\n"
          ]
        },
        {
          "output_type": "stream",
          "name": "stderr",
          "text": [
            "<ipython-input-8-3051131134>:566: FutureWarning: `torch.cuda.amp.autocast(args...)` is deprecated. Please use `torch.amp.autocast('cuda', args...)` instead.\n",
            "  with autocast():\n",
            "<ipython-input-8-3051131134>:593: FutureWarning: `torch.cuda.amp.autocast(args...)` is deprecated. Please use `torch.amp.autocast('cuda', args...)` instead.\n",
            "  with torch.no_grad(), autocast():\n"
          ]
        },
        {
          "output_type": "stream",
          "name": "stdout",
          "text": [
            "EarlyStopping counter: 1/10, best min: 0.0107\n",
            "Epoch 58/100\n",
            "Train Loss: 0.0685 (Cls: 0.0416, Reg: 0.0385)\n",
            "Val Loss: 0.0107 (Cls: 0.0075, Reg: 0.0045)\n",
            "Val Acc: 1.0000 | Val F1: 1.0000 | Val Precision: 1.0000 | Val Recall: 1.0000\n",
            "Val MAE: 8.8747 | Val R2: 0.8102 | LR: 9.43e-07\n"
          ]
        },
        {
          "output_type": "stream",
          "name": "stderr",
          "text": [
            "<ipython-input-8-3051131134>:566: FutureWarning: `torch.cuda.amp.autocast(args...)` is deprecated. Please use `torch.amp.autocast('cuda', args...)` instead.\n",
            "  with autocast():\n",
            "<ipython-input-8-3051131134>:593: FutureWarning: `torch.cuda.amp.autocast(args...)` is deprecated. Please use `torch.amp.autocast('cuda', args...)` instead.\n",
            "  with torch.no_grad(), autocast():\n"
          ]
        },
        {
          "output_type": "stream",
          "name": "stdout",
          "text": [
            "EarlyStopping counter: 2/10, best min: 0.0107\n",
            "Epoch 59/100\n",
            "Train Loss: 0.0578 (Cls: 0.0366, Reg: 0.0302)\n",
            "Val Loss: 0.0111 (Cls: 0.0074, Reg: 0.0052)\n",
            "Val Acc: 1.0000 | Val F1: 1.0000 | Val Precision: 1.0000 | Val Recall: 1.0000\n",
            "Val MAE: 9.1480 | Val R2: 0.7828 | LR: 9.05e-07\n"
          ]
        },
        {
          "output_type": "stream",
          "name": "stderr",
          "text": [
            "<ipython-input-8-3051131134>:566: FutureWarning: `torch.cuda.amp.autocast(args...)` is deprecated. Please use `torch.amp.autocast('cuda', args...)` instead.\n",
            "  with autocast():\n",
            "<ipython-input-8-3051131134>:593: FutureWarning: `torch.cuda.amp.autocast(args...)` is deprecated. Please use `torch.amp.autocast('cuda', args...)` instead.\n",
            "  with torch.no_grad(), autocast():\n"
          ]
        },
        {
          "output_type": "stream",
          "name": "stdout",
          "text": [
            "EarlyStopping counter: 3/10, best min: 0.0107\n",
            "Epoch 60/100\n",
            "Train Loss: 0.0649 (Cls: 0.0224, Reg: 0.0607)\n",
            "Val Loss: 0.0122 (Cls: 0.0082, Reg: 0.0057)\n",
            "Val Acc: 1.0000 | Val F1: 1.0000 | Val Precision: 1.0000 | Val Recall: 1.0000\n",
            "Val MAE: 9.4680 | Val R2: 0.7602 | LR: 8.67e-07\n"
          ]
        },
        {
          "output_type": "stream",
          "name": "stderr",
          "text": [
            "<ipython-input-8-3051131134>:566: FutureWarning: `torch.cuda.amp.autocast(args...)` is deprecated. Please use `torch.amp.autocast('cuda', args...)` instead.\n",
            "  with autocast():\n",
            "<ipython-input-8-3051131134>:593: FutureWarning: `torch.cuda.amp.autocast(args...)` is deprecated. Please use `torch.amp.autocast('cuda', args...)` instead.\n",
            "  with torch.no_grad(), autocast():\n"
          ]
        },
        {
          "output_type": "stream",
          "name": "stdout",
          "text": [
            "EarlyStopping counter: 4/10, best min: 0.0107\n",
            "Epoch 61/100\n",
            "Train Loss: 0.0606 (Cls: 0.0321, Reg: 0.0407)\n",
            "Val Loss: 0.0154 (Cls: 0.0094, Reg: 0.0086)\n",
            "Val Acc: 0.8889 | Val F1: 0.8821 | Val Precision: 0.8571 | Val Recall: 1.0000\n",
            "Val MAE: 11.2773 | Val R2: 0.6497 | LR: 8.30e-07\n"
          ]
        },
        {
          "output_type": "stream",
          "name": "stderr",
          "text": [
            "<ipython-input-8-3051131134>:566: FutureWarning: `torch.cuda.amp.autocast(args...)` is deprecated. Please use `torch.amp.autocast('cuda', args...)` instead.\n",
            "  with autocast():\n",
            "<ipython-input-8-3051131134>:593: FutureWarning: `torch.cuda.amp.autocast(args...)` is deprecated. Please use `torch.amp.autocast('cuda', args...)` instead.\n",
            "  with torch.no_grad(), autocast():\n"
          ]
        },
        {
          "output_type": "stream",
          "name": "stdout",
          "text": [
            "EarlyStopping counter: 5/10, best min: 0.0107\n",
            "Epoch 62/100\n",
            "Train Loss: 0.0491 (Cls: 0.0244, Reg: 0.0352)\n",
            "Val Loss: 0.0166 (Cls: 0.0101, Reg: 0.0092)\n",
            "Val Acc: 0.8889 | Val F1: 0.8821 | Val Precision: 0.8571 | Val Recall: 1.0000\n",
            "Val MAE: 11.6508 | Val R2: 0.6223 | LR: 7.93e-07\n"
          ]
        },
        {
          "output_type": "stream",
          "name": "stderr",
          "text": [
            "<ipython-input-8-3051131134>:566: FutureWarning: `torch.cuda.amp.autocast(args...)` is deprecated. Please use `torch.amp.autocast('cuda', args...)` instead.\n",
            "  with autocast():\n",
            "<ipython-input-8-3051131134>:593: FutureWarning: `torch.cuda.amp.autocast(args...)` is deprecated. Please use `torch.amp.autocast('cuda', args...)` instead.\n",
            "  with torch.no_grad(), autocast():\n"
          ]
        },
        {
          "output_type": "stream",
          "name": "stdout",
          "text": [
            "EarlyStopping counter: 6/10, best min: 0.0107\n",
            "Epoch 63/100\n",
            "Train Loss: 0.0709 (Cls: 0.0406, Reg: 0.0432)\n",
            "Val Loss: 0.0155 (Cls: 0.0101, Reg: 0.0078)\n",
            "Val Acc: 0.8889 | Val F1: 0.8821 | Val Precision: 0.8571 | Val Recall: 1.0000\n",
            "Val MAE: 10.8776 | Val R2: 0.6724 | LR: 3.78e-07\n"
          ]
        },
        {
          "output_type": "stream",
          "name": "stderr",
          "text": [
            "<ipython-input-8-3051131134>:566: FutureWarning: `torch.cuda.amp.autocast(args...)` is deprecated. Please use `torch.amp.autocast('cuda', args...)` instead.\n",
            "  with autocast():\n",
            "<ipython-input-8-3051131134>:593: FutureWarning: `torch.cuda.amp.autocast(args...)` is deprecated. Please use `torch.amp.autocast('cuda', args...)` instead.\n",
            "  with torch.no_grad(), autocast():\n"
          ]
        },
        {
          "output_type": "stream",
          "name": "stdout",
          "text": [
            "EarlyStopping counter: 7/10, best min: 0.0107\n",
            "Epoch 64/100\n",
            "Train Loss: 0.0437 (Cls: 0.0306, Reg: 0.0186)\n",
            "Val Loss: 0.0141 (Cls: 0.0094, Reg: 0.0067)\n",
            "Val Acc: 0.8889 | Val F1: 0.8821 | Val Precision: 0.8571 | Val Recall: 1.0000\n",
            "Val MAE: 10.2498 | Val R2: 0.7166 | LR: 3.60e-07\n"
          ]
        },
        {
          "output_type": "stream",
          "name": "stderr",
          "text": [
            "<ipython-input-8-3051131134>:566: FutureWarning: `torch.cuda.amp.autocast(args...)` is deprecated. Please use `torch.amp.autocast('cuda', args...)` instead.\n",
            "  with autocast():\n",
            "<ipython-input-8-3051131134>:593: FutureWarning: `torch.cuda.amp.autocast(args...)` is deprecated. Please use `torch.amp.autocast('cuda', args...)` instead.\n",
            "  with torch.no_grad(), autocast():\n"
          ]
        },
        {
          "output_type": "stream",
          "name": "stdout",
          "text": [
            "EarlyStopping counter: 8/10, best min: 0.0107\n",
            "Epoch 65/100\n",
            "Train Loss: 0.0560 (Cls: 0.0197, Reg: 0.0519)\n",
            "Val Loss: 0.0127 (Cls: 0.0086, Reg: 0.0059)\n",
            "Val Acc: 1.0000 | Val F1: 1.0000 | Val Precision: 1.0000 | Val Recall: 1.0000\n",
            "Val MAE: 9.8678 | Val R2: 0.7528 | LR: 3.43e-07\n"
          ]
        },
        {
          "output_type": "stream",
          "name": "stderr",
          "text": [
            "<ipython-input-8-3051131134>:566: FutureWarning: `torch.cuda.amp.autocast(args...)` is deprecated. Please use `torch.amp.autocast('cuda', args...)` instead.\n",
            "  with autocast():\n",
            "<ipython-input-8-3051131134>:593: FutureWarning: `torch.cuda.amp.autocast(args...)` is deprecated. Please use `torch.amp.autocast('cuda', args...)` instead.\n",
            "  with torch.no_grad(), autocast():\n"
          ]
        },
        {
          "output_type": "stream",
          "name": "stdout",
          "text": [
            "EarlyStopping counter: 9/10, best min: 0.0107\n",
            "Epoch 66/100\n",
            "Train Loss: 0.0581 (Cls: 0.0237, Reg: 0.0490)\n",
            "Val Loss: 0.0120 (Cls: 0.0081, Reg: 0.0056)\n",
            "Val Acc: 1.0000 | Val F1: 1.0000 | Val Precision: 1.0000 | Val Recall: 1.0000\n",
            "Val MAE: 9.6662 | Val R2: 0.7709 | LR: 3.25e-07\n"
          ]
        },
        {
          "output_type": "stream",
          "name": "stderr",
          "text": [
            "<ipython-input-8-3051131134>:566: FutureWarning: `torch.cuda.amp.autocast(args...)` is deprecated. Please use `torch.amp.autocast('cuda', args...)` instead.\n",
            "  with autocast():\n",
            "<ipython-input-8-3051131134>:593: FutureWarning: `torch.cuda.amp.autocast(args...)` is deprecated. Please use `torch.amp.autocast('cuda', args...)` instead.\n",
            "  with torch.no_grad(), autocast():\n"
          ]
        },
        {
          "output_type": "stream",
          "name": "stdout",
          "text": [
            "EarlyStopping counter: 10/10, best min: 0.0107\n",
            "Early stopping triggered.\n",
            "\n",
            "Confusion Matrix for Fold 0:\n"
          ]
        },
        {
          "output_type": "display_data",
          "data": {
            "text/plain": [
              "<Figure size 800x600 with 1 Axes>"
            ],
            "image/png": "[encoded data removed]"
          },
          "metadata": {}
        },
        {
          "output_type": "display_data",
          "data": {
            "text/plain": [
              "<Figure size 800x600 with 1 Axes>"
            ],
            "image/png": "[encoded data removed]"
          },
          "metadata": {}
        },
        {
          "output_type": "stream",
          "name": "stdout",
          "text": [
            "\n",
            "Fold 0 Test Results:\n",
            "Accuracy: 0.6667\n",
            "F1-Score (weighted): 0.5333\n",
            "Precision: 0.6667\n",
            "Recall (Sensitivity): 1.0000\n",
            "MAE: 27.5678\n",
            "R2: -0.4443\n",
            "Best Epoch: 57\n",
            "\n",
            "==================================================\n",
            "Starting Training for Fold 1\n",
            "==================================================\n",
            "Fold 1: Train samples: 35, Val samples: 9\n",
            "Class distribution - Train: [11 24], Val: [3 6]\n"
          ]
        },
        {
          "output_type": "stream",
          "name": "stderr",
          "text": [
            "<ipython-input-8-3051131134>:54: UserWarning: Argument(s) 'var_limit' are not valid for transform GaussNoise\n",
            "  A.GaussNoise(var_limit=(10.0, 50.0)),\n",
            "<ipython-input-8-3051131134>:60: UserWarning: Argument(s) 'max_holes, max_height, max_width, min_holes' are not valid for transform CoarseDropout\n",
            "  A.CoarseDropout(max_holes=8, max_height=32, max_width=32, min_holes=2, p=0.4),\n",
            "/usr/local/lib/python3.11/dist-packages/torch/optim/lr_scheduler.py:62: UserWarning: The verbose parameter is deprecated. Please use get_last_lr() to access the learning rate.\n",
            "  warnings.warn(\n",
            "<ipython-input-8-3051131134>:546: FutureWarning: `torch.cuda.amp.GradScaler(args...)` is deprecated. Please use `torch.amp.GradScaler('cuda', args...)` instead.\n",
            "  scaler = GradScaler()\n",
            "/usr/local/lib/python3.11/dist-packages/torch/optim/lr_scheduler.py:227: UserWarning: Detected call of `lr_scheduler.step()` before `optimizer.step()`. In PyTorch 1.1.0 and later, you should call them in the opposite order: `optimizer.step()` before `lr_scheduler.step()`.  Failure to do this will result in PyTorch skipping the first value of the learning rate schedule. See more details at https://pytorch.org/docs/stable/optim.html#how-to-adjust-learning-rate\n",
            "  warnings.warn(\n",
            "<ipython-input-8-3051131134>:566: FutureWarning: `torch.cuda.amp.autocast(args...)` is deprecated. Please use `torch.amp.autocast('cuda', args...)` instead.\n",
            "  with autocast():\n",
            "<ipython-input-8-3051131134>:593: FutureWarning: `torch.cuda.amp.autocast(args...)` is deprecated. Please use `torch.amp.autocast('cuda', args...)` instead.\n",
            "  with torch.no_grad(), autocast():\n"
          ]
        },
        {
          "output_type": "stream",
          "name": "stdout",
          "text": [
            "EarlyStopping counter: 0/10, best min: 0.2314\n",
            "Epoch 1/100\n",
            "Train Loss: 0.2253 (Cls: 0.1491, Reg: 0.1089)\n",
            "Val Loss: 0.2314 (Cls: 0.1219, Reg: 0.1564)\n",
            "Val Acc: 0.3333 | Val F1: 0.1667 | Val Precision: 0.0000 | Val Recall: 0.0000\n",
            "Val MAE: 33.1677 | Val R2: -0.4387 | LR: 4.00e-06\n"
          ]
        },
        {
          "output_type": "stream",
          "name": "stderr",
          "text": [
            "<ipython-input-8-3051131134>:566: FutureWarning: `torch.cuda.amp.autocast(args...)` is deprecated. Please use `torch.amp.autocast('cuda', args...)` instead.\n",
            "  with autocast():\n",
            "<ipython-input-8-3051131134>:593: FutureWarning: `torch.cuda.amp.autocast(args...)` is deprecated. Please use `torch.amp.autocast('cuda', args...)` instead.\n",
            "  with torch.no_grad(), autocast():\n"
          ]
        },
        {
          "output_type": "stream",
          "name": "stdout",
          "text": [
            "EarlyStopping counter: 0/10, best min: 0.2123\n",
            "Epoch 2/100\n",
            "Train Loss: 0.1779 (Cls: 0.0953, Reg: 0.1180)\n",
            "Val Loss: 0.2123 (Cls: 0.0928, Reg: 0.1707)\n",
            "Val Acc: 0.4444 | Val F1: 0.3723 | Val Precision: 1.0000 | Val Recall: 0.1667\n",
            "Val MAE: 32.6933 | Val R2: -0.5686 | LR: 6.00e-06\n"
          ]
        },
        {
          "output_type": "stream",
          "name": "stderr",
          "text": [
            "<ipython-input-8-3051131134>:566: FutureWarning: `torch.cuda.amp.autocast(args...)` is deprecated. Please use `torch.amp.autocast('cuda', args...)` instead.\n",
            "  with autocast():\n",
            "<ipython-input-8-3051131134>:593: FutureWarning: `torch.cuda.amp.autocast(args...)` is deprecated. Please use `torch.amp.autocast('cuda', args...)` instead.\n",
            "  with torch.no_grad(), autocast():\n"
          ]
        },
        {
          "output_type": "stream",
          "name": "stdout",
          "text": [
            "EarlyStopping counter: 0/10, best min: 0.1681\n",
            "Epoch 3/100\n",
            "Train Loss: 0.1565 (Cls: 0.0916, Reg: 0.0927)\n",
            "Val Loss: 0.1681 (Cls: 0.0739, Reg: 0.1345)\n",
            "Val Acc: 0.5556 | Val F1: 0.5333 | Val Precision: 1.0000 | Val Recall: 0.3333\n",
            "Val MAE: 30.4287 | Val R2: -0.3027 | LR: 7.99e-06\n"
          ]
        },
        {
          "output_type": "stream",
          "name": "stderr",
          "text": [
            "<ipython-input-8-3051131134>:566: FutureWarning: `torch.cuda.amp.autocast(args...)` is deprecated. Please use `torch.amp.autocast('cuda', args...)` instead.\n",
            "  with autocast():\n",
            "<ipython-input-8-3051131134>:593: FutureWarning: `torch.cuda.amp.autocast(args...)` is deprecated. Please use `torch.amp.autocast('cuda', args...)` instead.\n",
            "  with torch.no_grad(), autocast():\n"
          ]
        },
        {
          "output_type": "stream",
          "name": "stdout",
          "text": [
            "EarlyStopping counter: 0/10, best min: 0.1177\n",
            "Epoch 4/100\n",
            "Train Loss: 0.1455 (Cls: 0.0778, Reg: 0.0967)\n",
            "Val Loss: 0.1177 (Cls: 0.0486, Reg: 0.0988)\n",
            "Val Acc: 0.6667 | Val F1: 0.6462 | Val Precision: 0.7143 | Val Recall: 0.8333\n",
            "Val MAE: 28.4080 | Val R2: -0.0043 | LR: 9.98e-06\n"
          ]
        },
        {
          "output_type": "stream",
          "name": "stderr",
          "text": [
            "<ipython-input-8-3051131134>:566: FutureWarning: `torch.cuda.amp.autocast(args...)` is deprecated. Please use `torch.amp.autocast('cuda', args...)` instead.\n",
            "  with autocast():\n",
            "<ipython-input-8-3051131134>:593: FutureWarning: `torch.cuda.amp.autocast(args...)` is deprecated. Please use `torch.amp.autocast('cuda', args...)` instead.\n",
            "  with torch.no_grad(), autocast():\n"
          ]
        },
        {
          "output_type": "stream",
          "name": "stdout",
          "text": [
            "EarlyStopping counter: 0/10, best min: 0.1018\n",
            "Epoch 5/100\n",
            "Train Loss: 0.1281 (Cls: 0.0583, Reg: 0.0997)\n",
            "Val Loss: 0.1018 (Cls: 0.0578, Reg: 0.0628)\n",
            "Val Acc: 0.8889 | Val F1: 0.8918 | Val Precision: 1.0000 | Val Recall: 0.8333\n",
            "Val MAE: 27.1254 | Val R2: 0.1928 | LR: 9.98e-06\n"
          ]
        },
        {
          "output_type": "stream",
          "name": "stderr",
          "text": [
            "<ipython-input-8-3051131134>:566: FutureWarning: `torch.cuda.amp.autocast(args...)` is deprecated. Please use `torch.amp.autocast('cuda', args...)` instead.\n",
            "  with autocast():\n",
            "<ipython-input-8-3051131134>:593: FutureWarning: `torch.cuda.amp.autocast(args...)` is deprecated. Please use `torch.amp.autocast('cuda', args...)` instead.\n",
            "  with torch.no_grad(), autocast():\n"
          ]
        },
        {
          "output_type": "stream",
          "name": "stdout",
          "text": [
            "EarlyStopping counter: 1/10, best min: 0.1018\n",
            "Epoch 6/100\n",
            "Train Loss: 0.2111 (Cls: 0.1613, Reg: 0.0712)\n",
            "Val Loss: 0.1488 (Cls: 0.0891, Reg: 0.0853)\n",
            "Val Acc: 0.3333 | Val F1: 0.1667 | Val Precision: 0.0000 | Val Recall: 0.0000\n",
            "Val MAE: 27.5887 | Val R2: 0.0969 | LR: 9.95e-06\n"
          ]
        },
        {
          "output_type": "stream",
          "name": "stderr",
          "text": [
            "<ipython-input-8-3051131134>:566: FutureWarning: `torch.cuda.amp.autocast(args...)` is deprecated. Please use `torch.amp.autocast('cuda', args...)` instead.\n",
            "  with autocast():\n",
            "<ipython-input-8-3051131134>:593: FutureWarning: `torch.cuda.amp.autocast(args...)` is deprecated. Please use `torch.amp.autocast('cuda', args...)` instead.\n",
            "  with torch.no_grad(), autocast():\n"
          ]
        },
        {
          "output_type": "stream",
          "name": "stdout",
          "text": [
            "EarlyStopping counter: 0/10, best min: 0.0664\n",
            "Epoch 7/100\n",
            "Train Loss: 0.1433 (Cls: 0.1176, Reg: 0.0367)\n",
            "Val Loss: 0.0664 (Cls: 0.0306, Reg: 0.0512)\n",
            "Val Acc: 0.7778 | Val F1: 0.7381 | Val Precision: 0.7500 | Val Recall: 1.0000\n",
            "Val MAE: 27.6004 | Val R2: 0.1688 | LR: 9.92e-06\n"
          ]
        },
        {
          "output_type": "stream",
          "name": "stderr",
          "text": [
            "<ipython-input-8-3051131134>:566: FutureWarning: `torch.cuda.amp.autocast(args...)` is deprecated. Please use `torch.amp.autocast('cuda', args...)` instead.\n",
            "  with autocast():\n",
            "<ipython-input-8-3051131134>:593: FutureWarning: `torch.cuda.amp.autocast(args...)` is deprecated. Please use `torch.amp.autocast('cuda', args...)` instead.\n",
            "  with torch.no_grad(), autocast():\n"
          ]
        },
        {
          "output_type": "stream",
          "name": "stdout",
          "text": [
            "EarlyStopping counter: 1/10, best min: 0.0664\n",
            "Epoch 8/100\n",
            "Train Loss: 0.1592 (Cls: 0.0864, Reg: 0.1040)\n",
            "Val Loss: 0.1181 (Cls: 0.0496, Reg: 0.0978)\n",
            "Val Acc: 0.6667 | Val F1: 0.5333 | Val Precision: 0.6667 | Val Recall: 1.0000\n",
            "Val MAE: 27.1152 | Val R2: -0.0399 | LR: 9.88e-06\n"
          ]
        },
        {
          "output_type": "stream",
          "name": "stderr",
          "text": [
            "<ipython-input-8-3051131134>:566: FutureWarning: `torch.cuda.amp.autocast(args...)` is deprecated. Please use `torch.amp.autocast('cuda', args...)` instead.\n",
            "  with autocast():\n",
            "<ipython-input-8-3051131134>:593: FutureWarning: `torch.cuda.amp.autocast(args...)` is deprecated. Please use `torch.amp.autocast('cuda', args...)` instead.\n",
            "  with torch.no_grad(), autocast():\n"
          ]
        },
        {
          "output_type": "stream",
          "name": "stdout",
          "text": [
            "EarlyStopping counter: 2/10, best min: 0.0664\n",
            "Epoch 9/100\n",
            "Train Loss: 0.1771 (Cls: 0.1222, Reg: 0.0784)\n",
            "Val Loss: 0.0988 (Cls: 0.0302, Reg: 0.0980)\n",
            "Val Acc: 0.8889 | Val F1: 0.8821 | Val Precision: 0.8571 | Val Recall: 1.0000\n",
            "Val MAE: 26.9855 | Val R2: -0.0521 | LR: 9.84e-06\n"
          ]
        },
        {
          "output_type": "stream",
          "name": "stderr",
          "text": [
            "<ipython-input-8-3051131134>:566: FutureWarning: `torch.cuda.amp.autocast(args...)` is deprecated. Please use `torch.amp.autocast('cuda', args...)` instead.\n",
            "  with autocast():\n",
            "<ipython-input-8-3051131134>:593: FutureWarning: `torch.cuda.amp.autocast(args...)` is deprecated. Please use `torch.amp.autocast('cuda', args...)` instead.\n",
            "  with torch.no_grad(), autocast():\n"
          ]
        },
        {
          "output_type": "stream",
          "name": "stdout",
          "text": [
            "EarlyStopping counter: 0/10, best min: 0.0661\n",
            "Epoch 10/100\n",
            "Train Loss: 0.1608 (Cls: 0.0972, Reg: 0.0909)\n",
            "Val Loss: 0.0661 (Cls: 0.0275, Reg: 0.0552)\n",
            "Val Acc: 0.7778 | Val F1: 0.7381 | Val Precision: 0.7500 | Val Recall: 1.0000\n",
            "Val MAE: 25.2962 | Val R2: 0.2709 | LR: 9.79e-06\n"
          ]
        },
        {
          "output_type": "stream",
          "name": "stderr",
          "text": [
            "<ipython-input-8-3051131134>:566: FutureWarning: `torch.cuda.amp.autocast(args...)` is deprecated. Please use `torch.amp.autocast('cuda', args...)` instead.\n",
            "  with autocast():\n",
            "<ipython-input-8-3051131134>:593: FutureWarning: `torch.cuda.amp.autocast(args...)` is deprecated. Please use `torch.amp.autocast('cuda', args...)` instead.\n",
            "  with torch.no_grad(), autocast():\n"
          ]
        },
        {
          "output_type": "stream",
          "name": "stdout",
          "text": [
            "EarlyStopping counter: 1/10, best min: 0.0661\n",
            "Epoch 11/100\n",
            "Train Loss: 0.1080 (Cls: 0.0645, Reg: 0.0622)\n",
            "Val Loss: 0.1210 (Cls: 0.0451, Reg: 0.1085)\n",
            "Val Acc: 0.6667 | Val F1: 0.5333 | Val Precision: 0.6667 | Val Recall: 1.0000\n",
            "Val MAE: 27.9856 | Val R2: -0.2215 | LR: 9.74e-06\n"
          ]
        },
        {
          "output_type": "stream",
          "name": "stderr",
          "text": [
            "<ipython-input-8-3051131134>:566: FutureWarning: `torch.cuda.amp.autocast(args...)` is deprecated. Please use `torch.amp.autocast('cuda', args...)` instead.\n",
            "  with autocast():\n",
            "<ipython-input-8-3051131134>:593: FutureWarning: `torch.cuda.amp.autocast(args...)` is deprecated. Please use `torch.amp.autocast('cuda', args...)` instead.\n",
            "  with torch.no_grad(), autocast():\n"
          ]
        },
        {
          "output_type": "stream",
          "name": "stdout",
          "text": [
            "EarlyStopping counter: 2/10, best min: 0.0661\n",
            "Epoch 12/100\n",
            "Train Loss: 0.1843 (Cls: 0.1354, Reg: 0.0698)\n",
            "Val Loss: 0.0869 (Cls: 0.0247, Reg: 0.0888)\n",
            "Val Acc: 0.8889 | Val F1: 0.8821 | Val Precision: 0.8571 | Val Recall: 1.0000\n",
            "Val MAE: 27.0462 | Val R2: -0.0122 | LR: 9.69e-06\n"
          ]
        },
        {
          "output_type": "stream",
          "name": "stderr",
          "text": [
            "<ipython-input-8-3051131134>:566: FutureWarning: `torch.cuda.amp.autocast(args...)` is deprecated. Please use `torch.amp.autocast('cuda', args...)` instead.\n",
            "  with autocast():\n",
            "<ipython-input-8-3051131134>:593: FutureWarning: `torch.cuda.amp.autocast(args...)` is deprecated. Please use `torch.amp.autocast('cuda', args...)` instead.\n",
            "  with torch.no_grad(), autocast():\n"
          ]
        },
        {
          "output_type": "stream",
          "name": "stdout",
          "text": [
            "EarlyStopping counter: 0/10, best min: 0.0495\n",
            "Epoch 13/100\n",
            "Train Loss: 0.1289 (Cls: 0.0730, Reg: 0.0798)\n",
            "Val Loss: 0.0495 (Cls: 0.0212, Reg: 0.0405)\n",
            "Val Acc: 0.8889 | Val F1: 0.8821 | Val Precision: 0.8571 | Val Recall: 1.0000\n",
            "Val MAE: 23.7455 | Val R2: 0.3560 | LR: 9.63e-06\n"
          ]
        },
        {
          "output_type": "stream",
          "name": "stderr",
          "text": [
            "<ipython-input-8-3051131134>:566: FutureWarning: `torch.cuda.amp.autocast(args...)` is deprecated. Please use `torch.amp.autocast('cuda', args...)` instead.\n",
            "  with autocast():\n",
            "<ipython-input-8-3051131134>:593: FutureWarning: `torch.cuda.amp.autocast(args...)` is deprecated. Please use `torch.amp.autocast('cuda', args...)` instead.\n",
            "  with torch.no_grad(), autocast():\n"
          ]
        },
        {
          "output_type": "stream",
          "name": "stdout",
          "text": [
            "EarlyStopping counter: 1/10, best min: 0.0495\n",
            "Epoch 14/100\n",
            "Train Loss: 0.1062 (Cls: 0.0791, Reg: 0.0388)\n",
            "Val Loss: 0.0508 (Cls: 0.0196, Reg: 0.0445)\n",
            "Val Acc: 0.8889 | Val F1: 0.8821 | Val Precision: 0.8571 | Val Recall: 1.0000\n",
            "Val MAE: 22.0987 | Val R2: 0.3900 | LR: 9.56e-06\n"
          ]
        },
        {
          "output_type": "stream",
          "name": "stderr",
          "text": [
            "<ipython-input-8-3051131134>:566: FutureWarning: `torch.cuda.amp.autocast(args...)` is deprecated. Please use `torch.amp.autocast('cuda', args...)` instead.\n",
            "  with autocast():\n",
            "<ipython-input-8-3051131134>:593: FutureWarning: `torch.cuda.amp.autocast(args...)` is deprecated. Please use `torch.amp.autocast('cuda', args...)` instead.\n",
            "  with torch.no_grad(), autocast():\n"
          ]
        },
        {
          "output_type": "stream",
          "name": "stdout",
          "text": [
            "EarlyStopping counter: 2/10, best min: 0.0495\n",
            "Epoch 15/100\n",
            "Train Loss: 0.0999 (Cls: 0.0660, Reg: 0.0484)\n",
            "Val Loss: 0.0556 (Cls: 0.0185, Reg: 0.0530)\n",
            "Val Acc: 0.8889 | Val F1: 0.8821 | Val Precision: 0.8571 | Val Recall: 1.0000\n",
            "Val MAE: 21.0946 | Val R2: 0.3639 | LR: 9.49e-06\n"
          ]
        },
        {
          "output_type": "stream",
          "name": "stderr",
          "text": [
            "<ipython-input-8-3051131134>:566: FutureWarning: `torch.cuda.amp.autocast(args...)` is deprecated. Please use `torch.amp.autocast('cuda', args...)` instead.\n",
            "  with autocast():\n",
            "<ipython-input-8-3051131134>:593: FutureWarning: `torch.cuda.amp.autocast(args...)` is deprecated. Please use `torch.amp.autocast('cuda', args...)` instead.\n",
            "  with torch.no_grad(), autocast():\n"
          ]
        },
        {
          "output_type": "stream",
          "name": "stdout",
          "text": [
            "EarlyStopping counter: 3/10, best min: 0.0495\n",
            "Epoch 16/100\n",
            "Train Loss: 0.1811 (Cls: 0.1216, Reg: 0.0849)\n",
            "Val Loss: 0.1178 (Cls: 0.0478, Reg: 0.1000)\n",
            "Val Acc: 0.6667 | Val F1: 0.5333 | Val Precision: 0.6667 | Val Recall: 1.0000\n",
            "Val MAE: 25.9913 | Val R2: -0.0104 | LR: 9.42e-06\n"
          ]
        },
        {
          "output_type": "stream",
          "name": "stderr",
          "text": [
            "<ipython-input-8-3051131134>:566: FutureWarning: `torch.cuda.amp.autocast(args...)` is deprecated. Please use `torch.amp.autocast('cuda', args...)` instead.\n",
            "  with autocast():\n",
            "<ipython-input-8-3051131134>:593: FutureWarning: `torch.cuda.amp.autocast(args...)` is deprecated. Please use `torch.amp.autocast('cuda', args...)` instead.\n",
            "  with torch.no_grad(), autocast():\n"
          ]
        },
        {
          "output_type": "stream",
          "name": "stdout",
          "text": [
            "EarlyStopping counter: 4/10, best min: 0.0495\n",
            "Epoch 17/100\n",
            "Train Loss: 0.1552 (Cls: 0.1086, Reg: 0.0666)\n",
            "Val Loss: 0.0809 (Cls: 0.0206, Reg: 0.0862)\n",
            "Val Acc: 0.8889 | Val F1: 0.8821 | Val Precision: 0.8571 | Val Recall: 1.0000\n",
            "Val MAE: 24.2933 | Val R2: 0.1189 | LR: 9.34e-06\n"
          ]
        },
        {
          "output_type": "stream",
          "name": "stderr",
          "text": [
            "<ipython-input-8-3051131134>:566: FutureWarning: `torch.cuda.amp.autocast(args...)` is deprecated. Please use `torch.amp.autocast('cuda', args...)` instead.\n",
            "  with autocast():\n",
            "<ipython-input-8-3051131134>:593: FutureWarning: `torch.cuda.amp.autocast(args...)` is deprecated. Please use `torch.amp.autocast('cuda', args...)` instead.\n",
            "  with torch.no_grad(), autocast():\n"
          ]
        },
        {
          "output_type": "stream",
          "name": "stdout",
          "text": [
            "EarlyStopping counter: 5/10, best min: 0.0495\n",
            "Epoch 18/100\n",
            "Train Loss: 0.1080 (Cls: 0.0706, Reg: 0.0534)\n",
            "Val Loss: 0.0521 (Cls: 0.0224, Reg: 0.0425)\n",
            "Val Acc: 0.8889 | Val F1: 0.8918 | Val Precision: 1.0000 | Val Recall: 0.8333\n",
            "Val MAE: 22.5529 | Val R2: 0.4264 | LR: 9.26e-06\n"
          ]
        },
        {
          "output_type": "stream",
          "name": "stderr",
          "text": [
            "<ipython-input-8-3051131134>:566: FutureWarning: `torch.cuda.amp.autocast(args...)` is deprecated. Please use `torch.amp.autocast('cuda', args...)` instead.\n",
            "  with autocast():\n",
            "<ipython-input-8-3051131134>:593: FutureWarning: `torch.cuda.amp.autocast(args...)` is deprecated. Please use `torch.amp.autocast('cuda', args...)` instead.\n",
            "  with torch.no_grad(), autocast():\n"
          ]
        },
        {
          "output_type": "stream",
          "name": "stdout",
          "text": [
            "EarlyStopping counter: 6/10, best min: 0.0495\n",
            "Epoch 19/100\n",
            "Train Loss: 0.0976 (Cls: 0.0426, Reg: 0.0785)\n",
            "Val Loss: 0.0729 (Cls: 0.0177, Reg: 0.0789)\n",
            "Val Acc: 0.8889 | Val F1: 0.8821 | Val Precision: 0.8571 | Val Recall: 1.0000\n",
            "Val MAE: 24.0962 | Val R2: 0.1506 | LR: 4.59e-06\n"
          ]
        },
        {
          "output_type": "stream",
          "name": "stderr",
          "text": [
            "<ipython-input-8-3051131134>:566: FutureWarning: `torch.cuda.amp.autocast(args...)` is deprecated. Please use `torch.amp.autocast('cuda', args...)` instead.\n",
            "  with autocast():\n",
            "<ipython-input-8-3051131134>:593: FutureWarning: `torch.cuda.amp.autocast(args...)` is deprecated. Please use `torch.amp.autocast('cuda', args...)` instead.\n",
            "  with torch.no_grad(), autocast():\n"
          ]
        },
        {
          "output_type": "stream",
          "name": "stdout",
          "text": [
            "EarlyStopping counter: 7/10, best min: 0.0495\n",
            "Epoch 20/100\n",
            "Train Loss: 0.0848 (Cls: 0.0544, Reg: 0.0434)\n",
            "Val Loss: 0.0608 (Cls: 0.0172, Reg: 0.0624)\n",
            "Val Acc: 0.7778 | Val F1: 0.7778 | Val Precision: 0.8333 | Val Recall: 0.8333\n",
            "Val MAE: 21.8924 | Val R2: 0.2907 | LR: 4.54e-06\n"
          ]
        },
        {
          "output_type": "stream",
          "name": "stderr",
          "text": [
            "<ipython-input-8-3051131134>:566: FutureWarning: `torch.cuda.amp.autocast(args...)` is deprecated. Please use `torch.amp.autocast('cuda', args...)` instead.\n",
            "  with autocast():\n",
            "<ipython-input-8-3051131134>:593: FutureWarning: `torch.cuda.amp.autocast(args...)` is deprecated. Please use `torch.amp.autocast('cuda', args...)` instead.\n",
            "  with torch.no_grad(), autocast():\n"
          ]
        },
        {
          "output_type": "stream",
          "name": "stdout",
          "text": [
            "EarlyStopping counter: 0/10, best min: 0.0400\n",
            "Epoch 21/100\n",
            "Train Loss: 0.0854 (Cls: 0.0571, Reg: 0.0404)\n",
            "Val Loss: 0.0400 (Cls: 0.0179, Reg: 0.0316)\n",
            "Val Acc: 0.8889 | Val F1: 0.8821 | Val Precision: 0.8571 | Val Recall: 1.0000\n",
            "Val MAE: 17.3183 | Val R2: 0.6050 | LR: 4.49e-06\n"
          ]
        },
        {
          "output_type": "stream",
          "name": "stderr",
          "text": [
            "<ipython-input-8-3051131134>:566: FutureWarning: `torch.cuda.amp.autocast(args...)` is deprecated. Please use `torch.amp.autocast('cuda', args...)` instead.\n",
            "  with autocast():\n",
            "<ipython-input-8-3051131134>:593: FutureWarning: `torch.cuda.amp.autocast(args...)` is deprecated. Please use `torch.amp.autocast('cuda', args...)` instead.\n",
            "  with torch.no_grad(), autocast():\n"
          ]
        },
        {
          "output_type": "stream",
          "name": "stdout",
          "text": [
            "EarlyStopping counter: 1/10, best min: 0.0400\n",
            "Epoch 22/100\n",
            "Train Loss: 0.0841 (Cls: 0.0368, Reg: 0.0676)\n",
            "Val Loss: 0.0849 (Cls: 0.0201, Reg: 0.0926)\n",
            "Val Acc: 0.8889 | Val F1: 0.8821 | Val Precision: 0.8571 | Val Recall: 1.0000\n",
            "Val MAE: 27.3904 | Val R2: -0.0025 | LR: 4.44e-06\n"
          ]
        },
        {
          "output_type": "stream",
          "name": "stderr",
          "text": [
            "<ipython-input-8-3051131134>:566: FutureWarning: `torch.cuda.amp.autocast(args...)` is deprecated. Please use `torch.amp.autocast('cuda', args...)` instead.\n",
            "  with autocast():\n",
            "<ipython-input-8-3051131134>:593: FutureWarning: `torch.cuda.amp.autocast(args...)` is deprecated. Please use `torch.amp.autocast('cuda', args...)` instead.\n",
            "  with torch.no_grad(), autocast():\n"
          ]
        },
        {
          "output_type": "stream",
          "name": "stdout",
          "text": [
            "EarlyStopping counter: 2/10, best min: 0.0400\n",
            "Epoch 23/100\n",
            "Train Loss: 0.0962 (Cls: 0.0439, Reg: 0.0748)\n",
            "Val Loss: 0.0921 (Cls: 0.0456, Reg: 0.0664)\n",
            "Val Acc: 0.7778 | Val F1: 0.7381 | Val Precision: 0.7500 | Val Recall: 1.0000\n",
            "Val MAE: 20.8264 | Val R2: 0.3414 | LR: 4.39e-06\n"
          ]
        },
        {
          "output_type": "stream",
          "name": "stderr",
          "text": [
            "<ipython-input-8-3051131134>:566: FutureWarning: `torch.cuda.amp.autocast(args...)` is deprecated. Please use `torch.amp.autocast('cuda', args...)` instead.\n",
            "  with autocast():\n",
            "<ipython-input-8-3051131134>:593: FutureWarning: `torch.cuda.amp.autocast(args...)` is deprecated. Please use `torch.amp.autocast('cuda', args...)` instead.\n",
            "  with torch.no_grad(), autocast():\n"
          ]
        },
        {
          "output_type": "stream",
          "name": "stdout",
          "text": [
            "EarlyStopping counter: 3/10, best min: 0.0400\n",
            "Epoch 24/100\n",
            "Train Loss: 0.0800 (Cls: 0.0364, Reg: 0.0623)\n",
            "Val Loss: 0.0819 (Cls: 0.0492, Reg: 0.0467)\n",
            "Val Acc: 0.6667 | Val F1: 0.5333 | Val Precision: 0.6667 | Val Recall: 1.0000\n",
            "Val MAE: 19.9333 | Val R2: 0.4987 | LR: 4.34e-06\n"
          ]
        },
        {
          "output_type": "stream",
          "name": "stderr",
          "text": [
            "<ipython-input-8-3051131134>:566: FutureWarning: `torch.cuda.amp.autocast(args...)` is deprecated. Please use `torch.amp.autocast('cuda', args...)` instead.\n",
            "  with autocast():\n",
            "<ipython-input-8-3051131134>:593: FutureWarning: `torch.cuda.amp.autocast(args...)` is deprecated. Please use `torch.amp.autocast('cuda', args...)` instead.\n",
            "  with torch.no_grad(), autocast():\n"
          ]
        },
        {
          "output_type": "stream",
          "name": "stdout",
          "text": [
            "EarlyStopping counter: 4/10, best min: 0.0400\n",
            "Epoch 25/100\n",
            "Train Loss: 0.0855 (Cls: 0.0578, Reg: 0.0397)\n",
            "Val Loss: 0.0805 (Cls: 0.0150, Reg: 0.0936)\n",
            "Val Acc: 0.8889 | Val F1: 0.8821 | Val Precision: 0.8571 | Val Recall: 1.0000\n",
            "Val MAE: 24.6984 | Val R2: 0.0642 | LR: 4.28e-06\n"
          ]
        },
        {
          "output_type": "stream",
          "name": "stderr",
          "text": [
            "<ipython-input-8-3051131134>:566: FutureWarning: `torch.cuda.amp.autocast(args...)` is deprecated. Please use `torch.amp.autocast('cuda', args...)` instead.\n",
            "  with autocast():\n",
            "<ipython-input-8-3051131134>:593: FutureWarning: `torch.cuda.amp.autocast(args...)` is deprecated. Please use `torch.amp.autocast('cuda', args...)` instead.\n",
            "  with torch.no_grad(), autocast():\n"
          ]
        },
        {
          "output_type": "stream",
          "name": "stdout",
          "text": [
            "EarlyStopping counter: 5/10, best min: 0.0400\n",
            "Epoch 26/100\n",
            "Train Loss: 0.0819 (Cls: 0.0484, Reg: 0.0478)\n",
            "Val Loss: 0.0771 (Cls: 0.0179, Reg: 0.0845)\n",
            "Val Acc: 0.8889 | Val F1: 0.8918 | Val Precision: 1.0000 | Val Recall: 0.8333\n",
            "Val MAE: 24.0965 | Val R2: 0.1421 | LR: 4.23e-06\n"
          ]
        },
        {
          "output_type": "stream",
          "name": "stderr",
          "text": [
            "<ipython-input-8-3051131134>:566: FutureWarning: `torch.cuda.amp.autocast(args...)` is deprecated. Please use `torch.amp.autocast('cuda', args...)` instead.\n",
            "  with autocast():\n",
            "<ipython-input-8-3051131134>:593: FutureWarning: `torch.cuda.amp.autocast(args...)` is deprecated. Please use `torch.amp.autocast('cuda', args...)` instead.\n",
            "  with torch.no_grad(), autocast():\n"
          ]
        },
        {
          "output_type": "stream",
          "name": "stdout",
          "text": [
            "EarlyStopping counter: 6/10, best min: 0.0400\n",
            "Epoch 27/100\n",
            "Train Loss: 0.0934 (Cls: 0.0721, Reg: 0.0304)\n",
            "Val Loss: 0.0465 (Cls: 0.0133, Reg: 0.0473)\n",
            "Val Acc: 0.8889 | Val F1: 0.8821 | Val Precision: 0.8571 | Val Recall: 1.0000\n",
            "Val MAE: 21.0553 | Val R2: 0.4613 | LR: 2.08e-06\n"
          ]
        },
        {
          "output_type": "stream",
          "name": "stderr",
          "text": [
            "<ipython-input-8-3051131134>:566: FutureWarning: `torch.cuda.amp.autocast(args...)` is deprecated. Please use `torch.amp.autocast('cuda', args...)` instead.\n",
            "  with autocast():\n",
            "<ipython-input-8-3051131134>:593: FutureWarning: `torch.cuda.amp.autocast(args...)` is deprecated. Please use `torch.amp.autocast('cuda', args...)` instead.\n",
            "  with torch.no_grad(), autocast():\n"
          ]
        },
        {
          "output_type": "stream",
          "name": "stdout",
          "text": [
            "EarlyStopping counter: 7/10, best min: 0.0400\n",
            "Epoch 28/100\n",
            "Train Loss: 0.0864 (Cls: 0.0497, Reg: 0.0525)\n",
            "Val Loss: 0.0485 (Cls: 0.0197, Reg: 0.0412)\n",
            "Val Acc: 0.8889 | Val F1: 0.8821 | Val Precision: 0.8571 | Val Recall: 1.0000\n",
            "Val MAE: 20.4465 | Val R2: 0.4993 | LR: 2.05e-06\n"
          ]
        },
        {
          "output_type": "stream",
          "name": "stderr",
          "text": [
            "<ipython-input-8-3051131134>:566: FutureWarning: `torch.cuda.amp.autocast(args...)` is deprecated. Please use `torch.amp.autocast('cuda', args...)` instead.\n",
            "  with autocast():\n",
            "<ipython-input-8-3051131134>:593: FutureWarning: `torch.cuda.amp.autocast(args...)` is deprecated. Please use `torch.amp.autocast('cuda', args...)` instead.\n",
            "  with torch.no_grad(), autocast():\n"
          ]
        },
        {
          "output_type": "stream",
          "name": "stdout",
          "text": [
            "EarlyStopping counter: 8/10, best min: 0.0400\n",
            "Epoch 29/100\n",
            "Train Loss: 0.0567 (Cls: 0.0286, Reg: 0.0401)\n",
            "Val Loss: 0.0609 (Cls: 0.0211, Reg: 0.0567)\n",
            "Val Acc: 0.7778 | Val F1: 0.7381 | Val Precision: 0.7500 | Val Recall: 1.0000\n",
            "Val MAE: 20.7298 | Val R2: 0.4161 | LR: 2.02e-06\n"
          ]
        },
        {
          "output_type": "stream",
          "name": "stderr",
          "text": [
            "<ipython-input-8-3051131134>:566: FutureWarning: `torch.cuda.amp.autocast(args...)` is deprecated. Please use `torch.amp.autocast('cuda', args...)` instead.\n",
            "  with autocast():\n",
            "<ipython-input-8-3051131134>:593: FutureWarning: `torch.cuda.amp.autocast(args...)` is deprecated. Please use `torch.amp.autocast('cuda', args...)` instead.\n",
            "  with torch.no_grad(), autocast():\n"
          ]
        },
        {
          "output_type": "stream",
          "name": "stdout",
          "text": [
            "EarlyStopping counter: 9/10, best min: 0.0400\n",
            "Epoch 30/100\n",
            "Train Loss: 0.0844 (Cls: 0.0414, Reg: 0.0616)\n",
            "Val Loss: 0.0723 (Cls: 0.0223, Reg: 0.0714)\n",
            "Val Acc: 0.7778 | Val F1: 0.7381 | Val Precision: 0.7500 | Val Recall: 1.0000\n",
            "Val MAE: 21.6240 | Val R2: 0.3023 | LR: 1.99e-06\n"
          ]
        },
        {
          "output_type": "stream",
          "name": "stderr",
          "text": [
            "<ipython-input-8-3051131134>:566: FutureWarning: `torch.cuda.amp.autocast(args...)` is deprecated. Please use `torch.amp.autocast('cuda', args...)` instead.\n",
            "  with autocast():\n",
            "<ipython-input-8-3051131134>:593: FutureWarning: `torch.cuda.amp.autocast(args...)` is deprecated. Please use `torch.amp.autocast('cuda', args...)` instead.\n",
            "  with torch.no_grad(), autocast():\n"
          ]
        },
        {
          "output_type": "stream",
          "name": "stdout",
          "text": [
            "EarlyStopping counter: 10/10, best min: 0.0400\n",
            "Early stopping triggered.\n",
            "\n",
            "Confusion Matrix for Fold 1:\n"
          ]
        },
        {
          "output_type": "display_data",
          "data": {
            "text/plain": [
              "<Figure size 800x600 with 1 Axes>"
            ],
            "image/png": "[encoded data removed]"
          },
          "metadata": {}
        },
        {
          "output_type": "display_data",
          "data": {
            "text/plain": [
              "<Figure size 800x600 with 1 Axes>"
            ],
            "image/png": "[encoded data removed]"
          },
          "metadata": {}
        },
        {
          "output_type": "stream",
          "name": "stdout",
          "text": [
            "\n",
            "Fold 1 Test Results:\n",
            "Accuracy: 0.6667\n",
            "F1-Score (weighted): 0.5333\n",
            "Precision: 0.6667\n",
            "Recall (Sensitivity): 1.0000\n",
            "MAE: 35.9122\n",
            "R2: -0.7370\n",
            "Best Epoch: 21\n",
            "\n",
            "==================================================\n",
            "Starting Training for Fold 2\n",
            "==================================================\n",
            "Fold 2: Train samples: 35, Val samples: 9\n",
            "Class distribution - Train: [11 24], Val: [3 6]\n"
          ]
        },
        {
          "output_type": "stream",
          "name": "stderr",
          "text": [
            "<ipython-input-8-3051131134>:54: UserWarning: Argument(s) 'var_limit' are not valid for transform GaussNoise\n",
            "  A.GaussNoise(var_limit=(10.0, 50.0)),\n",
            "<ipython-input-8-3051131134>:60: UserWarning: Argument(s) 'max_holes, max_height, max_width, min_holes' are not valid for transform CoarseDropout\n",
            "  A.CoarseDropout(max_holes=8, max_height=32, max_width=32, min_holes=2, p=0.4),\n",
            "/usr/local/lib/python3.11/dist-packages/torch/optim/lr_scheduler.py:62: UserWarning: The verbose parameter is deprecated. Please use get_last_lr() to access the learning rate.\n",
            "  warnings.warn(\n",
            "<ipython-input-8-3051131134>:546: FutureWarning: `torch.cuda.amp.GradScaler(args...)` is deprecated. Please use `torch.amp.GradScaler('cuda', args...)` instead.\n",
            "  scaler = GradScaler()\n",
            "/usr/local/lib/python3.11/dist-packages/torch/optim/lr_scheduler.py:227: UserWarning: Detected call of `lr_scheduler.step()` before `optimizer.step()`. In PyTorch 1.1.0 and later, you should call them in the opposite order: `optimizer.step()` before `lr_scheduler.step()`.  Failure to do this will result in PyTorch skipping the first value of the learning rate schedule. See more details at https://pytorch.org/docs/stable/optim.html#how-to-adjust-learning-rate\n",
            "  warnings.warn(\n",
            "<ipython-input-8-3051131134>:566: FutureWarning: `torch.cuda.amp.autocast(args...)` is deprecated. Please use `torch.amp.autocast('cuda', args...)` instead.\n",
            "  with autocast():\n",
            "<ipython-input-8-3051131134>:593: FutureWarning: `torch.cuda.amp.autocast(args...)` is deprecated. Please use `torch.amp.autocast('cuda', args...)` instead.\n",
            "  with torch.no_grad(), autocast():\n"
          ]
        },
        {
          "output_type": "stream",
          "name": "stdout",
          "text": [
            "EarlyStopping counter: 0/10, best min: 0.1148\n",
            "Epoch 1/100\n",
            "Train Loss: 0.1552 (Cls: 0.0893, Reg: 0.0941)\n",
            "Val Loss: 0.1148 (Cls: 0.0680, Reg: 0.0669)\n",
            "Val Acc: 0.6667 | Val F1: 0.5333 | Val Precision: 0.6667 | Val Recall: 1.0000\n",
            "Val MAE: 35.4978 | Val R2: -0.7221 | LR: 4.00e-06\n"
          ]
        },
        {
          "output_type": "stream",
          "name": "stderr",
          "text": [
            "<ipython-input-8-3051131134>:566: FutureWarning: `torch.cuda.amp.autocast(args...)` is deprecated. Please use `torch.amp.autocast('cuda', args...)` instead.\n",
            "  with autocast():\n",
            "<ipython-input-8-3051131134>:593: FutureWarning: `torch.cuda.amp.autocast(args...)` is deprecated. Please use `torch.amp.autocast('cuda', args...)` instead.\n",
            "  with torch.no_grad(), autocast():\n"
          ]
        },
        {
          "output_type": "stream",
          "name": "stdout",
          "text": [
            "EarlyStopping counter: 1/10, best min: 0.1148\n",
            "Epoch 2/100\n",
            "Train Loss: 0.1855 (Cls: 0.1141, Reg: 0.1020)\n",
            "Val Loss: 0.1824 (Cls: 0.0621, Reg: 0.1718)\n",
            "Val Acc: 0.6667 | Val F1: 0.5333 | Val Precision: 0.6667 | Val Recall: 1.0000\n",
            "Val MAE: 30.4456 | Val R2: -0.8399 | LR: 6.00e-06\n"
          ]
        },
        {
          "output_type": "stream",
          "name": "stderr",
          "text": [
            "<ipython-input-8-3051131134>:566: FutureWarning: `torch.cuda.amp.autocast(args...)` is deprecated. Please use `torch.amp.autocast('cuda', args...)` instead.\n",
            "  with autocast():\n",
            "<ipython-input-8-3051131134>:593: FutureWarning: `torch.cuda.amp.autocast(args...)` is deprecated. Please use `torch.amp.autocast('cuda', args...)` instead.\n",
            "  with torch.no_grad(), autocast():\n"
          ]
        },
        {
          "output_type": "stream",
          "name": "stdout",
          "text": [
            "EarlyStopping counter: 0/10, best min: 0.0906\n",
            "Epoch 3/100\n",
            "Train Loss: 0.2474 (Cls: 0.1343, Reg: 0.1615)\n",
            "Val Loss: 0.0906 (Cls: 0.0551, Reg: 0.0506)\n",
            "Val Acc: 0.6667 | Val F1: 0.5333 | Val Precision: 0.6667 | Val Recall: 1.0000\n",
            "Val MAE: 29.3339 | Val R2: -0.2125 | LR: 7.99e-06\n"
          ]
        },
        {
          "output_type": "stream",
          "name": "stderr",
          "text": [
            "<ipython-input-8-3051131134>:566: FutureWarning: `torch.cuda.amp.autocast(args...)` is deprecated. Please use `torch.amp.autocast('cuda', args...)` instead.\n",
            "  with autocast():\n",
            "<ipython-input-8-3051131134>:593: FutureWarning: `torch.cuda.amp.autocast(args...)` is deprecated. Please use `torch.amp.autocast('cuda', args...)` instead.\n",
            "  with torch.no_grad(), autocast():\n"
          ]
        },
        {
          "output_type": "stream",
          "name": "stdout",
          "text": [
            "EarlyStopping counter: 1/10, best min: 0.0906\n",
            "Epoch 4/100\n",
            "Train Loss: 0.2265 (Cls: 0.1261, Reg: 0.1434)\n",
            "Val Loss: 0.1850 (Cls: 0.1107, Reg: 0.1062)\n",
            "Val Acc: 0.3333 | Val F1: 0.1667 | Val Precision: 0.0000 | Val Recall: 0.0000\n",
            "Val MAE: 25.1402 | Val R2: -0.1780 | LR: 9.98e-06\n"
          ]
        },
        {
          "output_type": "stream",
          "name": "stderr",
          "text": [
            "<ipython-input-8-3051131134>:566: FutureWarning: `torch.cuda.amp.autocast(args...)` is deprecated. Please use `torch.amp.autocast('cuda', args...)` instead.\n",
            "  with autocast():\n",
            "<ipython-input-8-3051131134>:593: FutureWarning: `torch.cuda.amp.autocast(args...)` is deprecated. Please use `torch.amp.autocast('cuda', args...)` instead.\n",
            "  with torch.no_grad(), autocast():\n"
          ]
        },
        {
          "output_type": "stream",
          "name": "stdout",
          "text": [
            "EarlyStopping counter: 0/10, best min: 0.0798\n",
            "Epoch 5/100\n",
            "Train Loss: 0.1518 (Cls: 0.0831, Reg: 0.0982)\n",
            "Val Loss: 0.0798 (Cls: 0.0444, Reg: 0.0505)\n",
            "Val Acc: 0.6667 | Val F1: 0.5333 | Val Precision: 0.6667 | Val Recall: 1.0000\n",
            "Val MAE: 25.6191 | Val R2: 0.1604 | LR: 9.98e-06\n"
          ]
        },
        {
          "output_type": "stream",
          "name": "stderr",
          "text": [
            "<ipython-input-8-3051131134>:566: FutureWarning: `torch.cuda.amp.autocast(args...)` is deprecated. Please use `torch.amp.autocast('cuda', args...)` instead.\n",
            "  with autocast():\n",
            "<ipython-input-8-3051131134>:593: FutureWarning: `torch.cuda.amp.autocast(args...)` is deprecated. Please use `torch.amp.autocast('cuda', args...)` instead.\n",
            "  with torch.no_grad(), autocast():\n"
          ]
        },
        {
          "output_type": "stream",
          "name": "stdout",
          "text": [
            "EarlyStopping counter: 1/10, best min: 0.0798\n",
            "Epoch 6/100\n",
            "Train Loss: 0.1973 (Cls: 0.1285, Reg: 0.0982)\n",
            "Val Loss: 0.1165 (Cls: 0.0670, Reg: 0.0707)\n",
            "Val Acc: 0.5556 | Val F1: 0.5333 | Val Precision: 1.0000 | Val Recall: 0.3333\n",
            "Val MAE: 24.0831 | Val R2: 0.1485 | LR: 9.95e-06\n"
          ]
        },
        {
          "output_type": "stream",
          "name": "stderr",
          "text": [
            "<ipython-input-8-3051131134>:566: FutureWarning: `torch.cuda.amp.autocast(args...)` is deprecated. Please use `torch.amp.autocast('cuda', args...)` instead.\n",
            "  with autocast():\n",
            "<ipython-input-8-3051131134>:593: FutureWarning: `torch.cuda.amp.autocast(args...)` is deprecated. Please use `torch.amp.autocast('cuda', args...)` instead.\n",
            "  with torch.no_grad(), autocast():\n"
          ]
        },
        {
          "output_type": "stream",
          "name": "stdout",
          "text": [
            "EarlyStopping counter: 2/10, best min: 0.0798\n",
            "Epoch 7/100\n",
            "Train Loss: 0.1243 (Cls: 0.0635, Reg: 0.0869)\n",
            "Val Loss: 0.2602 (Cls: 0.1167, Reg: 0.2050)\n",
            "Val Acc: 0.3333 | Val F1: 0.1667 | Val Precision: 0.0000 | Val Recall: 0.0000\n",
            "Val MAE: 38.7380 | Val R2: -1.3805 | LR: 9.92e-06\n"
          ]
        },
        {
          "output_type": "stream",
          "name": "stderr",
          "text": [
            "<ipython-input-8-3051131134>:566: FutureWarning: `torch.cuda.amp.autocast(args...)` is deprecated. Please use `torch.amp.autocast('cuda', args...)` instead.\n",
            "  with autocast():\n",
            "<ipython-input-8-3051131134>:593: FutureWarning: `torch.cuda.amp.autocast(args...)` is deprecated. Please use `torch.amp.autocast('cuda', args...)` instead.\n",
            "  with torch.no_grad(), autocast():\n"
          ]
        },
        {
          "output_type": "stream",
          "name": "stdout",
          "text": [
            "EarlyStopping counter: 0/10, best min: 0.0602\n",
            "Epoch 8/100\n",
            "Train Loss: 0.1618 (Cls: 0.0933, Reg: 0.0979)\n",
            "Val Loss: 0.0602 (Cls: 0.0314, Reg: 0.0413)\n",
            "Val Acc: 0.6667 | Val F1: 0.6462 | Val Precision: 0.7143 | Val Recall: 0.8333\n",
            "Val MAE: 21.9954 | Val R2: 0.3585 | LR: 9.88e-06\n"
          ]
        },
        {
          "output_type": "stream",
          "name": "stderr",
          "text": [
            "<ipython-input-8-3051131134>:566: FutureWarning: `torch.cuda.amp.autocast(args...)` is deprecated. Please use `torch.amp.autocast('cuda', args...)` instead.\n",
            "  with autocast():\n",
            "<ipython-input-8-3051131134>:593: FutureWarning: `torch.cuda.amp.autocast(args...)` is deprecated. Please use `torch.amp.autocast('cuda', args...)` instead.\n",
            "  with torch.no_grad(), autocast():\n"
          ]
        },
        {
          "output_type": "stream",
          "name": "stdout",
          "text": [
            "EarlyStopping counter: 1/10, best min: 0.0602\n",
            "Epoch 9/100\n",
            "Train Loss: 0.1248 (Cls: 0.0767, Reg: 0.0687)\n",
            "Val Loss: 0.0808 (Cls: 0.0322, Reg: 0.0694)\n",
            "Val Acc: 0.8889 | Val F1: 0.8918 | Val Precision: 1.0000 | Val Recall: 0.8333\n",
            "Val MAE: 21.4203 | Val R2: 0.1024 | LR: 9.84e-06\n"
          ]
        },
        {
          "output_type": "stream",
          "name": "stderr",
          "text": [
            "<ipython-input-8-3051131134>:566: FutureWarning: `torch.cuda.amp.autocast(args...)` is deprecated. Please use `torch.amp.autocast('cuda', args...)` instead.\n",
            "  with autocast():\n",
            "<ipython-input-8-3051131134>:593: FutureWarning: `torch.cuda.amp.autocast(args...)` is deprecated. Please use `torch.amp.autocast('cuda', args...)` instead.\n",
            "  with torch.no_grad(), autocast():\n"
          ]
        },
        {
          "output_type": "stream",
          "name": "stdout",
          "text": [
            "EarlyStopping counter: 2/10, best min: 0.0602\n",
            "Epoch 10/100\n",
            "Train Loss: 0.1198 (Cls: 0.0704, Reg: 0.0706)\n",
            "Val Loss: 0.0817 (Cls: 0.0582, Reg: 0.0336)\n",
            "Val Acc: 0.5556 | Val F1: 0.5333 | Val Precision: 1.0000 | Val Recall: 0.3333\n",
            "Val MAE: 20.3411 | Val R2: 0.3798 | LR: 9.79e-06\n"
          ]
        },
        {
          "output_type": "stream",
          "name": "stderr",
          "text": [
            "<ipython-input-8-3051131134>:566: FutureWarning: `torch.cuda.amp.autocast(args...)` is deprecated. Please use `torch.amp.autocast('cuda', args...)` instead.\n",
            "  with autocast():\n",
            "<ipython-input-8-3051131134>:593: FutureWarning: `torch.cuda.amp.autocast(args...)` is deprecated. Please use `torch.amp.autocast('cuda', args...)` instead.\n",
            "  with torch.no_grad(), autocast():\n"
          ]
        },
        {
          "output_type": "stream",
          "name": "stdout",
          "text": [
            "EarlyStopping counter: 0/10, best min: 0.0435\n",
            "Epoch 11/100\n",
            "Train Loss: 0.1660 (Cls: 0.1067, Reg: 0.0846)\n",
            "Val Loss: 0.0435 (Cls: 0.0252, Reg: 0.0261)\n",
            "Val Acc: 0.8889 | Val F1: 0.8821 | Val Precision: 0.8571 | Val Recall: 1.0000\n",
            "Val MAE: 20.1451 | Val R2: 0.4157 | LR: 9.74e-06\n"
          ]
        },
        {
          "output_type": "stream",
          "name": "stderr",
          "text": [
            "<ipython-input-8-3051131134>:566: FutureWarning: `torch.cuda.amp.autocast(args...)` is deprecated. Please use `torch.amp.autocast('cuda', args...)` instead.\n",
            "  with autocast():\n",
            "<ipython-input-8-3051131134>:593: FutureWarning: `torch.cuda.amp.autocast(args...)` is deprecated. Please use `torch.amp.autocast('cuda', args...)` instead.\n",
            "  with torch.no_grad(), autocast():\n"
          ]
        },
        {
          "output_type": "stream",
          "name": "stdout",
          "text": [
            "EarlyStopping counter: 1/10, best min: 0.0435\n",
            "Epoch 12/100\n",
            "Train Loss: 0.1699 (Cls: 0.0864, Reg: 0.1192)\n",
            "Val Loss: 0.0659 (Cls: 0.0246, Reg: 0.0590)\n",
            "Val Acc: 0.7778 | Val F1: 0.7778 | Val Precision: 0.8333 | Val Recall: 0.8333\n",
            "Val MAE: 20.3395 | Val R2: 0.1344 | LR: 9.69e-06\n"
          ]
        },
        {
          "output_type": "stream",
          "name": "stderr",
          "text": [
            "<ipython-input-8-3051131134>:566: FutureWarning: `torch.cuda.amp.autocast(args...)` is deprecated. Please use `torch.amp.autocast('cuda', args...)` instead.\n",
            "  with autocast():\n",
            "<ipython-input-8-3051131134>:593: FutureWarning: `torch.cuda.amp.autocast(args...)` is deprecated. Please use `torch.amp.autocast('cuda', args...)` instead.\n",
            "  with torch.no_grad(), autocast():\n"
          ]
        },
        {
          "output_type": "stream",
          "name": "stdout",
          "text": [
            "EarlyStopping counter: 2/10, best min: 0.0435\n",
            "Epoch 13/100\n",
            "Train Loss: 0.0937 (Cls: 0.0517, Reg: 0.0600)\n",
            "Val Loss: 0.0459 (Cls: 0.0251, Reg: 0.0297)\n",
            "Val Acc: 0.8889 | Val F1: 0.8918 | Val Precision: 1.0000 | Val Recall: 0.8333\n",
            "Val MAE: 23.3522 | Val R2: 0.3217 | LR: 9.63e-06\n"
          ]
        },
        {
          "output_type": "stream",
          "name": "stderr",
          "text": [
            "<ipython-input-8-3051131134>:566: FutureWarning: `torch.cuda.amp.autocast(args...)` is deprecated. Please use `torch.amp.autocast('cuda', args...)` instead.\n",
            "  with autocast():\n",
            "<ipython-input-8-3051131134>:593: FutureWarning: `torch.cuda.amp.autocast(args...)` is deprecated. Please use `torch.amp.autocast('cuda', args...)` instead.\n",
            "  with torch.no_grad(), autocast():\n"
          ]
        },
        {
          "output_type": "stream",
          "name": "stdout",
          "text": [
            "EarlyStopping counter: 3/10, best min: 0.0435\n",
            "Epoch 14/100\n",
            "Train Loss: 0.1066 (Cls: 0.0607, Reg: 0.0655)\n",
            "Val Loss: 0.0771 (Cls: 0.0216, Reg: 0.0794)\n",
            "Val Acc: 0.8889 | Val F1: 0.8821 | Val Precision: 0.8571 | Val Recall: 1.0000\n",
            "Val MAE: 23.9552 | Val R2: -0.0130 | LR: 9.56e-06\n"
          ]
        },
        {
          "output_type": "stream",
          "name": "stderr",
          "text": [
            "<ipython-input-8-3051131134>:566: FutureWarning: `torch.cuda.amp.autocast(args...)` is deprecated. Please use `torch.amp.autocast('cuda', args...)` instead.\n",
            "  with autocast():\n",
            "<ipython-input-8-3051131134>:593: FutureWarning: `torch.cuda.amp.autocast(args...)` is deprecated. Please use `torch.amp.autocast('cuda', args...)` instead.\n",
            "  with torch.no_grad(), autocast():\n"
          ]
        },
        {
          "output_type": "stream",
          "name": "stdout",
          "text": [
            "EarlyStopping counter: 4/10, best min: 0.0435\n",
            "Epoch 15/100\n",
            "Train Loss: 0.0945 (Cls: 0.0454, Reg: 0.0701)\n",
            "Val Loss: 0.1231 (Cls: 0.0216, Reg: 0.1451)\n",
            "Val Acc: 0.7778 | Val F1: 0.7381 | Val Precision: 0.7500 | Val Recall: 1.0000\n",
            "Val MAE: 29.1796 | Val R2: -0.6966 | LR: 9.49e-06\n"
          ]
        },
        {
          "output_type": "stream",
          "name": "stderr",
          "text": [
            "<ipython-input-8-3051131134>:566: FutureWarning: `torch.cuda.amp.autocast(args...)` is deprecated. Please use `torch.amp.autocast('cuda', args...)` instead.\n",
            "  with autocast():\n",
            "<ipython-input-8-3051131134>:593: FutureWarning: `torch.cuda.amp.autocast(args...)` is deprecated. Please use `torch.amp.autocast('cuda', args...)` instead.\n",
            "  with torch.no_grad(), autocast():\n"
          ]
        },
        {
          "output_type": "stream",
          "name": "stdout",
          "text": [
            "EarlyStopping counter: 5/10, best min: 0.0435\n",
            "Epoch 16/100\n",
            "Train Loss: 0.0989 (Cls: 0.0545, Reg: 0.0634)\n",
            "Val Loss: 0.0842 (Cls: 0.0435, Reg: 0.0582)\n",
            "Val Acc: 0.5556 | Val F1: 0.5333 | Val Precision: 1.0000 | Val Recall: 0.3333\n",
            "Val MAE: 25.8314 | Val R2: 0.1348 | LR: 9.42e-06\n"
          ]
        },
        {
          "output_type": "stream",
          "name": "stderr",
          "text": [
            "<ipython-input-8-3051131134>:566: FutureWarning: `torch.cuda.amp.autocast(args...)` is deprecated. Please use `torch.amp.autocast('cuda', args...)` instead.\n",
            "  with autocast():\n",
            "<ipython-input-8-3051131134>:593: FutureWarning: `torch.cuda.amp.autocast(args...)` is deprecated. Please use `torch.amp.autocast('cuda', args...)` instead.\n",
            "  with torch.no_grad(), autocast():\n"
          ]
        },
        {
          "output_type": "stream",
          "name": "stdout",
          "text": [
            "EarlyStopping counter: 6/10, best min: 0.0435\n",
            "Epoch 17/100\n",
            "Train Loss: 0.1846 (Cls: 0.1370, Reg: 0.0679)\n",
            "Val Loss: 0.0808 (Cls: 0.0525, Reg: 0.0404)\n",
            "Val Acc: 0.5556 | Val F1: 0.5333 | Val Precision: 1.0000 | Val Recall: 0.3333\n",
            "Val MAE: 22.9447 | Val R2: 0.2939 | LR: 4.67e-06\n"
          ]
        },
        {
          "output_type": "stream",
          "name": "stderr",
          "text": [
            "<ipython-input-8-3051131134>:566: FutureWarning: `torch.cuda.amp.autocast(args...)` is deprecated. Please use `torch.amp.autocast('cuda', args...)` instead.\n",
            "  with autocast():\n",
            "<ipython-input-8-3051131134>:593: FutureWarning: `torch.cuda.amp.autocast(args...)` is deprecated. Please use `torch.amp.autocast('cuda', args...)` instead.\n",
            "  with torch.no_grad(), autocast():\n"
          ]
        },
        {
          "output_type": "stream",
          "name": "stdout",
          "text": [
            "EarlyStopping counter: 7/10, best min: 0.0435\n",
            "Epoch 18/100\n",
            "Train Loss: 0.1093 (Cls: 0.0468, Reg: 0.0892)\n",
            "Val Loss: 0.0928 (Cls: 0.0193, Reg: 0.1050)\n",
            "Val Acc: 0.8889 | Val F1: 0.8821 | Val Precision: 0.8571 | Val Recall: 1.0000\n",
            "Val MAE: 24.2594 | Val R2: -0.0732 | LR: 4.63e-06\n"
          ]
        },
        {
          "output_type": "stream",
          "name": "stderr",
          "text": [
            "<ipython-input-8-3051131134>:566: FutureWarning: `torch.cuda.amp.autocast(args...)` is deprecated. Please use `torch.amp.autocast('cuda', args...)` instead.\n",
            "  with autocast():\n",
            "<ipython-input-8-3051131134>:593: FutureWarning: `torch.cuda.amp.autocast(args...)` is deprecated. Please use `torch.amp.autocast('cuda', args...)` instead.\n",
            "  with torch.no_grad(), autocast():\n"
          ]
        },
        {
          "output_type": "stream",
          "name": "stdout",
          "text": [
            "EarlyStopping counter: 8/10, best min: 0.0435\n",
            "Epoch 19/100\n",
            "Train Loss: 0.1034 (Cls: 0.0637, Reg: 0.0567)\n",
            "Val Loss: 0.0950 (Cls: 0.0366, Reg: 0.0835)\n",
            "Val Acc: 0.6667 | Val F1: 0.5333 | Val Precision: 0.6667 | Val Recall: 1.0000\n",
            "Val MAE: 21.7522 | Val R2: 0.1620 | LR: 4.59e-06\n"
          ]
        },
        {
          "output_type": "stream",
          "name": "stderr",
          "text": [
            "<ipython-input-8-3051131134>:566: FutureWarning: `torch.cuda.amp.autocast(args...)` is deprecated. Please use `torch.amp.autocast('cuda', args...)` instead.\n",
            "  with autocast():\n",
            "<ipython-input-8-3051131134>:593: FutureWarning: `torch.cuda.amp.autocast(args...)` is deprecated. Please use `torch.amp.autocast('cuda', args...)` instead.\n",
            "  with torch.no_grad(), autocast():\n"
          ]
        },
        {
          "output_type": "stream",
          "name": "stdout",
          "text": [
            "EarlyStopping counter: 9/10, best min: 0.0435\n",
            "Epoch 20/100\n",
            "Train Loss: 0.1730 (Cls: 0.1320, Reg: 0.0586)\n",
            "Val Loss: 0.0480 (Cls: 0.0249, Reg: 0.0331)\n",
            "Val Acc: 0.7778 | Val F1: 0.7381 | Val Precision: 0.7500 | Val Recall: 1.0000\n",
            "Val MAE: 14.9548 | Val R2: 0.6563 | LR: 4.54e-06\n"
          ]
        },
        {
          "output_type": "stream",
          "name": "stderr",
          "text": [
            "<ipython-input-8-3051131134>:566: FutureWarning: `torch.cuda.amp.autocast(args...)` is deprecated. Please use `torch.amp.autocast('cuda', args...)` instead.\n",
            "  with autocast():\n",
            "<ipython-input-8-3051131134>:593: FutureWarning: `torch.cuda.amp.autocast(args...)` is deprecated. Please use `torch.amp.autocast('cuda', args...)` instead.\n",
            "  with torch.no_grad(), autocast():\n"
          ]
        },
        {
          "output_type": "stream",
          "name": "stdout",
          "text": [
            "EarlyStopping counter: 10/10, best min: 0.0435\n",
            "Early stopping triggered.\n",
            "\n",
            "Confusion Matrix for Fold 2:\n"
          ]
        },
        {
          "output_type": "display_data",
          "data": {
            "text/plain": [
              "<Figure size 800x600 with 1 Axes>"
            ],
            "image/png": "[encoded data removed]"
          },
          "metadata": {}
        },
        {
          "output_type": "display_data",
          "data": {
            "text/plain": [
              "<Figure size 800x600 with 1 Axes>"
            ],
            "image/png": "[encoded data removed]"
          },
          "metadata": {}
        },
        {
          "output_type": "stream",
          "name": "stdout",
          "text": [
            "\n",
            "Fold 2 Test Results:\n",
            "Accuracy: 0.6667\n",
            "F1-Score (weighted): 0.5333\n",
            "Precision: 0.6667\n",
            "Recall (Sensitivity): 1.0000\n",
            "MAE: 31.8971\n",
            "R2: -1.1142\n",
            "Best Epoch: 11\n",
            "\n",
            "==================================================\n",
            "Starting Training for Fold 3\n",
            "==================================================\n",
            "Fold 3: Train samples: 35, Val samples: 9\n",
            "Class distribution - Train: [11 24], Val: [3 6]\n"
          ]
        },
        {
          "output_type": "stream",
          "name": "stderr",
          "text": [
            "<ipython-input-8-3051131134>:54: UserWarning: Argument(s) 'var_limit' are not valid for transform GaussNoise\n",
            "  A.GaussNoise(var_limit=(10.0, 50.0)),\n",
            "<ipython-input-8-3051131134>:60: UserWarning: Argument(s) 'max_holes, max_height, max_width, min_holes' are not valid for transform CoarseDropout\n",
            "  A.CoarseDropout(max_holes=8, max_height=32, max_width=32, min_holes=2, p=0.4),\n",
            "/usr/local/lib/python3.11/dist-packages/torch/optim/lr_scheduler.py:62: UserWarning: The verbose parameter is deprecated. Please use get_last_lr() to access the learning rate.\n",
            "  warnings.warn(\n",
            "<ipython-input-8-3051131134>:546: FutureWarning: `torch.cuda.amp.GradScaler(args...)` is deprecated. Please use `torch.amp.GradScaler('cuda', args...)` instead.\n",
            "  scaler = GradScaler()\n",
            "/usr/local/lib/python3.11/dist-packages/torch/optim/lr_scheduler.py:227: UserWarning: Detected call of `lr_scheduler.step()` before `optimizer.step()`. In PyTorch 1.1.0 and later, you should call them in the opposite order: `optimizer.step()` before `lr_scheduler.step()`.  Failure to do this will result in PyTorch skipping the first value of the learning rate schedule. See more details at https://pytorch.org/docs/stable/optim.html#how-to-adjust-learning-rate\n",
            "  warnings.warn(\n",
            "<ipython-input-8-3051131134>:566: FutureWarning: `torch.cuda.amp.autocast(args...)` is deprecated. Please use `torch.amp.autocast('cuda', args...)` instead.\n",
            "  with autocast():\n",
            "<ipython-input-8-3051131134>:593: FutureWarning: `torch.cuda.amp.autocast(args...)` is deprecated. Please use `torch.amp.autocast('cuda', args...)` instead.\n",
            "  with torch.no_grad(), autocast():\n"
          ]
        },
        {
          "output_type": "stream",
          "name": "stdout",
          "text": [
            "EarlyStopping counter: 0/10, best min: 0.2319\n",
            "Epoch 1/100\n",
            "Train Loss: 0.1949 (Cls: 0.1001, Reg: 0.1355)\n",
            "Val Loss: 0.2319 (Cls: 0.1164, Reg: 0.1650)\n",
            "Val Acc: 0.6667 | Val F1: 0.5333 | Val Precision: 0.6667 | Val Recall: 1.0000\n",
            "Val MAE: 40.1440 | Val R2: -6.2518 | LR: 4.00e-06\n"
          ]
        },
        {
          "output_type": "stream",
          "name": "stderr",
          "text": [
            "<ipython-input-8-3051131134>:566: FutureWarning: `torch.cuda.amp.autocast(args...)` is deprecated. Please use `torch.amp.autocast('cuda', args...)` instead.\n",
            "  with autocast():\n",
            "<ipython-input-8-3051131134>:593: FutureWarning: `torch.cuda.amp.autocast(args...)` is deprecated. Please use `torch.amp.autocast('cuda', args...)` instead.\n",
            "  with torch.no_grad(), autocast():\n"
          ]
        },
        {
          "output_type": "stream",
          "name": "stdout",
          "text": [
            "EarlyStopping counter: 0/10, best min: 0.1185\n",
            "Epoch 2/100\n",
            "Train Loss: 0.1946 (Cls: 0.0795, Reg: 0.1643)\n",
            "Val Loss: 0.1185 (Cls: 0.0901, Reg: 0.0406)\n",
            "Val Acc: 0.6667 | Val F1: 0.5333 | Val Precision: 0.6667 | Val Recall: 1.0000\n",
            "Val MAE: 27.1977 | Val R2: -3.0156 | LR: 6.00e-06\n"
          ]
        },
        {
          "output_type": "stream",
          "name": "stderr",
          "text": [
            "<ipython-input-8-3051131134>:566: FutureWarning: `torch.cuda.amp.autocast(args...)` is deprecated. Please use `torch.amp.autocast('cuda', args...)` instead.\n",
            "  with autocast():\n",
            "<ipython-input-8-3051131134>:593: FutureWarning: `torch.cuda.amp.autocast(args...)` is deprecated. Please use `torch.amp.autocast('cuda', args...)` instead.\n",
            "  with torch.no_grad(), autocast():\n"
          ]
        },
        {
          "output_type": "stream",
          "name": "stdout",
          "text": [
            "EarlyStopping counter: 1/10, best min: 0.1185\n",
            "Epoch 3/100\n",
            "Train Loss: 0.2186 (Cls: 0.1054, Reg: 0.1617)\n",
            "Val Loss: 0.2808 (Cls: 0.1393, Reg: 0.2021)\n",
            "Val Acc: 0.6667 | Val F1: 0.5333 | Val Precision: 0.6667 | Val Recall: 1.0000\n",
            "Val MAE: 46.1729 | Val R2: -8.1079 | LR: 7.99e-06\n"
          ]
        },
        {
          "output_type": "stream",
          "name": "stderr",
          "text": [
            "<ipython-input-8-3051131134>:566: FutureWarning: `torch.cuda.amp.autocast(args...)` is deprecated. Please use `torch.amp.autocast('cuda', args...)` instead.\n",
            "  with autocast():\n",
            "<ipython-input-8-3051131134>:593: FutureWarning: `torch.cuda.amp.autocast(args...)` is deprecated. Please use `torch.amp.autocast('cuda', args...)` instead.\n",
            "  with torch.no_grad(), autocast():\n"
          ]
        },
        {
          "output_type": "stream",
          "name": "stdout",
          "text": [
            "EarlyStopping counter: 0/10, best min: 0.0877\n",
            "Epoch 4/100\n",
            "Train Loss: 0.1210 (Cls: 0.0667, Reg: 0.0776)\n",
            "Val Loss: 0.0877 (Cls: 0.0730, Reg: 0.0210)\n",
            "Val Acc: 0.5556 | Val F1: 0.5556 | Val Precision: 0.6667 | Val Recall: 0.6667\n",
            "Val MAE: 17.7136 | Val R2: -1.1025 | LR: 9.98e-06\n"
          ]
        },
        {
          "output_type": "stream",
          "name": "stderr",
          "text": [
            "<ipython-input-8-3051131134>:566: FutureWarning: `torch.cuda.amp.autocast(args...)` is deprecated. Please use `torch.amp.autocast('cuda', args...)` instead.\n",
            "  with autocast():\n",
            "<ipython-input-8-3051131134>:593: FutureWarning: `torch.cuda.amp.autocast(args...)` is deprecated. Please use `torch.amp.autocast('cuda', args...)` instead.\n",
            "  with torch.no_grad(), autocast():\n"
          ]
        },
        {
          "output_type": "stream",
          "name": "stdout",
          "text": [
            "EarlyStopping counter: 1/10, best min: 0.0877\n",
            "Epoch 5/100\n",
            "Train Loss: 0.2363 (Cls: 0.1342, Reg: 0.1459)\n",
            "Val Loss: 0.1391 (Cls: 0.1074, Reg: 0.0453)\n",
            "Val Acc: 0.6667 | Val F1: 0.5333 | Val Precision: 0.6667 | Val Recall: 1.0000\n",
            "Val MAE: 20.1486 | Val R2: -0.9612 | LR: 9.98e-06\n"
          ]
        },
        {
          "output_type": "stream",
          "name": "stderr",
          "text": [
            "<ipython-input-8-3051131134>:566: FutureWarning: `torch.cuda.amp.autocast(args...)` is deprecated. Please use `torch.amp.autocast('cuda', args...)` instead.\n",
            "  with autocast():\n",
            "<ipython-input-8-3051131134>:593: FutureWarning: `torch.cuda.amp.autocast(args...)` is deprecated. Please use `torch.amp.autocast('cuda', args...)` instead.\n",
            "  with torch.no_grad(), autocast():\n"
          ]
        },
        {
          "output_type": "stream",
          "name": "stdout",
          "text": [
            "EarlyStopping counter: 2/10, best min: 0.0877\n",
            "Epoch 6/100\n",
            "Train Loss: 0.1461 (Cls: 0.0713, Reg: 0.1069)\n",
            "Val Loss: 0.1831 (Cls: 0.0730, Reg: 0.1573)\n",
            "Val Acc: 0.4444 | Val F1: 0.4589 | Val Precision: 0.6000 | Val Recall: 0.5000\n",
            "Val MAE: 41.8022 | Val R2: -6.5704 | LR: 9.95e-06\n"
          ]
        },
        {
          "output_type": "stream",
          "name": "stderr",
          "text": [
            "<ipython-input-8-3051131134>:566: FutureWarning: `torch.cuda.amp.autocast(args...)` is deprecated. Please use `torch.amp.autocast('cuda', args...)` instead.\n",
            "  with autocast():\n",
            "<ipython-input-8-3051131134>:593: FutureWarning: `torch.cuda.amp.autocast(args...)` is deprecated. Please use `torch.amp.autocast('cuda', args...)` instead.\n",
            "  with torch.no_grad(), autocast():\n"
          ]
        },
        {
          "output_type": "stream",
          "name": "stdout",
          "text": [
            "EarlyStopping counter: 3/10, best min: 0.0877\n",
            "Epoch 7/100\n",
            "Train Loss: 0.1667 (Cls: 0.1087, Reg: 0.0829)\n",
            "Val Loss: 0.1322 (Cls: 0.0857, Reg: 0.0664)\n",
            "Val Acc: 0.4444 | Val F1: 0.4103 | Val Precision: 0.5714 | Val Recall: 0.6667\n",
            "Val MAE: 24.6042 | Val R2: -1.9132 | LR: 9.92e-06\n"
          ]
        },
        {
          "output_type": "stream",
          "name": "stderr",
          "text": [
            "<ipython-input-8-3051131134>:566: FutureWarning: `torch.cuda.amp.autocast(args...)` is deprecated. Please use `torch.amp.autocast('cuda', args...)` instead.\n",
            "  with autocast():\n",
            "<ipython-input-8-3051131134>:593: FutureWarning: `torch.cuda.amp.autocast(args...)` is deprecated. Please use `torch.amp.autocast('cuda', args...)` instead.\n",
            "  with torch.no_grad(), autocast():\n"
          ]
        },
        {
          "output_type": "stream",
          "name": "stdout",
          "text": [
            "EarlyStopping counter: 4/10, best min: 0.0877\n",
            "Epoch 8/100\n",
            "Train Loss: 0.1835 (Cls: 0.0837, Reg: 0.1425)\n",
            "Val Loss: 0.1451 (Cls: 0.1147, Reg: 0.0435)\n",
            "Val Acc: 0.5556 | Val F1: 0.4762 | Val Precision: 0.6250 | Val Recall: 0.8333\n",
            "Val MAE: 19.5424 | Val R2: -0.7397 | LR: 9.88e-06\n"
          ]
        },
        {
          "output_type": "stream",
          "name": "stderr",
          "text": [
            "<ipython-input-8-3051131134>:566: FutureWarning: `torch.cuda.amp.autocast(args...)` is deprecated. Please use `torch.amp.autocast('cuda', args...)` instead.\n",
            "  with autocast():\n",
            "<ipython-input-8-3051131134>:593: FutureWarning: `torch.cuda.amp.autocast(args...)` is deprecated. Please use `torch.amp.autocast('cuda', args...)` instead.\n",
            "  with torch.no_grad(), autocast():\n"
          ]
        },
        {
          "output_type": "stream",
          "name": "stdout",
          "text": [
            "EarlyStopping counter: 5/10, best min: 0.0877\n",
            "Epoch 9/100\n",
            "Train Loss: 0.1658 (Cls: 0.0838, Reg: 0.1172)\n",
            "Val Loss: 0.1236 (Cls: 0.1072, Reg: 0.0235)\n",
            "Val Acc: 0.4444 | Val F1: 0.4103 | Val Precision: 0.5714 | Val Recall: 0.6667\n",
            "Val MAE: 14.6895 | Val R2: 0.0462 | LR: 9.84e-06\n"
          ]
        },
        {
          "output_type": "stream",
          "name": "stderr",
          "text": [
            "<ipython-input-8-3051131134>:566: FutureWarning: `torch.cuda.amp.autocast(args...)` is deprecated. Please use `torch.amp.autocast('cuda', args...)` instead.\n",
            "  with autocast():\n",
            "<ipython-input-8-3051131134>:593: FutureWarning: `torch.cuda.amp.autocast(args...)` is deprecated. Please use `torch.amp.autocast('cuda', args...)` instead.\n",
            "  with torch.no_grad(), autocast():\n"
          ]
        },
        {
          "output_type": "stream",
          "name": "stdout",
          "text": [
            "EarlyStopping counter: 6/10, best min: 0.0877\n",
            "Epoch 10/100\n",
            "Train Loss: 0.2112 (Cls: 0.1356, Reg: 0.1079)\n",
            "Val Loss: 0.3329 (Cls: 0.2805, Reg: 0.0748)\n",
            "Val Acc: 0.6667 | Val F1: 0.5333 | Val Precision: 0.6667 | Val Recall: 1.0000\n",
            "Val MAE: 25.8378 | Val R2: -1.9904 | LR: 4.90e-06\n"
          ]
        },
        {
          "output_type": "stream",
          "name": "stderr",
          "text": [
            "<ipython-input-8-3051131134>:566: FutureWarning: `torch.cuda.amp.autocast(args...)` is deprecated. Please use `torch.amp.autocast('cuda', args...)` instead.\n",
            "  with autocast():\n",
            "<ipython-input-8-3051131134>:593: FutureWarning: `torch.cuda.amp.autocast(args...)` is deprecated. Please use `torch.amp.autocast('cuda', args...)` instead.\n",
            "  with torch.no_grad(), autocast():\n"
          ]
        },
        {
          "output_type": "stream",
          "name": "stdout",
          "text": [
            "EarlyStopping counter: 7/10, best min: 0.0877\n",
            "Epoch 11/100\n",
            "Train Loss: 0.1271 (Cls: 0.0703, Reg: 0.0811)\n",
            "Val Loss: 0.2145 (Cls: 0.1771, Reg: 0.0535)\n",
            "Val Acc: 0.6667 | Val F1: 0.5333 | Val Precision: 0.6667 | Val Recall: 1.0000\n",
            "Val MAE: 21.4349 | Val R2: -1.0496 | LR: 4.87e-06\n"
          ]
        },
        {
          "output_type": "stream",
          "name": "stderr",
          "text": [
            "<ipython-input-8-3051131134>:566: FutureWarning: `torch.cuda.amp.autocast(args...)` is deprecated. Please use `torch.amp.autocast('cuda', args...)` instead.\n",
            "  with autocast():\n",
            "<ipython-input-8-3051131134>:593: FutureWarning: `torch.cuda.amp.autocast(args...)` is deprecated. Please use `torch.amp.autocast('cuda', args...)` instead.\n",
            "  with torch.no_grad(), autocast():\n"
          ]
        },
        {
          "output_type": "stream",
          "name": "stdout",
          "text": [
            "EarlyStopping counter: 8/10, best min: 0.0877\n",
            "Epoch 12/100\n",
            "Train Loss: 0.1278 (Cls: 0.0688, Reg: 0.0843)\n",
            "Val Loss: 0.0900 (Cls: 0.0825, Reg: 0.0107)\n",
            "Val Acc: 0.4444 | Val F1: 0.4589 | Val Precision: 0.6000 | Val Recall: 0.5000\n",
            "Val MAE: 10.6272 | Val R2: 0.3049 | LR: 4.84e-06\n"
          ]
        },
        {
          "output_type": "stream",
          "name": "stderr",
          "text": [
            "<ipython-input-8-3051131134>:566: FutureWarning: `torch.cuda.amp.autocast(args...)` is deprecated. Please use `torch.amp.autocast('cuda', args...)` instead.\n",
            "  with autocast():\n",
            "<ipython-input-8-3051131134>:593: FutureWarning: `torch.cuda.amp.autocast(args...)` is deprecated. Please use `torch.amp.autocast('cuda', args...)` instead.\n",
            "  with torch.no_grad(), autocast():\n"
          ]
        },
        {
          "output_type": "stream",
          "name": "stdout",
          "text": [
            "EarlyStopping counter: 9/10, best min: 0.0877\n",
            "Epoch 13/100\n",
            "Train Loss: 0.1474 (Cls: 0.0846, Reg: 0.0897)\n",
            "Val Loss: 0.1415 (Cls: 0.1061, Reg: 0.0506)\n",
            "Val Acc: 0.4444 | Val F1: 0.4103 | Val Precision: 0.5714 | Val Recall: 0.6667\n",
            "Val MAE: 20.4775 | Val R2: -0.9182 | LR: 4.81e-06\n"
          ]
        },
        {
          "output_type": "stream",
          "name": "stderr",
          "text": [
            "<ipython-input-8-3051131134>:566: FutureWarning: `torch.cuda.amp.autocast(args...)` is deprecated. Please use `torch.amp.autocast('cuda', args...)` instead.\n",
            "  with autocast():\n",
            "<ipython-input-8-3051131134>:593: FutureWarning: `torch.cuda.amp.autocast(args...)` is deprecated. Please use `torch.amp.autocast('cuda', args...)` instead.\n",
            "  with torch.no_grad(), autocast():\n"
          ]
        },
        {
          "output_type": "stream",
          "name": "stdout",
          "text": [
            "EarlyStopping counter: 10/10, best min: 0.0877\n",
            "Early stopping triggered.\n",
            "\n",
            "Confusion Matrix for Fold 3:\n"
          ]
        },
        {
          "output_type": "display_data",
          "data": {
            "text/plain": [
              "<Figure size 800x600 with 1 Axes>"
            ],
            "image/png": "[encoded data removed]"
          },
          "metadata": {}
        },
        {
          "output_type": "display_data",
          "data": {
            "text/plain": [
              "<Figure size 800x600 with 1 Axes>"
            ],
            "image/png": "[encoded data removed]"
          },
          "metadata": {}
        },
        {
          "output_type": "stream",
          "name": "stdout",
          "text": [
            "\n",
            "Fold 3 Test Results:\n",
            "Accuracy: 0.6667\n",
            "F1-Score (weighted): 0.5333\n",
            "Precision: 0.6667\n",
            "Recall (Sensitivity): 1.0000\n",
            "MAE: 46.8250\n",
            "R2: -8.3322\n",
            "Best Epoch: 4\n",
            "\n",
            "==================================================\n",
            "Starting Training for Fold 4\n",
            "==================================================\n",
            "Fold 4: Train samples: 36, Val samples: 8\n",
            "Class distribution - Train: [12 24], Val: [2 6]\n"
          ]
        },
        {
          "output_type": "stream",
          "name": "stderr",
          "text": [
            "<ipython-input-8-3051131134>:54: UserWarning: Argument(s) 'var_limit' are not valid for transform GaussNoise\n",
            "  A.GaussNoise(var_limit=(10.0, 50.0)),\n",
            "<ipython-input-8-3051131134>:60: UserWarning: Argument(s) 'max_holes, max_height, max_width, min_holes' are not valid for transform CoarseDropout\n",
            "  A.CoarseDropout(max_holes=8, max_height=32, max_width=32, min_holes=2, p=0.4),\n",
            "/usr/local/lib/python3.11/dist-packages/torch/optim/lr_scheduler.py:62: UserWarning: The verbose parameter is deprecated. Please use get_last_lr() to access the learning rate.\n",
            "  warnings.warn(\n",
            "<ipython-input-8-3051131134>:546: FutureWarning: `torch.cuda.amp.GradScaler(args...)` is deprecated. Please use `torch.amp.GradScaler('cuda', args...)` instead.\n",
            "  scaler = GradScaler()\n",
            "/usr/local/lib/python3.11/dist-packages/torch/optim/lr_scheduler.py:227: UserWarning: Detected call of `lr_scheduler.step()` before `optimizer.step()`. In PyTorch 1.1.0 and later, you should call them in the opposite order: `optimizer.step()` before `lr_scheduler.step()`.  Failure to do this will result in PyTorch skipping the first value of the learning rate schedule. See more details at https://pytorch.org/docs/stable/optim.html#how-to-adjust-learning-rate\n",
            "  warnings.warn(\n",
            "<ipython-input-8-3051131134>:566: FutureWarning: `torch.cuda.amp.autocast(args...)` is deprecated. Please use `torch.amp.autocast('cuda', args...)` instead.\n",
            "  with autocast():\n",
            "<ipython-input-8-3051131134>:593: FutureWarning: `torch.cuda.amp.autocast(args...)` is deprecated. Please use `torch.amp.autocast('cuda', args...)` instead.\n",
            "  with torch.no_grad(), autocast():\n"
          ]
        },
        {
          "output_type": "stream",
          "name": "stdout",
          "text": [
            "EarlyStopping counter: 0/10, best min: 0.1006\n",
            "Epoch 1/100\n",
            "Train Loss: 0.3430 (Cls: 0.2445, Reg: 0.1408)\n",
            "Val Loss: 0.1006 (Cls: 0.0691, Reg: 0.0449)\n",
            "Val Acc: 0.7500 | Val F1: 0.6429 | Val Precision: 0.7500 | Val Recall: 1.0000\n",
            "Val MAE: 23.7253 | Val R2: -0.1265 | LR: 4.00e-06\n"
          ]
        },
        {
          "output_type": "stream",
          "name": "stderr",
          "text": [
            "<ipython-input-8-3051131134>:566: FutureWarning: `torch.cuda.amp.autocast(args...)` is deprecated. Please use `torch.amp.autocast('cuda', args...)` instead.\n",
            "  with autocast():\n",
            "<ipython-input-8-3051131134>:593: FutureWarning: `torch.cuda.amp.autocast(args...)` is deprecated. Please use `torch.amp.autocast('cuda', args...)` instead.\n",
            "  with torch.no_grad(), autocast():\n"
          ]
        },
        {
          "output_type": "stream",
          "name": "stdout",
          "text": [
            "EarlyStopping counter: 0/10, best min: 0.0805\n",
            "Epoch 2/100\n",
            "Train Loss: 0.1597 (Cls: 0.0814, Reg: 0.1119)\n",
            "Val Loss: 0.0805 (Cls: 0.0550, Reg: 0.0365)\n",
            "Val Acc: 0.7500 | Val F1: 0.6429 | Val Precision: 0.7500 | Val Recall: 1.0000\n",
            "Val MAE: 20.7405 | Val R2: 0.0877 | LR: 6.00e-06\n"
          ]
        },
        {
          "output_type": "stream",
          "name": "stderr",
          "text": [
            "<ipython-input-8-3051131134>:566: FutureWarning: `torch.cuda.amp.autocast(args...)` is deprecated. Please use `torch.amp.autocast('cuda', args...)` instead.\n",
            "  with autocast():\n",
            "<ipython-input-8-3051131134>:593: FutureWarning: `torch.cuda.amp.autocast(args...)` is deprecated. Please use `torch.amp.autocast('cuda', args...)` instead.\n",
            "  with torch.no_grad(), autocast():\n"
          ]
        },
        {
          "output_type": "stream",
          "name": "stdout",
          "text": [
            "EarlyStopping counter: 1/10, best min: 0.0805\n",
            "Epoch 3/100\n",
            "Train Loss: 0.2163 (Cls: 0.1565, Reg: 0.0854)\n",
            "Val Loss: 0.1652 (Cls: 0.1409, Reg: 0.0346)\n",
            "Val Acc: 0.2500 | Val F1: 0.1000 | Val Precision: 0.0000 | Val Recall: 0.0000\n",
            "Val MAE: 18.8584 | Val R2: 0.1277 | LR: 7.99e-06\n"
          ]
        },
        {
          "output_type": "stream",
          "name": "stderr",
          "text": [
            "<ipython-input-8-3051131134>:566: FutureWarning: `torch.cuda.amp.autocast(args...)` is deprecated. Please use `torch.amp.autocast('cuda', args...)` instead.\n",
            "  with autocast():\n",
            "<ipython-input-8-3051131134>:593: FutureWarning: `torch.cuda.amp.autocast(args...)` is deprecated. Please use `torch.amp.autocast('cuda', args...)` instead.\n",
            "  with torch.no_grad(), autocast():\n"
          ]
        },
        {
          "output_type": "stream",
          "name": "stdout",
          "text": [
            "EarlyStopping counter: 0/10, best min: 0.0755\n",
            "Epoch 4/100\n",
            "Train Loss: 0.2302 (Cls: 0.1564, Reg: 0.1055)\n",
            "Val Loss: 0.0755 (Cls: 0.0471, Reg: 0.0406)\n",
            "Val Acc: 0.7500 | Val F1: 0.6429 | Val Precision: 0.7500 | Val Recall: 1.0000\n",
            "Val MAE: 21.3184 | Val R2: -0.0164 | LR: 9.98e-06\n"
          ]
        },
        {
          "output_type": "stream",
          "name": "stderr",
          "text": [
            "<ipython-input-8-3051131134>:566: FutureWarning: `torch.cuda.amp.autocast(args...)` is deprecated. Please use `torch.amp.autocast('cuda', args...)` instead.\n",
            "  with autocast():\n",
            "<ipython-input-8-3051131134>:593: FutureWarning: `torch.cuda.amp.autocast(args...)` is deprecated. Please use `torch.amp.autocast('cuda', args...)` instead.\n",
            "  with torch.no_grad(), autocast():\n"
          ]
        },
        {
          "output_type": "stream",
          "name": "stdout",
          "text": [
            "EarlyStopping counter: 1/10, best min: 0.0755\n",
            "Epoch 5/100\n",
            "Train Loss: 0.1521 (Cls: 0.1024, Reg: 0.0710)\n",
            "Val Loss: 0.0817 (Cls: 0.0511, Reg: 0.0438)\n",
            "Val Acc: 0.7500 | Val F1: 0.6429 | Val Precision: 0.7500 | Val Recall: 1.0000\n",
            "Val MAE: 20.1790 | Val R2: -0.1075 | LR: 9.98e-06\n"
          ]
        },
        {
          "output_type": "stream",
          "name": "stderr",
          "text": [
            "<ipython-input-8-3051131134>:566: FutureWarning: `torch.cuda.amp.autocast(args...)` is deprecated. Please use `torch.amp.autocast('cuda', args...)` instead.\n",
            "  with autocast():\n",
            "<ipython-input-8-3051131134>:593: FutureWarning: `torch.cuda.amp.autocast(args...)` is deprecated. Please use `torch.amp.autocast('cuda', args...)` instead.\n",
            "  with torch.no_grad(), autocast():\n"
          ]
        },
        {
          "output_type": "stream",
          "name": "stdout",
          "text": [
            "EarlyStopping counter: 2/10, best min: 0.0755\n",
            "Epoch 6/100\n",
            "Train Loss: 0.1542 (Cls: 0.0630, Reg: 0.1302)\n",
            "Val Loss: 0.0855 (Cls: 0.0559, Reg: 0.0423)\n",
            "Val Acc: 0.7500 | Val F1: 0.7667 | Val Precision: 1.0000 | Val Recall: 0.6667\n",
            "Val MAE: 22.0044 | Val R2: -0.0616 | LR: 9.95e-06\n"
          ]
        },
        {
          "output_type": "stream",
          "name": "stderr",
          "text": [
            "<ipython-input-8-3051131134>:566: FutureWarning: `torch.cuda.amp.autocast(args...)` is deprecated. Please use `torch.amp.autocast('cuda', args...)` instead.\n",
            "  with autocast():\n",
            "<ipython-input-8-3051131134>:593: FutureWarning: `torch.cuda.amp.autocast(args...)` is deprecated. Please use `torch.amp.autocast('cuda', args...)` instead.\n",
            "  with torch.no_grad(), autocast():\n"
          ]
        },
        {
          "output_type": "stream",
          "name": "stdout",
          "text": [
            "EarlyStopping counter: 3/10, best min: 0.0755\n",
            "Epoch 7/100\n",
            "Train Loss: 0.1191 (Cls: 0.0830, Reg: 0.0515)\n",
            "Val Loss: 0.0854 (Cls: 0.0449, Reg: 0.0579)\n",
            "Val Acc: 0.8750 | Val F1: 0.8590 | Val Precision: 0.8571 | Val Recall: 1.0000\n",
            "Val MAE: 25.2551 | Val R2: -0.4674 | LR: 9.92e-06\n"
          ]
        },
        {
          "output_type": "stream",
          "name": "stderr",
          "text": [
            "<ipython-input-8-3051131134>:566: FutureWarning: `torch.cuda.amp.autocast(args...)` is deprecated. Please use `torch.amp.autocast('cuda', args...)` instead.\n",
            "  with autocast():\n",
            "<ipython-input-8-3051131134>:593: FutureWarning: `torch.cuda.amp.autocast(args...)` is deprecated. Please use `torch.amp.autocast('cuda', args...)` instead.\n",
            "  with torch.no_grad(), autocast():\n"
          ]
        },
        {
          "output_type": "stream",
          "name": "stdout",
          "text": [
            "EarlyStopping counter: 4/10, best min: 0.0755\n",
            "Epoch 8/100\n",
            "Train Loss: 0.1072 (Cls: 0.0435, Reg: 0.0909)\n",
            "Val Loss: 0.1183 (Cls: 0.0857, Reg: 0.0465)\n",
            "Val Acc: 0.7500 | Val F1: 0.6429 | Val Precision: 0.7500 | Val Recall: 1.0000\n",
            "Val MAE: 22.0990 | Val R2: -0.1768 | LR: 9.88e-06\n"
          ]
        },
        {
          "output_type": "stream",
          "name": "stderr",
          "text": [
            "<ipython-input-8-3051131134>:566: FutureWarning: `torch.cuda.amp.autocast(args...)` is deprecated. Please use `torch.amp.autocast('cuda', args...)` instead.\n",
            "  with autocast():\n",
            "<ipython-input-8-3051131134>:593: FutureWarning: `torch.cuda.amp.autocast(args...)` is deprecated. Please use `torch.amp.autocast('cuda', args...)` instead.\n",
            "  with torch.no_grad(), autocast():\n"
          ]
        },
        {
          "output_type": "stream",
          "name": "stdout",
          "text": [
            "EarlyStopping counter: 5/10, best min: 0.0755\n",
            "Epoch 9/100\n",
            "Train Loss: 0.1963 (Cls: 0.1188, Reg: 0.1107)\n",
            "Val Loss: 0.0985 (Cls: 0.0787, Reg: 0.0283)\n",
            "Val Acc: 0.7500 | Val F1: 0.6429 | Val Precision: 0.7500 | Val Recall: 1.0000\n",
            "Val MAE: 17.0953 | Val R2: 0.2907 | LR: 9.84e-06\n"
          ]
        },
        {
          "output_type": "stream",
          "name": "stderr",
          "text": [
            "<ipython-input-8-3051131134>:566: FutureWarning: `torch.cuda.amp.autocast(args...)` is deprecated. Please use `torch.amp.autocast('cuda', args...)` instead.\n",
            "  with autocast():\n",
            "<ipython-input-8-3051131134>:593: FutureWarning: `torch.cuda.amp.autocast(args...)` is deprecated. Please use `torch.amp.autocast('cuda', args...)` instead.\n",
            "  with torch.no_grad(), autocast():\n"
          ]
        },
        {
          "output_type": "stream",
          "name": "stdout",
          "text": [
            "EarlyStopping counter: 6/10, best min: 0.0755\n",
            "Epoch 10/100\n",
            "Train Loss: 0.1306 (Cls: 0.0841, Reg: 0.0664)\n",
            "Val Loss: 0.0990 (Cls: 0.0556, Reg: 0.0621)\n",
            "Val Acc: 0.5000 | Val F1: 0.5333 | Val Precision: 0.7500 | Val Recall: 0.5000\n",
            "Val MAE: 24.6752 | Val R2: -0.5953 | LR: 4.90e-06\n"
          ]
        },
        {
          "output_type": "stream",
          "name": "stderr",
          "text": [
            "<ipython-input-8-3051131134>:566: FutureWarning: `torch.cuda.amp.autocast(args...)` is deprecated. Please use `torch.amp.autocast('cuda', args...)` instead.\n",
            "  with autocast():\n",
            "<ipython-input-8-3051131134>:593: FutureWarning: `torch.cuda.amp.autocast(args...)` is deprecated. Please use `torch.amp.autocast('cuda', args...)` instead.\n",
            "  with torch.no_grad(), autocast():\n"
          ]
        },
        {
          "output_type": "stream",
          "name": "stdout",
          "text": [
            "EarlyStopping counter: 0/10, best min: 0.0713\n",
            "Epoch 11/100\n",
            "Train Loss: 0.1167 (Cls: 0.0588, Reg: 0.0827)\n",
            "Val Loss: 0.0713 (Cls: 0.0511, Reg: 0.0288)\n",
            "Val Acc: 0.5000 | Val F1: 0.5333 | Val Precision: 0.7500 | Val Recall: 0.5000\n",
            "Val MAE: 17.4370 | Val R2: 0.2799 | LR: 4.87e-06\n"
          ]
        },
        {
          "output_type": "stream",
          "name": "stderr",
          "text": [
            "<ipython-input-8-3051131134>:566: FutureWarning: `torch.cuda.amp.autocast(args...)` is deprecated. Please use `torch.amp.autocast('cuda', args...)` instead.\n",
            "  with autocast():\n",
            "<ipython-input-8-3051131134>:593: FutureWarning: `torch.cuda.amp.autocast(args...)` is deprecated. Please use `torch.amp.autocast('cuda', args...)` instead.\n",
            "  with torch.no_grad(), autocast():\n"
          ]
        },
        {
          "output_type": "stream",
          "name": "stdout",
          "text": [
            "EarlyStopping counter: 0/10, best min: 0.0688\n",
            "Epoch 12/100\n",
            "Train Loss: 0.1069 (Cls: 0.0442, Reg: 0.0896)\n",
            "Val Loss: 0.0688 (Cls: 0.0450, Reg: 0.0340)\n",
            "Val Acc: 0.8750 | Val F1: 0.8590 | Val Precision: 0.8571 | Val Recall: 1.0000\n",
            "Val MAE: 18.4547 | Val R2: 0.1476 | LR: 4.84e-06\n"
          ]
        },
        {
          "output_type": "stream",
          "name": "stderr",
          "text": [
            "<ipython-input-8-3051131134>:566: FutureWarning: `torch.cuda.amp.autocast(args...)` is deprecated. Please use `torch.amp.autocast('cuda', args...)` instead.\n",
            "  with autocast():\n",
            "<ipython-input-8-3051131134>:593: FutureWarning: `torch.cuda.amp.autocast(args...)` is deprecated. Please use `torch.amp.autocast('cuda', args...)` instead.\n",
            "  with torch.no_grad(), autocast():\n"
          ]
        },
        {
          "output_type": "stream",
          "name": "stdout",
          "text": [
            "EarlyStopping counter: 1/10, best min: 0.0688\n",
            "Epoch 13/100\n",
            "Train Loss: 0.1031 (Cls: 0.0726, Reg: 0.0437)\n",
            "Val Loss: 0.0819 (Cls: 0.0584, Reg: 0.0336)\n",
            "Val Acc: 0.7500 | Val F1: 0.6429 | Val Precision: 0.7500 | Val Recall: 1.0000\n",
            "Val MAE: 18.3514 | Val R2: 0.1540 | LR: 4.81e-06\n"
          ]
        },
        {
          "output_type": "stream",
          "name": "stderr",
          "text": [
            "<ipython-input-8-3051131134>:566: FutureWarning: `torch.cuda.amp.autocast(args...)` is deprecated. Please use `torch.amp.autocast('cuda', args...)` instead.\n",
            "  with autocast():\n",
            "<ipython-input-8-3051131134>:593: FutureWarning: `torch.cuda.amp.autocast(args...)` is deprecated. Please use `torch.amp.autocast('cuda', args...)` instead.\n",
            "  with torch.no_grad(), autocast():\n"
          ]
        },
        {
          "output_type": "stream",
          "name": "stdout",
          "text": [
            "EarlyStopping counter: 2/10, best min: 0.0688\n",
            "Epoch 14/100\n",
            "Train Loss: 0.1107 (Cls: 0.0723, Reg: 0.0548)\n",
            "Val Loss: 0.0891 (Cls: 0.0400, Reg: 0.0702)\n",
            "Val Acc: 0.8750 | Val F1: 0.8590 | Val Precision: 0.8571 | Val Recall: 1.0000\n",
            "Val MAE: 26.2622 | Val R2: -0.8188 | LR: 4.78e-06\n"
          ]
        },
        {
          "output_type": "stream",
          "name": "stderr",
          "text": [
            "<ipython-input-8-3051131134>:566: FutureWarning: `torch.cuda.amp.autocast(args...)` is deprecated. Please use `torch.amp.autocast('cuda', args...)` instead.\n",
            "  with autocast():\n",
            "<ipython-input-8-3051131134>:593: FutureWarning: `torch.cuda.amp.autocast(args...)` is deprecated. Please use `torch.amp.autocast('cuda', args...)` instead.\n",
            "  with torch.no_grad(), autocast():\n"
          ]
        },
        {
          "output_type": "stream",
          "name": "stdout",
          "text": [
            "EarlyStopping counter: 3/10, best min: 0.0688\n",
            "Epoch 15/100\n",
            "Train Loss: 0.1505 (Cls: 0.0769, Reg: 0.1052)\n",
            "Val Loss: 0.0738 (Cls: 0.0446, Reg: 0.0417)\n",
            "Val Acc: 0.5000 | Val F1: 0.5333 | Val Precision: 0.7500 | Val Recall: 0.5000\n",
            "Val MAE: 20.4896 | Val R2: -0.0594 | LR: 4.75e-06\n"
          ]
        },
        {
          "output_type": "stream",
          "name": "stderr",
          "text": [
            "<ipython-input-8-3051131134>:566: FutureWarning: `torch.cuda.amp.autocast(args...)` is deprecated. Please use `torch.amp.autocast('cuda', args...)` instead.\n",
            "  with autocast():\n",
            "<ipython-input-8-3051131134>:593: FutureWarning: `torch.cuda.amp.autocast(args...)` is deprecated. Please use `torch.amp.autocast('cuda', args...)` instead.\n",
            "  with torch.no_grad(), autocast():\n"
          ]
        },
        {
          "output_type": "stream",
          "name": "stdout",
          "text": [
            "EarlyStopping counter: 0/10, best min: 0.0665\n",
            "Epoch 16/100\n",
            "Train Loss: 0.0725 (Cls: 0.0439, Reg: 0.0408)\n",
            "Val Loss: 0.0665 (Cls: 0.0363, Reg: 0.0431)\n",
            "Val Acc: 0.8750 | Val F1: 0.8590 | Val Precision: 0.8571 | Val Recall: 1.0000\n",
            "Val MAE: 21.5977 | Val R2: -0.0857 | LR: 4.71e-06\n"
          ]
        },
        {
          "output_type": "stream",
          "name": "stderr",
          "text": [
            "<ipython-input-8-3051131134>:566: FutureWarning: `torch.cuda.amp.autocast(args...)` is deprecated. Please use `torch.amp.autocast('cuda', args...)` instead.\n",
            "  with autocast():\n",
            "<ipython-input-8-3051131134>:593: FutureWarning: `torch.cuda.amp.autocast(args...)` is deprecated. Please use `torch.amp.autocast('cuda', args...)` instead.\n",
            "  with torch.no_grad(), autocast():\n"
          ]
        },
        {
          "output_type": "stream",
          "name": "stdout",
          "text": [
            "EarlyStopping counter: 0/10, best min: 0.0622\n",
            "Epoch 17/100\n",
            "Train Loss: 0.1083 (Cls: 0.0540, Reg: 0.0776)\n",
            "Val Loss: 0.0622 (Cls: 0.0372, Reg: 0.0357)\n",
            "Val Acc: 0.8750 | Val F1: 0.8590 | Val Precision: 0.8571 | Val Recall: 1.0000\n",
            "Val MAE: 18.6338 | Val R2: 0.1054 | LR: 4.67e-06\n"
          ]
        },
        {
          "output_type": "stream",
          "name": "stderr",
          "text": [
            "<ipython-input-8-3051131134>:566: FutureWarning: `torch.cuda.amp.autocast(args...)` is deprecated. Please use `torch.amp.autocast('cuda', args...)` instead.\n",
            "  with autocast():\n",
            "<ipython-input-8-3051131134>:593: FutureWarning: `torch.cuda.amp.autocast(args...)` is deprecated. Please use `torch.amp.autocast('cuda', args...)` instead.\n",
            "  with torch.no_grad(), autocast():\n"
          ]
        },
        {
          "output_type": "stream",
          "name": "stdout",
          "text": [
            "EarlyStopping counter: 0/10, best min: 0.0610\n",
            "Epoch 18/100\n",
            "Train Loss: 0.1235 (Cls: 0.0774, Reg: 0.0660)\n",
            "Val Loss: 0.0610 (Cls: 0.0304, Reg: 0.0437)\n",
            "Val Acc: 0.8750 | Val F1: 0.8590 | Val Precision: 0.8571 | Val Recall: 1.0000\n",
            "Val MAE: 19.8809 | Val R2: -0.1188 | LR: 4.63e-06\n"
          ]
        },
        {
          "output_type": "stream",
          "name": "stderr",
          "text": [
            "<ipython-input-8-3051131134>:566: FutureWarning: `torch.cuda.amp.autocast(args...)` is deprecated. Please use `torch.amp.autocast('cuda', args...)` instead.\n",
            "  with autocast():\n",
            "<ipython-input-8-3051131134>:593: FutureWarning: `torch.cuda.amp.autocast(args...)` is deprecated. Please use `torch.amp.autocast('cuda', args...)` instead.\n",
            "  with torch.no_grad(), autocast():\n"
          ]
        },
        {
          "output_type": "stream",
          "name": "stdout",
          "text": [
            "EarlyStopping counter: 1/10, best min: 0.0610\n",
            "Epoch 19/100\n",
            "Train Loss: 0.1077 (Cls: 0.0467, Reg: 0.0872)\n",
            "Val Loss: 0.0676 (Cls: 0.0358, Reg: 0.0454)\n",
            "Val Acc: 0.8750 | Val F1: 0.8818 | Val Precision: 1.0000 | Val Recall: 0.8333\n",
            "Val MAE: 22.3615 | Val R2: -0.1449 | LR: 4.59e-06\n"
          ]
        },
        {
          "output_type": "stream",
          "name": "stderr",
          "text": [
            "<ipython-input-8-3051131134>:566: FutureWarning: `torch.cuda.amp.autocast(args...)` is deprecated. Please use `torch.amp.autocast('cuda', args...)` instead.\n",
            "  with autocast():\n",
            "<ipython-input-8-3051131134>:593: FutureWarning: `torch.cuda.amp.autocast(args...)` is deprecated. Please use `torch.amp.autocast('cuda', args...)` instead.\n",
            "  with torch.no_grad(), autocast():\n"
          ]
        },
        {
          "output_type": "stream",
          "name": "stdout",
          "text": [
            "EarlyStopping counter: 2/10, best min: 0.0610\n",
            "Epoch 20/100\n",
            "Train Loss: 0.0739 (Cls: 0.0434, Reg: 0.0436)\n",
            "Val Loss: 0.0714 (Cls: 0.0531, Reg: 0.0261)\n",
            "Val Acc: 0.6250 | Val F1: 0.6429 | Val Precision: 1.0000 | Val Recall: 0.5000\n",
            "Val MAE: 15.4153 | Val R2: 0.3496 | LR: 4.54e-06\n"
          ]
        },
        {
          "output_type": "stream",
          "name": "stderr",
          "text": [
            "<ipython-input-8-3051131134>:566: FutureWarning: `torch.cuda.amp.autocast(args...)` is deprecated. Please use `torch.amp.autocast('cuda', args...)` instead.\n",
            "  with autocast():\n",
            "<ipython-input-8-3051131134>:593: FutureWarning: `torch.cuda.amp.autocast(args...)` is deprecated. Please use `torch.amp.autocast('cuda', args...)` instead.\n",
            "  with torch.no_grad(), autocast():\n"
          ]
        },
        {
          "output_type": "stream",
          "name": "stdout",
          "text": [
            "EarlyStopping counter: 3/10, best min: 0.0610\n",
            "Epoch 21/100\n",
            "Train Loss: 0.0716 (Cls: 0.0377, Reg: 0.0484)\n",
            "Val Loss: 0.0668 (Cls: 0.0328, Reg: 0.0486)\n",
            "Val Acc: 0.8750 | Val F1: 0.8818 | Val Precision: 1.0000 | Val Recall: 0.8333\n",
            "Val MAE: 22.9928 | Val R2: -0.2373 | LR: 4.49e-06\n"
          ]
        },
        {
          "output_type": "stream",
          "name": "stderr",
          "text": [
            "<ipython-input-8-3051131134>:566: FutureWarning: `torch.cuda.amp.autocast(args...)` is deprecated. Please use `torch.amp.autocast('cuda', args...)` instead.\n",
            "  with autocast():\n",
            "<ipython-input-8-3051131134>:593: FutureWarning: `torch.cuda.amp.autocast(args...)` is deprecated. Please use `torch.amp.autocast('cuda', args...)` instead.\n",
            "  with torch.no_grad(), autocast():\n"
          ]
        },
        {
          "output_type": "stream",
          "name": "stdout",
          "text": [
            "EarlyStopping counter: 0/10, best min: 0.0558\n",
            "Epoch 22/100\n",
            "Train Loss: 0.0985 (Cls: 0.0659, Reg: 0.0465)\n",
            "Val Loss: 0.0558 (Cls: 0.0372, Reg: 0.0265)\n",
            "Val Acc: 0.8750 | Val F1: 0.8818 | Val Precision: 1.0000 | Val Recall: 0.8333\n",
            "Val MAE: 16.1809 | Val R2: 0.3378 | LR: 4.44e-06\n"
          ]
        },
        {
          "output_type": "stream",
          "name": "stderr",
          "text": [
            "<ipython-input-8-3051131134>:566: FutureWarning: `torch.cuda.amp.autocast(args...)` is deprecated. Please use `torch.amp.autocast('cuda', args...)` instead.\n",
            "  with autocast():\n",
            "<ipython-input-8-3051131134>:593: FutureWarning: `torch.cuda.amp.autocast(args...)` is deprecated. Please use `torch.amp.autocast('cuda', args...)` instead.\n",
            "  with torch.no_grad(), autocast():\n"
          ]
        },
        {
          "output_type": "stream",
          "name": "stdout",
          "text": [
            "EarlyStopping counter: 1/10, best min: 0.0558\n",
            "Epoch 23/100\n",
            "Train Loss: 0.0866 (Cls: 0.0413, Reg: 0.0647)\n",
            "Val Loss: 0.0638 (Cls: 0.0464, Reg: 0.0249)\n",
            "Val Acc: 0.6250 | Val F1: 0.6429 | Val Precision: 1.0000 | Val Recall: 0.5000\n",
            "Val MAE: 14.5248 | Val R2: 0.3808 | LR: 4.39e-06\n"
          ]
        },
        {
          "output_type": "stream",
          "name": "stderr",
          "text": [
            "<ipython-input-8-3051131134>:566: FutureWarning: `torch.cuda.amp.autocast(args...)` is deprecated. Please use `torch.amp.autocast('cuda', args...)` instead.\n",
            "  with autocast():\n",
            "<ipython-input-8-3051131134>:593: FutureWarning: `torch.cuda.amp.autocast(args...)` is deprecated. Please use `torch.amp.autocast('cuda', args...)` instead.\n",
            "  with torch.no_grad(), autocast():\n"
          ]
        },
        {
          "output_type": "stream",
          "name": "stdout",
          "text": [
            "EarlyStopping counter: 0/10, best min: 0.0488\n",
            "Epoch 24/100\n",
            "Train Loss: 0.0903 (Cls: 0.0663, Reg: 0.0342)\n",
            "Val Loss: 0.0488 (Cls: 0.0285, Reg: 0.0290)\n",
            "Val Acc: 0.8750 | Val F1: 0.8818 | Val Precision: 1.0000 | Val Recall: 0.8333\n",
            "Val MAE: 17.0134 | Val R2: 0.2702 | LR: 4.34e-06\n"
          ]
        },
        {
          "output_type": "stream",
          "name": "stderr",
          "text": [
            "<ipython-input-8-3051131134>:566: FutureWarning: `torch.cuda.amp.autocast(args...)` is deprecated. Please use `torch.amp.autocast('cuda', args...)` instead.\n",
            "  with autocast():\n",
            "<ipython-input-8-3051131134>:593: FutureWarning: `torch.cuda.amp.autocast(args...)` is deprecated. Please use `torch.amp.autocast('cuda', args...)` instead.\n",
            "  with torch.no_grad(), autocast():\n"
          ]
        },
        {
          "output_type": "stream",
          "name": "stdout",
          "text": [
            "EarlyStopping counter: 1/10, best min: 0.0488\n",
            "Epoch 25/100\n",
            "Train Loss: 0.0569 (Cls: 0.0353, Reg: 0.0309)\n",
            "Val Loss: 0.0513 (Cls: 0.0328, Reg: 0.0265)\n",
            "Val Acc: 0.8750 | Val F1: 0.8818 | Val Precision: 1.0000 | Val Recall: 0.8333\n",
            "Val MAE: 15.1948 | Val R2: 0.3370 | LR: 4.28e-06\n"
          ]
        },
        {
          "output_type": "stream",
          "name": "stderr",
          "text": [
            "<ipython-input-8-3051131134>:566: FutureWarning: `torch.cuda.amp.autocast(args...)` is deprecated. Please use `torch.amp.autocast('cuda', args...)` instead.\n",
            "  with autocast():\n",
            "<ipython-input-8-3051131134>:593: FutureWarning: `torch.cuda.amp.autocast(args...)` is deprecated. Please use `torch.amp.autocast('cuda', args...)` instead.\n",
            "  with torch.no_grad(), autocast():\n"
          ]
        },
        {
          "output_type": "stream",
          "name": "stdout",
          "text": [
            "EarlyStopping counter: 2/10, best min: 0.0488\n",
            "Epoch 26/100\n",
            "Train Loss: 0.0689 (Cls: 0.0424, Reg: 0.0378)\n",
            "Val Loss: 0.0528 (Cls: 0.0328, Reg: 0.0285)\n",
            "Val Acc: 0.8750 | Val F1: 0.8818 | Val Precision: 1.0000 | Val Recall: 0.8333\n",
            "Val MAE: 15.8103 | Val R2: 0.2831 | LR: 4.23e-06\n"
          ]
        },
        {
          "output_type": "stream",
          "name": "stderr",
          "text": [
            "<ipython-input-8-3051131134>:566: FutureWarning: `torch.cuda.amp.autocast(args...)` is deprecated. Please use `torch.amp.autocast('cuda', args...)` instead.\n",
            "  with autocast():\n",
            "<ipython-input-8-3051131134>:593: FutureWarning: `torch.cuda.amp.autocast(args...)` is deprecated. Please use `torch.amp.autocast('cuda', args...)` instead.\n",
            "  with torch.no_grad(), autocast():\n"
          ]
        },
        {
          "output_type": "stream",
          "name": "stdout",
          "text": [
            "EarlyStopping counter: 3/10, best min: 0.0488\n",
            "Epoch 27/100\n",
            "Train Loss: 0.1028 (Cls: 0.0798, Reg: 0.0329)\n",
            "Val Loss: 0.0550 (Cls: 0.0326, Reg: 0.0321)\n",
            "Val Acc: 0.8750 | Val F1: 0.8818 | Val Precision: 1.0000 | Val Recall: 0.8333\n",
            "Val MAE: 18.3529 | Val R2: 0.1922 | LR: 4.17e-06\n"
          ]
        },
        {
          "output_type": "stream",
          "name": "stderr",
          "text": [
            "<ipython-input-8-3051131134>:566: FutureWarning: `torch.cuda.amp.autocast(args...)` is deprecated. Please use `torch.amp.autocast('cuda', args...)` instead.\n",
            "  with autocast():\n",
            "<ipython-input-8-3051131134>:593: FutureWarning: `torch.cuda.amp.autocast(args...)` is deprecated. Please use `torch.amp.autocast('cuda', args...)` instead.\n",
            "  with torch.no_grad(), autocast():\n"
          ]
        },
        {
          "output_type": "stream",
          "name": "stdout",
          "text": [
            "EarlyStopping counter: 4/10, best min: 0.0488\n",
            "Epoch 28/100\n",
            "Train Loss: 0.0764 (Cls: 0.0581, Reg: 0.0261)\n",
            "Val Loss: 0.0574 (Cls: 0.0345, Reg: 0.0327)\n",
            "Val Acc: 0.8750 | Val F1: 0.8818 | Val Precision: 1.0000 | Val Recall: 0.8333\n",
            "Val MAE: 16.4090 | Val R2: 0.1720 | LR: 4.11e-06\n"
          ]
        },
        {
          "output_type": "stream",
          "name": "stderr",
          "text": [
            "<ipython-input-8-3051131134>:566: FutureWarning: `torch.cuda.amp.autocast(args...)` is deprecated. Please use `torch.amp.autocast('cuda', args...)` instead.\n",
            "  with autocast():\n",
            "<ipython-input-8-3051131134>:593: FutureWarning: `torch.cuda.amp.autocast(args...)` is deprecated. Please use `torch.amp.autocast('cuda', args...)` instead.\n",
            "  with torch.no_grad(), autocast():\n"
          ]
        },
        {
          "output_type": "stream",
          "name": "stdout",
          "text": [
            "EarlyStopping counter: 5/10, best min: 0.0488\n",
            "Epoch 29/100\n",
            "Train Loss: 0.0813 (Cls: 0.0481, Reg: 0.0475)\n",
            "Val Loss: 0.0589 (Cls: 0.0271, Reg: 0.0454)\n",
            "Val Acc: 0.8750 | Val F1: 0.8818 | Val Precision: 1.0000 | Val Recall: 0.8333\n",
            "Val MAE: 20.2408 | Val R2: -0.1680 | LR: 4.05e-06\n"
          ]
        },
        {
          "output_type": "stream",
          "name": "stderr",
          "text": [
            "<ipython-input-8-3051131134>:566: FutureWarning: `torch.cuda.amp.autocast(args...)` is deprecated. Please use `torch.amp.autocast('cuda', args...)` instead.\n",
            "  with autocast():\n",
            "<ipython-input-8-3051131134>:593: FutureWarning: `torch.cuda.amp.autocast(args...)` is deprecated. Please use `torch.amp.autocast('cuda', args...)` instead.\n",
            "  with torch.no_grad(), autocast():\n"
          ]
        },
        {
          "output_type": "stream",
          "name": "stdout",
          "text": [
            "EarlyStopping counter: 0/10, best min: 0.0458\n",
            "Epoch 30/100\n",
            "Train Loss: 0.0699 (Cls: 0.0316, Reg: 0.0547)\n",
            "Val Loss: 0.0458 (Cls: 0.0255, Reg: 0.0290)\n",
            "Val Acc: 0.8750 | Val F1: 0.8818 | Val Precision: 1.0000 | Val Recall: 0.8333\n",
            "Val MAE: 15.7255 | Val R2: 0.2689 | LR: 3.99e-06\n"
          ]
        },
        {
          "output_type": "stream",
          "name": "stderr",
          "text": [
            "<ipython-input-8-3051131134>:566: FutureWarning: `torch.cuda.amp.autocast(args...)` is deprecated. Please use `torch.amp.autocast('cuda', args...)` instead.\n",
            "  with autocast():\n",
            "<ipython-input-8-3051131134>:593: FutureWarning: `torch.cuda.amp.autocast(args...)` is deprecated. Please use `torch.amp.autocast('cuda', args...)` instead.\n",
            "  with torch.no_grad(), autocast():\n"
          ]
        },
        {
          "output_type": "stream",
          "name": "stdout",
          "text": [
            "EarlyStopping counter: 1/10, best min: 0.0458\n",
            "Epoch 31/100\n",
            "Train Loss: 0.0782 (Cls: 0.0585, Reg: 0.0282)\n",
            "Val Loss: 0.0568 (Cls: 0.0378, Reg: 0.0271)\n",
            "Val Acc: 0.7500 | Val F1: 0.7667 | Val Precision: 1.0000 | Val Recall: 0.6667\n",
            "Val MAE: 16.8582 | Val R2: 0.3232 | LR: 3.92e-06\n"
          ]
        },
        {
          "output_type": "stream",
          "name": "stderr",
          "text": [
            "<ipython-input-8-3051131134>:566: FutureWarning: `torch.cuda.amp.autocast(args...)` is deprecated. Please use `torch.amp.autocast('cuda', args...)` instead.\n",
            "  with autocast():\n",
            "<ipython-input-8-3051131134>:593: FutureWarning: `torch.cuda.amp.autocast(args...)` is deprecated. Please use `torch.amp.autocast('cuda', args...)` instead.\n",
            "  with torch.no_grad(), autocast():\n"
          ]
        },
        {
          "output_type": "stream",
          "name": "stdout",
          "text": [
            "EarlyStopping counter: 2/10, best min: 0.0458\n",
            "Epoch 32/100\n",
            "Train Loss: 0.0618 (Cls: 0.0236, Reg: 0.0546)\n",
            "Val Loss: 0.0542 (Cls: 0.0377, Reg: 0.0236)\n",
            "Val Acc: 0.7500 | Val F1: 0.7667 | Val Precision: 1.0000 | Val Recall: 0.6667\n",
            "Val MAE: 14.6715 | Val R2: 0.4086 | LR: 3.85e-06\n"
          ]
        },
        {
          "output_type": "stream",
          "name": "stderr",
          "text": [
            "<ipython-input-8-3051131134>:566: FutureWarning: `torch.cuda.amp.autocast(args...)` is deprecated. Please use `torch.amp.autocast('cuda', args...)` instead.\n",
            "  with autocast():\n",
            "<ipython-input-8-3051131134>:593: FutureWarning: `torch.cuda.amp.autocast(args...)` is deprecated. Please use `torch.amp.autocast('cuda', args...)` instead.\n",
            "  with torch.no_grad(), autocast():\n"
          ]
        },
        {
          "output_type": "stream",
          "name": "stdout",
          "text": [
            "EarlyStopping counter: 3/10, best min: 0.0458\n",
            "Epoch 33/100\n",
            "Train Loss: 0.0451 (Cls: 0.0214, Reg: 0.0338)\n",
            "Val Loss: 0.0699 (Cls: 0.0365, Reg: 0.0477)\n",
            "Val Acc: 0.7500 | Val F1: 0.7667 | Val Precision: 1.0000 | Val Recall: 0.6667\n",
            "Val MAE: 20.2316 | Val R2: -0.2295 | LR: 3.79e-06\n"
          ]
        },
        {
          "output_type": "stream",
          "name": "stderr",
          "text": [
            "<ipython-input-8-3051131134>:566: FutureWarning: `torch.cuda.amp.autocast(args...)` is deprecated. Please use `torch.amp.autocast('cuda', args...)` instead.\n",
            "  with autocast():\n",
            "<ipython-input-8-3051131134>:593: FutureWarning: `torch.cuda.amp.autocast(args...)` is deprecated. Please use `torch.amp.autocast('cuda', args...)` instead.\n",
            "  with torch.no_grad(), autocast():\n"
          ]
        },
        {
          "output_type": "stream",
          "name": "stdout",
          "text": [
            "EarlyStopping counter: 4/10, best min: 0.0458\n",
            "Epoch 34/100\n",
            "Train Loss: 0.0823 (Cls: 0.0346, Reg: 0.0682)\n",
            "Val Loss: 0.0674 (Cls: 0.0403, Reg: 0.0388)\n",
            "Val Acc: 0.6250 | Val F1: 0.6429 | Val Precision: 1.0000 | Val Recall: 0.5000\n",
            "Val MAE: 16.5701 | Val R2: 0.0029 | LR: 3.72e-06\n"
          ]
        },
        {
          "output_type": "stream",
          "name": "stderr",
          "text": [
            "<ipython-input-8-3051131134>:566: FutureWarning: `torch.cuda.amp.autocast(args...)` is deprecated. Please use `torch.amp.autocast('cuda', args...)` instead.\n",
            "  with autocast():\n",
            "<ipython-input-8-3051131134>:593: FutureWarning: `torch.cuda.amp.autocast(args...)` is deprecated. Please use `torch.amp.autocast('cuda', args...)` instead.\n",
            "  with torch.no_grad(), autocast():\n"
          ]
        },
        {
          "output_type": "stream",
          "name": "stdout",
          "text": [
            "EarlyStopping counter: 5/10, best min: 0.0458\n",
            "Epoch 35/100\n",
            "Train Loss: 0.0435 (Cls: 0.0184, Reg: 0.0359)\n",
            "Val Loss: 0.1103 (Cls: 0.0843, Reg: 0.0373)\n",
            "Val Acc: 0.6250 | Val F1: 0.6429 | Val Precision: 1.0000 | Val Recall: 0.5000\n",
            "Val MAE: 20.3948 | Val R2: 0.0671 | LR: 3.65e-06\n"
          ]
        },
        {
          "output_type": "stream",
          "name": "stderr",
          "text": [
            "<ipython-input-8-3051131134>:566: FutureWarning: `torch.cuda.amp.autocast(args...)` is deprecated. Please use `torch.amp.autocast('cuda', args...)` instead.\n",
            "  with autocast():\n",
            "<ipython-input-8-3051131134>:593: FutureWarning: `torch.cuda.amp.autocast(args...)` is deprecated. Please use `torch.amp.autocast('cuda', args...)` instead.\n",
            "  with torch.no_grad(), autocast():\n"
          ]
        },
        {
          "output_type": "stream",
          "name": "stdout",
          "text": [
            "EarlyStopping counter: 6/10, best min: 0.0458\n",
            "Epoch 36/100\n",
            "Train Loss: 0.0762 (Cls: 0.0488, Reg: 0.0392)\n",
            "Val Loss: 0.0645 (Cls: 0.0382, Reg: 0.0376)\n",
            "Val Acc: 0.6250 | Val F1: 0.6429 | Val Precision: 1.0000 | Val Recall: 0.5000\n",
            "Val MAE: 19.8354 | Val R2: 0.0528 | LR: 1.79e-06\n"
          ]
        },
        {
          "output_type": "stream",
          "name": "stderr",
          "text": [
            "<ipython-input-8-3051131134>:566: FutureWarning: `torch.cuda.amp.autocast(args...)` is deprecated. Please use `torch.amp.autocast('cuda', args...)` instead.\n",
            "  with autocast():\n",
            "<ipython-input-8-3051131134>:593: FutureWarning: `torch.cuda.amp.autocast(args...)` is deprecated. Please use `torch.amp.autocast('cuda', args...)` instead.\n",
            "  with torch.no_grad(), autocast():\n"
          ]
        },
        {
          "output_type": "stream",
          "name": "stdout",
          "text": [
            "EarlyStopping counter: 7/10, best min: 0.0458\n",
            "Epoch 37/100\n",
            "Train Loss: 0.0469 (Cls: 0.0204, Reg: 0.0378)\n",
            "Val Loss: 0.0505 (Cls: 0.0269, Reg: 0.0338)\n",
            "Val Acc: 0.8750 | Val F1: 0.8818 | Val Precision: 1.0000 | Val Recall: 0.8333\n",
            "Val MAE: 18.9502 | Val R2: 0.1497 | LR: 1.75e-06\n"
          ]
        },
        {
          "output_type": "stream",
          "name": "stderr",
          "text": [
            "<ipython-input-8-3051131134>:566: FutureWarning: `torch.cuda.amp.autocast(args...)` is deprecated. Please use `torch.amp.autocast('cuda', args...)` instead.\n",
            "  with autocast():\n",
            "<ipython-input-8-3051131134>:593: FutureWarning: `torch.cuda.amp.autocast(args...)` is deprecated. Please use `torch.amp.autocast('cuda', args...)` instead.\n",
            "  with torch.no_grad(), autocast():\n"
          ]
        },
        {
          "output_type": "stream",
          "name": "stdout",
          "text": [
            "EarlyStopping counter: 0/10, best min: 0.0456\n",
            "Epoch 38/100\n",
            "Train Loss: 0.0658 (Cls: 0.0199, Reg: 0.0656)\n",
            "Val Loss: 0.0456 (Cls: 0.0252, Reg: 0.0292)\n",
            "Val Acc: 0.8750 | Val F1: 0.8818 | Val Precision: 1.0000 | Val Recall: 0.8333\n",
            "Val MAE: 17.5318 | Val R2: 0.2660 | LR: 1.72e-06\n"
          ]
        },
        {
          "output_type": "stream",
          "name": "stderr",
          "text": [
            "<ipython-input-8-3051131134>:566: FutureWarning: `torch.cuda.amp.autocast(args...)` is deprecated. Please use `torch.amp.autocast('cuda', args...)` instead.\n",
            "  with autocast():\n",
            "<ipython-input-8-3051131134>:593: FutureWarning: `torch.cuda.amp.autocast(args...)` is deprecated. Please use `torch.amp.autocast('cuda', args...)` instead.\n",
            "  with torch.no_grad(), autocast():\n"
          ]
        },
        {
          "output_type": "stream",
          "name": "stdout",
          "text": [
            "EarlyStopping counter: 1/10, best min: 0.0456\n",
            "Epoch 39/100\n",
            "Train Loss: 0.0511 (Cls: 0.0241, Reg: 0.0385)\n",
            "Val Loss: 0.0474 (Cls: 0.0281, Reg: 0.0276)\n",
            "Val Acc: 0.8750 | Val F1: 0.8818 | Val Precision: 1.0000 | Val Recall: 0.8333\n",
            "Val MAE: 15.2451 | Val R2: 0.3021 | LR: 1.68e-06\n"
          ]
        },
        {
          "output_type": "stream",
          "name": "stderr",
          "text": [
            "<ipython-input-8-3051131134>:566: FutureWarning: `torch.cuda.amp.autocast(args...)` is deprecated. Please use `torch.amp.autocast('cuda', args...)` instead.\n",
            "  with autocast():\n",
            "<ipython-input-8-3051131134>:593: FutureWarning: `torch.cuda.amp.autocast(args...)` is deprecated. Please use `torch.amp.autocast('cuda', args...)` instead.\n",
            "  with torch.no_grad(), autocast():\n"
          ]
        },
        {
          "output_type": "stream",
          "name": "stdout",
          "text": [
            "EarlyStopping counter: 2/10, best min: 0.0456\n",
            "Epoch 40/100\n",
            "Train Loss: 0.0464 (Cls: 0.0266, Reg: 0.0282)\n",
            "Val Loss: 0.0576 (Cls: 0.0376, Reg: 0.0286)\n",
            "Val Acc: 0.6250 | Val F1: 0.6429 | Val Precision: 1.0000 | Val Recall: 0.5000\n",
            "Val MAE: 15.3512 | Val R2: 0.2714 | LR: 1.64e-06\n"
          ]
        },
        {
          "output_type": "stream",
          "name": "stderr",
          "text": [
            "<ipython-input-8-3051131134>:566: FutureWarning: `torch.cuda.amp.autocast(args...)` is deprecated. Please use `torch.amp.autocast('cuda', args...)` instead.\n",
            "  with autocast():\n",
            "<ipython-input-8-3051131134>:593: FutureWarning: `torch.cuda.amp.autocast(args...)` is deprecated. Please use `torch.amp.autocast('cuda', args...)` instead.\n",
            "  with torch.no_grad(), autocast():\n"
          ]
        },
        {
          "output_type": "stream",
          "name": "stdout",
          "text": [
            "EarlyStopping counter: 3/10, best min: 0.0456\n",
            "Epoch 41/100\n",
            "Train Loss: 0.0606 (Cls: 0.0319, Reg: 0.0410)\n",
            "Val Loss: 0.1046 (Cls: 0.0872, Reg: 0.0249)\n",
            "Val Acc: 0.6250 | Val F1: 0.6429 | Val Precision: 1.0000 | Val Recall: 0.5000\n",
            "Val MAE: 14.6661 | Val R2: 0.3713 | LR: 1.61e-06\n"
          ]
        },
        {
          "output_type": "stream",
          "name": "stderr",
          "text": [
            "<ipython-input-8-3051131134>:566: FutureWarning: `torch.cuda.amp.autocast(args...)` is deprecated. Please use `torch.amp.autocast('cuda', args...)` instead.\n",
            "  with autocast():\n",
            "<ipython-input-8-3051131134>:593: FutureWarning: `torch.cuda.amp.autocast(args...)` is deprecated. Please use `torch.amp.autocast('cuda', args...)` instead.\n",
            "  with torch.no_grad(), autocast():\n"
          ]
        },
        {
          "output_type": "stream",
          "name": "stdout",
          "text": [
            "EarlyStopping counter: 4/10, best min: 0.0456\n",
            "Epoch 42/100\n",
            "Train Loss: 0.0597 (Cls: 0.0338, Reg: 0.0370)\n",
            "Val Loss: 0.1176 (Cls: 0.1022, Reg: 0.0221)\n",
            "Val Acc: 0.6250 | Val F1: 0.6429 | Val Precision: 1.0000 | Val Recall: 0.5000\n",
            "Val MAE: 14.0070 | Val R2: 0.4457 | LR: 1.57e-06\n"
          ]
        },
        {
          "output_type": "stream",
          "name": "stderr",
          "text": [
            "<ipython-input-8-3051131134>:566: FutureWarning: `torch.cuda.amp.autocast(args...)` is deprecated. Please use `torch.amp.autocast('cuda', args...)` instead.\n",
            "  with autocast():\n",
            "<ipython-input-8-3051131134>:593: FutureWarning: `torch.cuda.amp.autocast(args...)` is deprecated. Please use `torch.amp.autocast('cuda', args...)` instead.\n",
            "  with torch.no_grad(), autocast():\n"
          ]
        },
        {
          "output_type": "stream",
          "name": "stdout",
          "text": [
            "EarlyStopping counter: 5/10, best min: 0.0456\n",
            "Epoch 43/100\n",
            "Train Loss: 0.0905 (Cls: 0.0602, Reg: 0.0432)\n",
            "Val Loss: 0.0973 (Cls: 0.0822, Reg: 0.0217)\n",
            "Val Acc: 0.6250 | Val F1: 0.6429 | Val Precision: 1.0000 | Val Recall: 0.5000\n",
            "Val MAE: 13.9880 | Val R2: 0.4576 | LR: 1.53e-06\n"
          ]
        },
        {
          "output_type": "stream",
          "name": "stderr",
          "text": [
            "<ipython-input-8-3051131134>:566: FutureWarning: `torch.cuda.amp.autocast(args...)` is deprecated. Please use `torch.amp.autocast('cuda', args...)` instead.\n",
            "  with autocast():\n",
            "<ipython-input-8-3051131134>:593: FutureWarning: `torch.cuda.amp.autocast(args...)` is deprecated. Please use `torch.amp.autocast('cuda', args...)` instead.\n",
            "  with torch.no_grad(), autocast():\n"
          ]
        },
        {
          "output_type": "stream",
          "name": "stdout",
          "text": [
            "EarlyStopping counter: 6/10, best min: 0.0456\n",
            "Epoch 44/100\n",
            "Train Loss: 0.0490 (Cls: 0.0257, Reg: 0.0332)\n",
            "Val Loss: 0.0539 (Cls: 0.0377, Reg: 0.0233)\n",
            "Val Acc: 0.7500 | Val F1: 0.7667 | Val Precision: 1.0000 | Val Recall: 0.6667\n",
            "Val MAE: 15.1346 | Val R2: 0.4203 | LR: 7.45e-07\n"
          ]
        },
        {
          "output_type": "stream",
          "name": "stderr",
          "text": [
            "<ipython-input-8-3051131134>:566: FutureWarning: `torch.cuda.amp.autocast(args...)` is deprecated. Please use `torch.amp.autocast('cuda', args...)` instead.\n",
            "  with autocast():\n",
            "<ipython-input-8-3051131134>:593: FutureWarning: `torch.cuda.amp.autocast(args...)` is deprecated. Please use `torch.amp.autocast('cuda', args...)` instead.\n",
            "  with torch.no_grad(), autocast():\n"
          ]
        },
        {
          "output_type": "stream",
          "name": "stdout",
          "text": [
            "EarlyStopping counter: 0/10, best min: 0.0439\n",
            "Epoch 45/100\n",
            "Train Loss: 0.0599 (Cls: 0.0353, Reg: 0.0350)\n",
            "Val Loss: 0.0439 (Cls: 0.0271, Reg: 0.0240)\n",
            "Val Acc: 0.8750 | Val F1: 0.8818 | Val Precision: 1.0000 | Val Recall: 0.8333\n",
            "Val MAE: 15.5185 | Val R2: 0.4011 | LR: 7.26e-07\n"
          ]
        },
        {
          "output_type": "stream",
          "name": "stderr",
          "text": [
            "<ipython-input-8-3051131134>:566: FutureWarning: `torch.cuda.amp.autocast(args...)` is deprecated. Please use `torch.amp.autocast('cuda', args...)` instead.\n",
            "  with autocast():\n",
            "<ipython-input-8-3051131134>:593: FutureWarning: `torch.cuda.amp.autocast(args...)` is deprecated. Please use `torch.amp.autocast('cuda', args...)` instead.\n",
            "  with torch.no_grad(), autocast():\n"
          ]
        },
        {
          "output_type": "stream",
          "name": "stdout",
          "text": [
            "EarlyStopping counter: 0/10, best min: 0.0362\n",
            "Epoch 46/100\n",
            "Train Loss: 0.0650 (Cls: 0.0403, Reg: 0.0353)\n",
            "Val Loss: 0.0362 (Cls: 0.0192, Reg: 0.0242)\n",
            "Val Acc: 0.8750 | Val F1: 0.8818 | Val Precision: 1.0000 | Val Recall: 0.8333\n",
            "Val MAE: 15.4317 | Val R2: 0.3934 | LR: 7.06e-07\n"
          ]
        },
        {
          "output_type": "stream",
          "name": "stderr",
          "text": [
            "<ipython-input-8-3051131134>:566: FutureWarning: `torch.cuda.amp.autocast(args...)` is deprecated. Please use `torch.amp.autocast('cuda', args...)` instead.\n",
            "  with autocast():\n",
            "<ipython-input-8-3051131134>:593: FutureWarning: `torch.cuda.amp.autocast(args...)` is deprecated. Please use `torch.amp.autocast('cuda', args...)` instead.\n",
            "  with torch.no_grad(), autocast():\n"
          ]
        },
        {
          "output_type": "stream",
          "name": "stdout",
          "text": [
            "EarlyStopping counter: 0/10, best min: 0.0349\n",
            "Epoch 47/100\n",
            "Train Loss: 0.0440 (Cls: 0.0296, Reg: 0.0205)\n",
            "Val Loss: 0.0349 (Cls: 0.0177, Reg: 0.0246)\n",
            "Val Acc: 1.0000 | Val F1: 1.0000 | Val Precision: 1.0000 | Val Recall: 1.0000\n",
            "Val MAE: 15.5457 | Val R2: 0.3841 | LR: 6.87e-07\n"
          ]
        },
        {
          "output_type": "stream",
          "name": "stderr",
          "text": [
            "<ipython-input-8-3051131134>:566: FutureWarning: `torch.cuda.amp.autocast(args...)` is deprecated. Please use `torch.amp.autocast('cuda', args...)` instead.\n",
            "  with autocast():\n",
            "<ipython-input-8-3051131134>:593: FutureWarning: `torch.cuda.amp.autocast(args...)` is deprecated. Please use `torch.amp.autocast('cuda', args...)` instead.\n",
            "  with torch.no_grad(), autocast():\n"
          ]
        },
        {
          "output_type": "stream",
          "name": "stdout",
          "text": [
            "EarlyStopping counter: 1/10, best min: 0.0349\n",
            "Epoch 48/100\n",
            "Train Loss: 0.0344 (Cls: 0.0125, Reg: 0.0313)\n",
            "Val Loss: 0.0393 (Cls: 0.0217, Reg: 0.0251)\n",
            "Val Acc: 0.8750 | Val F1: 0.8818 | Val Precision: 1.0000 | Val Recall: 0.8333\n",
            "Val MAE: 15.9023 | Val R2: 0.3734 | LR: 6.67e-07\n"
          ]
        },
        {
          "output_type": "stream",
          "name": "stderr",
          "text": [
            "<ipython-input-8-3051131134>:566: FutureWarning: `torch.cuda.amp.autocast(args...)` is deprecated. Please use `torch.amp.autocast('cuda', args...)` instead.\n",
            "  with autocast():\n",
            "<ipython-input-8-3051131134>:593: FutureWarning: `torch.cuda.amp.autocast(args...)` is deprecated. Please use `torch.amp.autocast('cuda', args...)` instead.\n",
            "  with torch.no_grad(), autocast():\n"
          ]
        },
        {
          "output_type": "stream",
          "name": "stdout",
          "text": [
            "EarlyStopping counter: 2/10, best min: 0.0349\n",
            "Epoch 49/100\n",
            "Train Loss: 0.0413 (Cls: 0.0132, Reg: 0.0402)\n",
            "Val Loss: 0.0447 (Cls: 0.0264, Reg: 0.0262)\n",
            "Val Acc: 0.8750 | Val F1: 0.8818 | Val Precision: 1.0000 | Val Recall: 0.8333\n",
            "Val MAE: 16.4699 | Val R2: 0.3445 | LR: 6.47e-07\n"
          ]
        },
        {
          "output_type": "stream",
          "name": "stderr",
          "text": [
            "<ipython-input-8-3051131134>:566: FutureWarning: `torch.cuda.amp.autocast(args...)` is deprecated. Please use `torch.amp.autocast('cuda', args...)` instead.\n",
            "  with autocast():\n",
            "<ipython-input-8-3051131134>:593: FutureWarning: `torch.cuda.amp.autocast(args...)` is deprecated. Please use `torch.amp.autocast('cuda', args...)` instead.\n",
            "  with torch.no_grad(), autocast():\n"
          ]
        },
        {
          "output_type": "stream",
          "name": "stdout",
          "text": [
            "EarlyStopping counter: 3/10, best min: 0.0349\n",
            "Epoch 50/100\n",
            "Train Loss: 0.0729 (Cls: 0.0438, Reg: 0.0416)\n",
            "Val Loss: 0.0470 (Cls: 0.0284, Reg: 0.0266)\n",
            "Val Acc: 0.8750 | Val F1: 0.8818 | Val Precision: 1.0000 | Val Recall: 0.8333\n",
            "Val MAE: 16.5411 | Val R2: 0.3339 | LR: 6.27e-07\n"
          ]
        },
        {
          "output_type": "stream",
          "name": "stderr",
          "text": [
            "<ipython-input-8-3051131134>:566: FutureWarning: `torch.cuda.amp.autocast(args...)` is deprecated. Please use `torch.amp.autocast('cuda', args...)` instead.\n",
            "  with autocast():\n",
            "<ipython-input-8-3051131134>:593: FutureWarning: `torch.cuda.amp.autocast(args...)` is deprecated. Please use `torch.amp.autocast('cuda', args...)` instead.\n",
            "  with torch.no_grad(), autocast():\n"
          ]
        },
        {
          "output_type": "stream",
          "name": "stdout",
          "text": [
            "EarlyStopping counter: 4/10, best min: 0.0349\n",
            "Epoch 51/100\n",
            "Train Loss: 0.0697 (Cls: 0.0370, Reg: 0.0467)\n",
            "Val Loss: 0.0485 (Cls: 0.0301, Reg: 0.0263)\n",
            "Val Acc: 0.8750 | Val F1: 0.8818 | Val Precision: 1.0000 | Val Recall: 0.8333\n",
            "Val MAE: 16.1898 | Val R2: 0.3414 | LR: 6.08e-07\n"
          ]
        },
        {
          "output_type": "stream",
          "name": "stderr",
          "text": [
            "<ipython-input-8-3051131134>:566: FutureWarning: `torch.cuda.amp.autocast(args...)` is deprecated. Please use `torch.amp.autocast('cuda', args...)` instead.\n",
            "  with autocast():\n",
            "<ipython-input-8-3051131134>:593: FutureWarning: `torch.cuda.amp.autocast(args...)` is deprecated. Please use `torch.amp.autocast('cuda', args...)` instead.\n",
            "  with torch.no_grad(), autocast():\n"
          ]
        }
      ]
    },
    {
      "cell_type": "code",
      "source": [],
      "metadata": {
        "id": "0qtWM6ETZdgZ"
      },
      "execution_count": null,
      "outputs": []
    },
    {
      "cell_type": "code",
      "source": [],
      "metadata": {
        "id": "_Pp6OeZXK7Na"
      },
      "execution_count": null,
      "outputs": []
    }
  ]
}